{
  "cells": [
    {
      "cell_type": "markdown",
      "metadata": {
        "id": "view-in-github",
        "colab_type": "text"
      },
      "source": [
        "<a href=\"https://colab.research.google.com/github/jongbokhi/master_thesis_2023/blob/main/GridSearch_Cross_validation.ipynb\" target=\"_parent\"><img src=\"https://colab.research.google.com/assets/colab-badge.svg\" alt=\"Open In Colab\"/></a>"
      ]
    },
    {
      "cell_type": "code",
      "execution_count": 1,
      "metadata": {
        "id": "GCUzM5jFbXfU"
      },
      "outputs": [],
      "source": [
        "import pandas as pd\n",
        "import numpy as np\n",
        "from imblearn.pipeline import make_pipeline\n",
        "from imblearn.under_sampling import EditedNearestNeighbours\n",
        "from imblearn.over_sampling import SMOTE\n",
        "from imblearn.combine import SMOTEENN\n",
        "\n",
        "from sklearn.ensemble import RandomForestClassifier\n",
        "from sklearn import tree\n",
        "from sklearn.svm import SVC\n",
        "from sklearn.naive_bayes import GaussianNB\n",
        "import joblib\n",
        "\n",
        "from sklearn.model_selection import cross_val_score, GridSearchCV, train_test_split, StratifiedKFold\n",
        "from sklearn.metrics import precision_recall_curve, auc, roc_curve, accuracy_score, f1_score, precision_score, recall_score, roc_auc_score, confusion_matrix, classification_report, ConfusionMatrixDisplay"
      ]
    },
    {
      "cell_type": "code",
      "execution_count": null,
      "metadata": {
        "id": "i5uFYy-sjmgC"
      },
      "outputs": [],
      "source": [
        "df_ids2018 = pd.read_csv('/content/drive/MyDrive/new_cic_ids_2018 data/extracted_ft_dos')"
      ]
    },
    {
      "cell_type": "code",
      "execution_count": null,
      "metadata": {
        "colab": {
          "base_uri": "https://localhost:8080/"
        },
        "id": "ATfWxduGf0Gy",
        "outputId": "1fed5203-9762-4e30-9f28-eedeea588ef1"
      },
      "outputs": [
        {
          "output_type": "stream",
          "name": "stdout",
          "text": [
            "Class distribution: \n"
          ]
        },
        {
          "output_type": "execute_result",
          "data": {
            "text/plain": [
              "0    1190978\n",
              "1     196868\n",
              "Name: Label, dtype: int64"
            ]
          },
          "metadata": {},
          "execution_count": 3
        }
      ],
      "source": [
        "print('Class distribution: ')\n",
        "df_ids2018['Label'].value_counts()"
      ]
    },
    {
      "cell_type": "code",
      "execution_count": null,
      "metadata": {
        "colab": {
          "base_uri": "https://localhost:8080/"
        },
        "id": "qGpqpQjBe84R",
        "outputId": "f5c2d84e-576e-4fee-dfca-52fd59a67b8f"
      },
      "outputs": [
        {
          "output_type": "stream",
          "name": "stdout",
          "text": [
            "Class distribution: \n"
          ]
        },
        {
          "output_type": "execute_result",
          "data": {
            "text/plain": [
              "0    119027\n",
              "1     19758\n",
              "Name: Label, dtype: int64"
            ]
          },
          "metadata": {},
          "execution_count": 4
        }
      ],
      "source": [
        "##Sampling\n",
        "df_ids2018 = df_ids2018.sample(frac=0.1, random_state=12).reset_index(drop=True)\n",
        "\n",
        "print('Class distribution: ')\n",
        "df_ids2018['Label'].value_counts()"
      ]
    },
    {
      "cell_type": "code",
      "execution_count": null,
      "metadata": {
        "id": "Al9nPPCYkw25"
      },
      "outputs": [],
      "source": [
        "##Sort the feature and Target variable\n",
        "ids2018_x = df_ids2018.drop('Label', axis=1).copy()\n",
        "ids2018_y = df_ids2018['Label'].copy()"
      ]
    },
    {
      "cell_type": "code",
      "execution_count": null,
      "metadata": {
        "id": "b4hTXKpdk2xC"
      },
      "outputs": [],
      "source": [
        "#1. Split dataset into Training, Validation and Testing set\n",
        "from sklearn.model_selection import train_test_split\n",
        "\n",
        "X_train, X_test, y_train, y_test = train_test_split(ids2018_x, ids2018_y, test_size=0.33, random_state=12, stratify=ids2018_y)\n",
        "#X_train_features, X_test, y_train_target, y_test = train_test_split(ids2018_x, ids2018_y, test_size=0.30, random_state=12, stratify=ids2018_y)\n",
        "\n",
        "#X_train, X_val, y_train, y_val = train_test_split(X_train_features, y_train_target, test_size =0.2, random_state=12, stratify=y_train_target)\n"
      ]
    },
    {
      "cell_type": "code",
      "source": [],
      "metadata": {
        "id": "EGaJhMHHXQ5Z"
      },
      "execution_count": null,
      "outputs": []
    },
    {
      "cell_type": "code",
      "execution_count": null,
      "metadata": {
        "id": "4CRer9y7fUSC"
      },
      "outputs": [],
      "source": [
        "# Scaling\n",
        "from sklearn.preprocessing import MinMaxScaler\n",
        "numerical_cols_train = X_train.columns\n",
        "numerical_cols_test = X_test.columns"
      ]
    },
    {
      "cell_type": "code",
      "execution_count": null,
      "metadata": {
        "id": "Tld9bSgFfnxy"
      },
      "outputs": [],
      "source": [
        "scaler = MinMaxScaler()\n",
        "X_train[numerical_cols_train] = scaler.fit_transform(X_train[numerical_cols_train])\n",
        "X_test[numerical_cols_test] = scaler.transform(X_test[numerical_cols_test])"
      ]
    },
    {
      "cell_type": "code",
      "execution_count": null,
      "metadata": {
        "id": "uhuNg_LjgLN5"
      },
      "outputs": [],
      "source": [
        "#reset index\n",
        "X_train.reset_index(drop=True, inplace=True)\n",
        "y_train.reset_index(drop=True, inplace=True)\n",
        "X_test.reset_index(drop=True, inplace=True)\n",
        "y_test.reset_index(drop=True, inplace=True)"
      ]
    },
    {
      "cell_type": "code",
      "source": [
        "##Save training and testing dataset\n",
        "\n",
        "X_train.to_csv(\"/content/drive/MyDrive/new_cic_ids_2018 data/X_train.csv\", index=False)\n",
        "\n",
        "y_train.to_csv(\"/content/drive/MyDrive/new_cic_ids_2018 data/y_train.csv\", index=False)\n",
        "\n",
        "X_test.to_csv(\"/content/drive/MyDrive/new_cic_ids_2018 data/X_test.csv\", index=False)\n",
        "\n",
        "y_test.to_csv(\"/content/drive/MyDrive/new_cic_ids_2018 data/y_test.csv\", index=False)"
      ],
      "metadata": {
        "id": "XQXyelYTWSGb"
      },
      "execution_count": null,
      "outputs": []
    },
    {
      "cell_type": "code",
      "source": [
        "X_train = pd.read_csv('/content/drive/MyDrive/new_cic_ids_2018 data/X_train.csv')\n",
        "y_train = pd.read_csv('/content/drive/MyDrive/new_cic_ids_2018 data/y_train.csv')\n",
        "X_test = pd.read_csv('/content/drive/MyDrive/new_cic_ids_2018 data/X_test.csv')\n",
        "y_test = pd.read_csv('/content/drive/MyDrive/new_cic_ids_2018 data/y_test.csv')"
      ],
      "metadata": {
        "id": "Wt3iKF5dXRnC"
      },
      "execution_count": 2,
      "outputs": []
    },
    {
      "cell_type": "code",
      "source": [
        "print(y_train.shape)"
      ],
      "metadata": {
        "colab": {
          "base_uri": "https://localhost:8080/"
        },
        "id": "n9H4wyj-8tbD",
        "outputId": "57a363bf-1e4b-4107-d082-ed59dd0ef019"
      },
      "execution_count": 5,
      "outputs": [
        {
          "output_type": "stream",
          "name": "stdout",
          "text": [
            "(92985, 1)\n"
          ]
        }
      ]
    },
    {
      "cell_type": "code",
      "source": [
        "print(y_train)"
      ],
      "metadata": {
        "colab": {
          "base_uri": "https://localhost:8080/"
        },
        "id": "x-xNEwnR83oz",
        "outputId": "3acdbf54-3cb1-4950-e689-e854f41de909"
      },
      "execution_count": 6,
      "outputs": [
        {
          "output_type": "stream",
          "name": "stdout",
          "text": [
            "       Label\n",
            "0          1\n",
            "1          0\n",
            "2          1\n",
            "3          0\n",
            "4          0\n",
            "...      ...\n",
            "92980      0\n",
            "92981      0\n",
            "92982      0\n",
            "92983      0\n",
            "92984      0\n",
            "\n",
            "[92985 rows x 1 columns]\n"
          ]
        }
      ]
    },
    {
      "cell_type": "code",
      "source": [
        "y_train = np.ravel(y_train)\n",
        "y_test = np.ravel(y_test)"
      ],
      "metadata": {
        "id": "sprnrnm28tfa"
      },
      "execution_count": 7,
      "outputs": []
    },
    {
      "cell_type": "code",
      "source": [
        "print(y_train)"
      ],
      "metadata": {
        "colab": {
          "base_uri": "https://localhost:8080/"
        },
        "id": "b9C5mw_C89Hj",
        "outputId": "476ecffe-ce06-4062-9ee6-29e61e298ff5"
      },
      "execution_count": 8,
      "outputs": [
        {
          "output_type": "stream",
          "name": "stdout",
          "text": [
            "[1 0 1 ... 0 0 0]\n"
          ]
        }
      ]
    },
    {
      "cell_type": "code",
      "execution_count": null,
      "metadata": {
        "id": "INJC29_9lE6Z"
      },
      "outputs": [],
      "source": [
        "'''\n",
        "# Standardize training dataset\n",
        "from sklearn.preprocessing import StandardScaler\n",
        "\n",
        "scaler = StandardScaler()\n",
        "X_train = pd.DataFrame(scaler.fit_transform(X_train))\n",
        "\n",
        "X_train.columns = ids2018_x.columns"
      ]
    },
    {
      "cell_type": "code",
      "execution_count": null,
      "metadata": {
        "colab": {
          "base_uri": "https://localhost:8080/"
        },
        "id": "xsW_vJg41175",
        "outputId": "668ac0d2-2d12-426d-89f1-fae9e359d68c"
      },
      "outputs": [
        {
          "name": "stdout",
          "output_type": "stream",
          "text": [
            "===============before==============\n",
            "Counter({0: 71255, 1: 11000})\n"
          ]
        },
        {
          "name": "stderr",
          "output_type": "stream",
          "text": [
            "/usr/local/lib/python3.10/dist-packages/imblearn/over_sampling/_smote/base.py:336: FutureWarning: The parameter `n_jobs` has been deprecated in 0.10 and will be removed in 0.12. You can pass an nearest neighbors estimator where `n_jobs` is already set instead.\n",
            "  warnings.warn(\n"
          ]
        },
        {
          "name": "stdout",
          "output_type": "stream",
          "text": [
            "===============after==============\n",
            "Counter({0: 71255, 1: 35627})\n"
          ]
        }
      ],
      "source": [
        "'''\n",
        "##Oversampling: SMOTE\n",
        "from collections import Counter\n",
        "from imblearn.over_sampling import SMOTE\n",
        "from matplotlib import pyplot\n",
        "from numpy import where\n",
        "\n",
        "# summarize class distribution\n",
        "counter = Counter(y_train)\n",
        "print(\"===============before==============\")\n",
        "print(counter)\n",
        "\n",
        "# define the undersampling method\n",
        "oversample = SMOTE(sampling_strategy= 0.5 , random_state=12, n_jobs= -1)\n",
        "# transform the dataset\n",
        "X_train, y_train = oversample.fit_resample(X_train, y_train)\n",
        "\n",
        "# summarize the new class distribution\n",
        "counter = Counter(y_train)\n",
        "print(\"===============after==============\")\n",
        "print(counter)"
      ]
    },
    {
      "cell_type": "code",
      "execution_count": null,
      "metadata": {
        "id": "9og5FNrupMb2"
      },
      "outputs": [],
      "source": [
        "'''\n",
        "##Undersampling: OneSidedSelection\n",
        "from collections import Counter\n",
        "from imblearn.under_sampling import OneSidedSelection\n",
        "from matplotlib import pyplot\n",
        "from numpy import where\n",
        "\n",
        "# summarize class distribution\n",
        "counter = Counter(ids2018_y)\n",
        "print(\"===============before==============\")\n",
        "print(counter)\n",
        "\n",
        "# define the undersampling method\n",
        "undersample = OneSidedSelection(n_neighbors=1, n_seeds_S=200)\n",
        "# transform the dataset\n",
        "ids2018_x, ids2018_y = undersample.fit_resample(ids2018_x, ids2018_y)\n",
        "# summarize the new class distribution\n",
        "counter = Counter(ids2018_y)\n",
        "print(\"===============after==============\")\n",
        "print(counter)\n",
        "'''"
      ]
    },
    {
      "cell_type": "code",
      "execution_count": null,
      "metadata": {
        "id": "qi_1I8e43cAz"
      },
      "outputs": [],
      "source": [
        "'''\n",
        "##Combination: Under and Oversampling\n",
        "from collections import Counter\n",
        "from imblearn.under_sampling import EditedNearestNeighbours\n",
        "from imblearn.over_sampling import SMOTE\n",
        "\n",
        "# summarize class distribution\n",
        "#counter = Counter(ids2018_y)\n",
        "#print(\"===============before==============\")\n",
        "#print(counter)\n",
        "# define the undersampling method\n",
        "#undersample = SMOTEENN(enn=EditedNearestNeighbours(sampling_strategy='majority'))\n",
        "# transform the dataset\n",
        "#ids2018_x, ids2018_y = undersample.fit_resample(ids2018_x, ids2018_y)\n",
        "# summarize the new class distribution\n",
        "#counter = Counter(ids2018_y)\n",
        "#print(\"===============after==============\")\n",
        "#print(counter)\n",
        "'''"
      ]
    },
    {
      "cell_type": "markdown",
      "metadata": {
        "id": "9g57HOLND2mA"
      },
      "source": [
        "\"\"\"\n",
        "### Procedure on this notebook\n",
        "\n",
        "\n",
        "1.Get GridSearch Result: Best hyperparameters, Best Scores\n",
        "\n",
        "2.Prediction using Estimator that was chosen by the GridSearch for test dataset\n",
        "\n",
        "3.Save the best hyperparameters for each model\n",
        "\n",
        "\"\"\""
      ]
    },
    {
      "cell_type": "markdown",
      "metadata": {
        "id": "RfYG5dH0u9Y4"
      },
      "source": [
        "## Optimize Hyperparameter of each models\n",
        "\n",
        "Models\n",
        "\n",
        ">Random Forest, Decision Tree, Naive Baye, SVM"
      ]
    },
    {
      "cell_type": "code",
      "execution_count": 3,
      "metadata": {
        "id": "bAA29cTrlpUp"
      },
      "outputs": [],
      "source": [
        "kf = StratifiedKFold(n_splits=5, random_state=13, shuffle=True)"
      ]
    },
    {
      "cell_type": "markdown",
      "metadata": {
        "id": "L1UsXN9ukP6i"
      },
      "source": [
        "##Random Forest\n"
      ]
    },
    {
      "cell_type": "code",
      "execution_count": null,
      "metadata": {
        "colab": {
          "base_uri": "https://localhost:8080/"
        },
        "id": "m25N8CkCU5dP",
        "outputId": "7868baf6-a51c-4270-bf7a-2b81daa03c2f"
      },
      "outputs": [
        {
          "output_type": "stream",
          "name": "stderr",
          "text": [
            "<ipython-input-20-de962fcb6c27>:6: DataConversionWarning: A column-vector y was passed when a 1d array was expected. Please change the shape of y to (n_samples,), for example using ravel().\n",
            "  rf.fit(X_train, y_train)\n"
          ]
        },
        {
          "output_type": "stream",
          "name": "stdout",
          "text": [
            "              precision    recall  f1-score   support\n",
            "\n",
            "           0       1.00      1.00      1.00     39280\n",
            "           1       1.00      1.00      1.00      6520\n",
            "\n",
            "    accuracy                           1.00     45800\n",
            "   macro avg       1.00      1.00      1.00     45800\n",
            "weighted avg       1.00      1.00      1.00     45800\n",
            "\n"
          ]
        }
      ],
      "source": [
        "##Baseline\n",
        "#the default hyperparameters\n",
        "rf = RandomForestClassifier(n_estimators=10, random_state=13, n_jobs=-1)\n",
        "\n",
        "# Fit model\n",
        "rf.fit(X_train, y_train)\n",
        "\n",
        "#predict\n",
        "rf_pred = rf.predict(X_test)\n",
        "\n",
        "# print prediction results\n",
        "print(classification_report(y_test, rf_pred))"
      ]
    },
    {
      "cell_type": "code",
      "execution_count": null,
      "metadata": {
        "id": "IdrOGWP-5Cz6"
      },
      "outputs": [],
      "source": []
    },
    {
      "cell_type": "code",
      "execution_count": null,
      "metadata": {
        "colab": {
          "base_uri": "https://localhost:8080/",
          "height": 124
        },
        "id": "ySnXsp-nj1Z4",
        "outputId": "ccc089b3-99a6-458a-a344-6d39fdb6fe33"
      },
      "outputs": [
        {
          "output_type": "execute_result",
          "data": {
            "text/plain": [
              "Pipeline(steps=[('smote',\n",
              "                 SMOTE(n_jobs=-1, random_state=12, sampling_strategy=1)),\n",
              "                ('randomforestclassifier',\n",
              "                 RandomForestClassifier(n_jobs=-1, random_state=13))])"
            ],
            "text/html": [
              "<style>#sk-container-id-2 {color: black;background-color: white;}#sk-container-id-2 pre{padding: 0;}#sk-container-id-2 div.sk-toggleable {background-color: white;}#sk-container-id-2 label.sk-toggleable__label {cursor: pointer;display: block;width: 100%;margin-bottom: 0;padding: 0.3em;box-sizing: border-box;text-align: center;}#sk-container-id-2 label.sk-toggleable__label-arrow:before {content: \"▸\";float: left;margin-right: 0.25em;color: #696969;}#sk-container-id-2 label.sk-toggleable__label-arrow:hover:before {color: black;}#sk-container-id-2 div.sk-estimator:hover label.sk-toggleable__label-arrow:before {color: black;}#sk-container-id-2 div.sk-toggleable__content {max-height: 0;max-width: 0;overflow: hidden;text-align: left;background-color: #f0f8ff;}#sk-container-id-2 div.sk-toggleable__content pre {margin: 0.2em;color: black;border-radius: 0.25em;background-color: #f0f8ff;}#sk-container-id-2 input.sk-toggleable__control:checked~div.sk-toggleable__content {max-height: 200px;max-width: 100%;overflow: auto;}#sk-container-id-2 input.sk-toggleable__control:checked~label.sk-toggleable__label-arrow:before {content: \"▾\";}#sk-container-id-2 div.sk-estimator input.sk-toggleable__control:checked~label.sk-toggleable__label {background-color: #d4ebff;}#sk-container-id-2 div.sk-label input.sk-toggleable__control:checked~label.sk-toggleable__label {background-color: #d4ebff;}#sk-container-id-2 input.sk-hidden--visually {border: 0;clip: rect(1px 1px 1px 1px);clip: rect(1px, 1px, 1px, 1px);height: 1px;margin: -1px;overflow: hidden;padding: 0;position: absolute;width: 1px;}#sk-container-id-2 div.sk-estimator {font-family: monospace;background-color: #f0f8ff;border: 1px dotted black;border-radius: 0.25em;box-sizing: border-box;margin-bottom: 0.5em;}#sk-container-id-2 div.sk-estimator:hover {background-color: #d4ebff;}#sk-container-id-2 div.sk-parallel-item::after {content: \"\";width: 100%;border-bottom: 1px solid gray;flex-grow: 1;}#sk-container-id-2 div.sk-label:hover label.sk-toggleable__label {background-color: #d4ebff;}#sk-container-id-2 div.sk-serial::before {content: \"\";position: absolute;border-left: 1px solid gray;box-sizing: border-box;top: 0;bottom: 0;left: 50%;z-index: 0;}#sk-container-id-2 div.sk-serial {display: flex;flex-direction: column;align-items: center;background-color: white;padding-right: 0.2em;padding-left: 0.2em;position: relative;}#sk-container-id-2 div.sk-item {position: relative;z-index: 1;}#sk-container-id-2 div.sk-parallel {display: flex;align-items: stretch;justify-content: center;background-color: white;position: relative;}#sk-container-id-2 div.sk-item::before, #sk-container-id-2 div.sk-parallel-item::before {content: \"\";position: absolute;border-left: 1px solid gray;box-sizing: border-box;top: 0;bottom: 0;left: 50%;z-index: -1;}#sk-container-id-2 div.sk-parallel-item {display: flex;flex-direction: column;z-index: 1;position: relative;background-color: white;}#sk-container-id-2 div.sk-parallel-item:first-child::after {align-self: flex-end;width: 50%;}#sk-container-id-2 div.sk-parallel-item:last-child::after {align-self: flex-start;width: 50%;}#sk-container-id-2 div.sk-parallel-item:only-child::after {width: 0;}#sk-container-id-2 div.sk-dashed-wrapped {border: 1px dashed gray;margin: 0 0.4em 0.5em 0.4em;box-sizing: border-box;padding-bottom: 0.4em;background-color: white;}#sk-container-id-2 div.sk-label label {font-family: monospace;font-weight: bold;display: inline-block;line-height: 1.2em;}#sk-container-id-2 div.sk-label-container {text-align: center;}#sk-container-id-2 div.sk-container {/* jupyter's `normalize.less` sets `[hidden] { display: none; }` but bootstrap.min.css set `[hidden] { display: none !important; }` so we also need the `!important` here to be able to override the default hidden behavior on the sphinx rendered scikit-learn.org. See: https://github.com/scikit-learn/scikit-learn/issues/21755 */display: inline-block !important;position: relative;}#sk-container-id-2 div.sk-text-repr-fallback {display: none;}</style><div id=\"sk-container-id-2\" class=\"sk-top-container\"><div class=\"sk-text-repr-fallback\"><pre>Pipeline(steps=[(&#x27;smote&#x27;,\n",
              "                 SMOTE(n_jobs=-1, random_state=12, sampling_strategy=1)),\n",
              "                (&#x27;randomforestclassifier&#x27;,\n",
              "                 RandomForestClassifier(n_jobs=-1, random_state=13))])</pre><b>In a Jupyter environment, please rerun this cell to show the HTML representation or trust the notebook. <br />On GitHub, the HTML representation is unable to render, please try loading this page with nbviewer.org.</b></div><div class=\"sk-container\" hidden><div class=\"sk-item sk-dashed-wrapped\"><div class=\"sk-label-container\"><div class=\"sk-label sk-toggleable\"><input class=\"sk-toggleable__control sk-hidden--visually\" id=\"sk-estimator-id-4\" type=\"checkbox\" ><label for=\"sk-estimator-id-4\" class=\"sk-toggleable__label sk-toggleable__label-arrow\">Pipeline</label><div class=\"sk-toggleable__content\"><pre>Pipeline(steps=[(&#x27;smote&#x27;,\n",
              "                 SMOTE(n_jobs=-1, random_state=12, sampling_strategy=1)),\n",
              "                (&#x27;randomforestclassifier&#x27;,\n",
              "                 RandomForestClassifier(n_jobs=-1, random_state=13))])</pre></div></div></div><div class=\"sk-serial\"><div class=\"sk-item\"><div class=\"sk-estimator sk-toggleable\"><input class=\"sk-toggleable__control sk-hidden--visually\" id=\"sk-estimator-id-5\" type=\"checkbox\" ><label for=\"sk-estimator-id-5\" class=\"sk-toggleable__label sk-toggleable__label-arrow\">SMOTE</label><div class=\"sk-toggleable__content\"><pre>SMOTE(n_jobs=-1, random_state=12, sampling_strategy=1)</pre></div></div></div><div class=\"sk-item\"><div class=\"sk-estimator sk-toggleable\"><input class=\"sk-toggleable__control sk-hidden--visually\" id=\"sk-estimator-id-6\" type=\"checkbox\" ><label for=\"sk-estimator-id-6\" class=\"sk-toggleable__label sk-toggleable__label-arrow\">RandomForestClassifier</label><div class=\"sk-toggleable__content\"><pre>RandomForestClassifier(n_jobs=-1, random_state=13)</pre></div></div></div></div></div></div></div>"
            ]
          },
          "metadata": {},
          "execution_count": 21
        }
      ],
      "source": [
        "\n",
        "rf_pipeline = make_pipeline(SMOTE(sampling_strategy= 1 , random_state=12, n_jobs= -1), RandomForestClassifier(n_estimators=100, random_state=13, n_jobs=-1))\n",
        "\n",
        "rf_pipeline"
      ]
    },
    {
      "cell_type": "code",
      "execution_count": null,
      "metadata": {
        "colab": {
          "base_uri": "https://localhost:8080/"
        },
        "id": "moAZuWY8kfHN",
        "outputId": "e3a194f8-f115-41c5-ab09-67b289ebab5e"
      },
      "outputs": [
        {
          "output_type": "execute_result",
          "data": {
            "text/plain": [
              "array([1.        , 1.        , 1.        , 0.99962221, 1.        ])"
            ]
          },
          "metadata": {},
          "execution_count": 22
        }
      ],
      "source": [
        "\n",
        "# evaluate pipeline\n",
        "\n",
        "cross_val_score(rf_pipeline, X_train, y_train, scoring='recall', cv=kf, n_jobs=-1)"
      ]
    },
    {
      "cell_type": "code",
      "execution_count": null,
      "metadata": {
        "colab": {
          "base_uri": "https://localhost:8080/"
        },
        "id": "i--s0Tzdslok",
        "outputId": "94bd7bb1-d216-4822-d9f7-552924348986"
      },
      "outputs": [
        {
          "output_type": "stream",
          "name": "stderr",
          "text": [
            "/usr/local/lib/python3.10/dist-packages/imblearn/over_sampling/_smote/base.py:336: FutureWarning: The parameter `n_jobs` has been deprecated in 0.10 and will be removed in 0.12. You can pass an nearest neighbors estimator where `n_jobs` is already set instead.\n",
            "  warnings.warn(\n",
            "/usr/local/lib/python3.10/dist-packages/imblearn/pipeline.py:297: DataConversionWarning: A column-vector y was passed when a 1d array was expected. Please change the shape of y to (n_samples,), for example using ravel().\n",
            "  self._final_estimator.fit(Xt, yt, **fit_params_last_step)\n"
          ]
        },
        {
          "output_type": "stream",
          "name": "stdout",
          "text": [
            "=================GridSearch Result=================\n",
            "\n",
            "GridSearch Best Score_recall: \n",
            "0.9998488855307895\n",
            "Best Hyperparameters: \n",
            "{'randomforestclassifier__criterion': 'gini', 'randomforestclassifier__max_depth': 50, 'randomforestclassifier__min_samples_leaf': 3, 'randomforestclassifier__min_samples_split': 8, 'randomforestclassifier__n_estimators': 50, 'randomforestclassifier__random_state': 13}\n",
            "\n",
            "===================================================\n",
            "CPU times: user 32.2 s, sys: 2.99 s, total: 35.2 s\n",
            "Wall time: 52min 23s\n"
          ]
        }
      ],
      "source": [
        "#GridSearch\n",
        "\n",
        "%%time\n",
        "\n",
        "rf_params = {\n",
        "             'criterion': ['gini', 'entropy'],\n",
        "             'n_estimators': [50, 100,200],\n",
        "             'min_samples_leaf': [3, 0.0001, 0.0005, 0.00001],\n",
        "             'min_samples_split': [8, 0.0005, 0.0001, 0.00001],\n",
        "             'max_depth': [50, 100, 200],\n",
        "             'random_state': [13]\n",
        "             }\n",
        "\n",
        "\n",
        "rf_new_params = {'randomforestclassifier__' + key: rf_params[key] for key in rf_params}\n",
        "\n",
        "rf_grid = GridSearchCV(rf_pipeline, param_grid=rf_new_params, cv=kf, scoring='recall', n_jobs=-1,\n",
        "                        return_train_score=True, verbose=0)\n",
        "#Fit\n",
        "rf_grid.fit(X_train, y_train)\n",
        "\n",
        "##the result of GridSearch\n",
        "\n",
        "  #Best Score: F1\n",
        "rf_best = rf_grid.best_score_\n",
        "  #Optimized hyperparameters\n",
        "rf_opt_params = rf_grid.best_params_\n",
        "\n",
        "print(\"=================GridSearch Result=================\")\n",
        "print()\n",
        "print(f\"GridSearch Best Score_recall: \\n{rf_best}\")\n",
        "print(f\"Best Hyperparameters: \\n{rf_opt_params}\")\n",
        "print()\n",
        "print(\"===================================================\")"
      ]
    },
    {
      "cell_type": "code",
      "execution_count": null,
      "metadata": {
        "colab": {
          "base_uri": "https://localhost:8080/"
        },
        "id": "7REpuwUB2SVi",
        "outputId": "23b5bb54-1fc1-415a-cb88-b6462d5e6f52"
      },
      "outputs": [
        {
          "output_type": "stream",
          "name": "stdout",
          "text": [
            "              precision    recall  f1-score   support\n",
            "\n",
            "           0       1.00      1.00      1.00     39280\n",
            "           1       1.00      1.00      1.00      6520\n",
            "\n",
            "    accuracy                           1.00     45800\n",
            "   macro avg       1.00      1.00      1.00     45800\n",
            "weighted avg       1.00      1.00      1.00     45800\n",
            "\n",
            "\n",
            "==================Evaluation Score==================\n",
            "test_Accuracy: \n",
            "0.9998689956331878\n",
            "test_F1: \n",
            "0.9995398773006134\n",
            "test_Recall: \n",
            "0.9995398773006134\n",
            "test_Precision: \n",
            "0.9995398773006134\n",
            "===================================================\n"
          ]
        }
      ],
      "source": [
        "##evaluate Model\n",
        "\n",
        "# Prediction using Estimator that was chosen by the GridSearch for testidation dataset\n",
        "model_rf = rf_grid.best_estimator_\n",
        "\n",
        "rf_test_pre = model_rf.predict(X_test)\n",
        "\n",
        "rf_accuracy = accuracy_score(y_test, rf_test_pre)\n",
        "rf_pre_f1 = f1_score(y_test, rf_test_pre)\n",
        "rf_recall = recall_score(y_test, rf_test_pre)\n",
        "rf_precison = precision_score(y_test, rf_test_pre)\n",
        "\n",
        "print(classification_report(y_test, rf_test_pre))\n",
        "print()\n",
        "print(\"==================Evaluation Score==================\")\n",
        "print(f\"test_Accuracy: \\n{rf_accuracy}\")\n",
        "print(f\"test_F1: \\n{rf_pre_f1}\")\n",
        "print(f\"test_Recall: \\n{rf_recall}\")\n",
        "print(f\"test_Precision: \\n{rf_precison}\")\n",
        "print(\"===================================================\")"
      ]
    },
    {
      "cell_type": "code",
      "execution_count": null,
      "metadata": {
        "colab": {
          "base_uri": "https://localhost:8080/"
        },
        "id": "zI-dAj3hOG05",
        "outputId": "d78dce7b-7628-4311-ee64-d17f17da0a88"
      },
      "outputs": [
        {
          "output_type": "execute_result",
          "data": {
            "text/plain": [
              "['/content/drive/MyDrive/saved_models/RandomForest_v2.pkl']"
            ]
          },
          "metadata": {},
          "execution_count": 25
        }
      ],
      "source": [
        "#Saving model\n",
        "joblib.dump(model_rf, \"/content/drive/MyDrive/saved_models/RandomForest_v2.pkl\")"
      ]
    },
    {
      "cell_type": "markdown",
      "metadata": {
        "id": "A08tVDYJ877J"
      },
      "source": [
        "##Naive Bayes"
      ]
    },
    {
      "cell_type": "code",
      "execution_count": 9,
      "metadata": {
        "colab": {
          "base_uri": "https://localhost:8080/"
        },
        "id": "eL36scAzSklX",
        "outputId": "a7fda562-a68f-4f58-de31-cc9a4040bde0"
      },
      "outputs": [
        {
          "output_type": "stream",
          "name": "stdout",
          "text": [
            "              precision    recall  f1-score   support\n",
            "\n",
            "           0       0.99      0.63      0.77     39280\n",
            "           1       0.30      0.96      0.46      6520\n",
            "\n",
            "    accuracy                           0.68     45800\n",
            "   macro avg       0.65      0.80      0.62     45800\n",
            "weighted avg       0.89      0.68      0.73     45800\n",
            "\n"
          ]
        }
      ],
      "source": [
        "##Baseline\n",
        "#the default hyperparameters\n",
        "nb = GaussianNB()\n",
        "\n",
        "# Fit model\n",
        "nb.fit(X_train, y_train)\n",
        "\n",
        "#predict\n",
        "nb_pred = nb.predict(X_test)\n",
        "\n",
        "# print prediction results\n",
        "print(classification_report(y_test, nb_pred))"
      ]
    },
    {
      "cell_type": "code",
      "execution_count": 10,
      "metadata": {
        "colab": {
          "base_uri": "https://localhost:8080/",
          "height": 125
        },
        "id": "hsON9BIH9AGo",
        "outputId": "c748326b-2d6e-452f-f423-9471e3f5b585"
      },
      "outputs": [
        {
          "output_type": "execute_result",
          "data": {
            "text/plain": [
              "Pipeline(steps=[('smote',\n",
              "                 SMOTE(n_jobs=-1, random_state=12, sampling_strategy=1)),\n",
              "                ('gaussiannb', GaussianNB())])"
            ],
            "text/html": [
              "<style>#sk-container-id-1 {color: black;background-color: white;}#sk-container-id-1 pre{padding: 0;}#sk-container-id-1 div.sk-toggleable {background-color: white;}#sk-container-id-1 label.sk-toggleable__label {cursor: pointer;display: block;width: 100%;margin-bottom: 0;padding: 0.3em;box-sizing: border-box;text-align: center;}#sk-container-id-1 label.sk-toggleable__label-arrow:before {content: \"▸\";float: left;margin-right: 0.25em;color: #696969;}#sk-container-id-1 label.sk-toggleable__label-arrow:hover:before {color: black;}#sk-container-id-1 div.sk-estimator:hover label.sk-toggleable__label-arrow:before {color: black;}#sk-container-id-1 div.sk-toggleable__content {max-height: 0;max-width: 0;overflow: hidden;text-align: left;background-color: #f0f8ff;}#sk-container-id-1 div.sk-toggleable__content pre {margin: 0.2em;color: black;border-radius: 0.25em;background-color: #f0f8ff;}#sk-container-id-1 input.sk-toggleable__control:checked~div.sk-toggleable__content {max-height: 200px;max-width: 100%;overflow: auto;}#sk-container-id-1 input.sk-toggleable__control:checked~label.sk-toggleable__label-arrow:before {content: \"▾\";}#sk-container-id-1 div.sk-estimator input.sk-toggleable__control:checked~label.sk-toggleable__label {background-color: #d4ebff;}#sk-container-id-1 div.sk-label input.sk-toggleable__control:checked~label.sk-toggleable__label {background-color: #d4ebff;}#sk-container-id-1 input.sk-hidden--visually {border: 0;clip: rect(1px 1px 1px 1px);clip: rect(1px, 1px, 1px, 1px);height: 1px;margin: -1px;overflow: hidden;padding: 0;position: absolute;width: 1px;}#sk-container-id-1 div.sk-estimator {font-family: monospace;background-color: #f0f8ff;border: 1px dotted black;border-radius: 0.25em;box-sizing: border-box;margin-bottom: 0.5em;}#sk-container-id-1 div.sk-estimator:hover {background-color: #d4ebff;}#sk-container-id-1 div.sk-parallel-item::after {content: \"\";width: 100%;border-bottom: 1px solid gray;flex-grow: 1;}#sk-container-id-1 div.sk-label:hover label.sk-toggleable__label {background-color: #d4ebff;}#sk-container-id-1 div.sk-serial::before {content: \"\";position: absolute;border-left: 1px solid gray;box-sizing: border-box;top: 0;bottom: 0;left: 50%;z-index: 0;}#sk-container-id-1 div.sk-serial {display: flex;flex-direction: column;align-items: center;background-color: white;padding-right: 0.2em;padding-left: 0.2em;position: relative;}#sk-container-id-1 div.sk-item {position: relative;z-index: 1;}#sk-container-id-1 div.sk-parallel {display: flex;align-items: stretch;justify-content: center;background-color: white;position: relative;}#sk-container-id-1 div.sk-item::before, #sk-container-id-1 div.sk-parallel-item::before {content: \"\";position: absolute;border-left: 1px solid gray;box-sizing: border-box;top: 0;bottom: 0;left: 50%;z-index: -1;}#sk-container-id-1 div.sk-parallel-item {display: flex;flex-direction: column;z-index: 1;position: relative;background-color: white;}#sk-container-id-1 div.sk-parallel-item:first-child::after {align-self: flex-end;width: 50%;}#sk-container-id-1 div.sk-parallel-item:last-child::after {align-self: flex-start;width: 50%;}#sk-container-id-1 div.sk-parallel-item:only-child::after {width: 0;}#sk-container-id-1 div.sk-dashed-wrapped {border: 1px dashed gray;margin: 0 0.4em 0.5em 0.4em;box-sizing: border-box;padding-bottom: 0.4em;background-color: white;}#sk-container-id-1 div.sk-label label {font-family: monospace;font-weight: bold;display: inline-block;line-height: 1.2em;}#sk-container-id-1 div.sk-label-container {text-align: center;}#sk-container-id-1 div.sk-container {/* jupyter's `normalize.less` sets `[hidden] { display: none; }` but bootstrap.min.css set `[hidden] { display: none !important; }` so we also need the `!important` here to be able to override the default hidden behavior on the sphinx rendered scikit-learn.org. See: https://github.com/scikit-learn/scikit-learn/issues/21755 */display: inline-block !important;position: relative;}#sk-container-id-1 div.sk-text-repr-fallback {display: none;}</style><div id=\"sk-container-id-1\" class=\"sk-top-container\"><div class=\"sk-text-repr-fallback\"><pre>Pipeline(steps=[(&#x27;smote&#x27;,\n",
              "                 SMOTE(n_jobs=-1, random_state=12, sampling_strategy=1)),\n",
              "                (&#x27;gaussiannb&#x27;, GaussianNB())])</pre><b>In a Jupyter environment, please rerun this cell to show the HTML representation or trust the notebook. <br />On GitHub, the HTML representation is unable to render, please try loading this page with nbviewer.org.</b></div><div class=\"sk-container\" hidden><div class=\"sk-item sk-dashed-wrapped\"><div class=\"sk-label-container\"><div class=\"sk-label sk-toggleable\"><input class=\"sk-toggleable__control sk-hidden--visually\" id=\"sk-estimator-id-1\" type=\"checkbox\" ><label for=\"sk-estimator-id-1\" class=\"sk-toggleable__label sk-toggleable__label-arrow\">Pipeline</label><div class=\"sk-toggleable__content\"><pre>Pipeline(steps=[(&#x27;smote&#x27;,\n",
              "                 SMOTE(n_jobs=-1, random_state=12, sampling_strategy=1)),\n",
              "                (&#x27;gaussiannb&#x27;, GaussianNB())])</pre></div></div></div><div class=\"sk-serial\"><div class=\"sk-item\"><div class=\"sk-estimator sk-toggleable\"><input class=\"sk-toggleable__control sk-hidden--visually\" id=\"sk-estimator-id-2\" type=\"checkbox\" ><label for=\"sk-estimator-id-2\" class=\"sk-toggleable__label sk-toggleable__label-arrow\">SMOTE</label><div class=\"sk-toggleable__content\"><pre>SMOTE(n_jobs=-1, random_state=12, sampling_strategy=1)</pre></div></div></div><div class=\"sk-item\"><div class=\"sk-estimator sk-toggleable\"><input class=\"sk-toggleable__control sk-hidden--visually\" id=\"sk-estimator-id-3\" type=\"checkbox\" ><label for=\"sk-estimator-id-3\" class=\"sk-toggleable__label sk-toggleable__label-arrow\">GaussianNB</label><div class=\"sk-toggleable__content\"><pre>GaussianNB()</pre></div></div></div></div></div></div></div>"
            ]
          },
          "metadata": {},
          "execution_count": 10
        }
      ],
      "source": [
        "nb_pipeline = make_pipeline(SMOTE(sampling_strategy= 1 , random_state=12, n_jobs= -1), GaussianNB())\n",
        "\n",
        "nb_pipeline"
      ]
    },
    {
      "cell_type": "code",
      "execution_count": 14,
      "metadata": {
        "colab": {
          "base_uri": "https://localhost:8080/"
        },
        "id": "N9zffSq29ItA",
        "outputId": "35b9bb5a-188e-4afc-d508-16fe001a303c"
      },
      "outputs": [
        {
          "output_type": "execute_result",
          "data": {
            "text/plain": [
              "array([0.66591386, 0.67129107, 0.66940904, 0.66946282, 0.67849653])"
            ]
          },
          "metadata": {},
          "execution_count": 14
        }
      ],
      "source": [
        "cross_val_score(nb_pipeline, X_train, y_train, scoring='accuracy', cv=kf, n_jobs=-1)"
      ]
    },
    {
      "cell_type": "code",
      "execution_count": 17,
      "metadata": {
        "id": "z32QW_CbLDuX",
        "colab": {
          "base_uri": "https://localhost:8080/"
        },
        "outputId": "baf31264-e835-40a4-fc2a-b98c600c3b96"
      },
      "outputs": [
        {
          "output_type": "stream",
          "name": "stderr",
          "text": [
            "/usr/local/lib/python3.10/dist-packages/imblearn/over_sampling/_smote/base.py:336: FutureWarning: The parameter `n_jobs` has been deprecated in 0.10 and will be removed in 0.12. You can pass an nearest neighbors estimator where `n_jobs` is already set instead.\n",
            "  warnings.warn(\n"
          ]
        },
        {
          "output_type": "stream",
          "name": "stdout",
          "text": [
            "=================GridSearch Result=================\n",
            "\n",
            "GridSearch Best Score_Recall: \n",
            "0.9920524815830511\n",
            "Best Hyperparameters: \n",
            "{'gaussiannb__var_smoothing': 0.0002310129700083158}\n",
            "\n",
            "===================================================\n",
            "CPU times: user 4.06 s, sys: 1.15 s, total: 5.21 s\n",
            "Wall time: 52.8 s\n"
          ]
        }
      ],
      "source": [
        "#GridSearch\n",
        "%%time\n",
        "\n",
        "nb_params = [{'var_smoothing': np.logspace(0, -9, num=100)}]\n",
        "\n",
        "\n",
        "nb_new_params = {'gaussiannb__' + key: value for param in nb_params for key, value in param.items()}\n",
        "\n",
        "#nb_new_params = {'naivebayesclassifier__' + key: nb_params[key] for key in nb_params}\n",
        "\n",
        "nb_grid = GridSearchCV(nb_pipeline, param_grid=nb_new_params, cv=kf, scoring='accuracy', n_jobs=-1,\n",
        "                        return_train_score=True, verbose=0)\n",
        "\n",
        "#Fit\n",
        "nb_grid.fit(X_train, y_train)\n",
        "\n",
        "##the result of GridSearch\n",
        "\n",
        "  #Best Score: Accuracy\n",
        "nb_best = nb_grid.best_score_\n",
        "  #Optimized hyperparameters\n",
        "nb_opt_params = nb_grid.best_params_\n",
        "\n",
        "print(\"=================GridSearch Result=================\")\n",
        "print()\n",
        "print(f\"GridSearch Best Score_Recall: \\n{nb_best}\")\n",
        "print(f\"Best Hyperparameters: \\n{nb_opt_params}\")\n",
        "print()\n",
        "print(\"===================================================\")"
      ]
    },
    {
      "cell_type": "code",
      "execution_count": 18,
      "metadata": {
        "colab": {
          "base_uri": "https://localhost:8080/"
        },
        "id": "xn4tTiuzLDxH",
        "outputId": "239fcf2d-f45e-45ab-8e13-9adff8773d6a"
      },
      "outputs": [
        {
          "output_type": "stream",
          "name": "stdout",
          "text": [
            "              precision    recall  f1-score   support\n",
            "\n",
            "           0       1.00      0.99      0.99     39280\n",
            "           1       0.96      0.98      0.97      6520\n",
            "\n",
            "    accuracy                           0.99     45800\n",
            "   macro avg       0.98      0.99      0.98     45800\n",
            "weighted avg       0.99      0.99      0.99     45800\n",
            "\n",
            "\n",
            "==================Evaluation Score==================\n",
            "test_Accuaracy: \n",
            "0.990938864628821\n",
            "test_F1: \n",
            "0.9684770224078997\n",
            "test_Recall: \n",
            "0.977760736196319\n",
            "test_Precison: \n",
            "0.9593679458239278\n",
            "===================================================\n"
          ]
        }
      ],
      "source": [
        "##Evaluate Model\n",
        "\n",
        "# Prediction using Estimator that was chosen by the GridSearch for test dataset\n",
        "model_nb = nb_grid.best_estimator_\n",
        "nb_test_pre = model_nb.predict(X_test)\n",
        "\n",
        "\n",
        "nb_pre_accuracy = accuracy_score(y_test, nb_test_pre)\n",
        "nb_pre_f1 = f1_score(y_test, nb_test_pre)\n",
        "nb_recall = recall_score(y_test, nb_test_pre)\n",
        "nb_precision = precision_score(y_test, nb_test_pre)\n",
        "\n",
        "print(classification_report(y_test, nb_test_pre))\n",
        "print()\n",
        "print(\"==================Evaluation Score==================\")\n",
        "print(f\"test_Accuaracy: \\n{nb_pre_accuracy}\")\n",
        "print(f\"test_F1: \\n{nb_pre_f1}\")\n",
        "print(f\"test_Recall: \\n{nb_recall}\")\n",
        "print(f\"test_Precison: \\n{nb_precision}\")\n",
        "print(\"===================================================\")"
      ]
    },
    {
      "cell_type": "code",
      "execution_count": 19,
      "metadata": {
        "colab": {
          "base_uri": "https://localhost:8080/"
        },
        "id": "JSHfEvj-N7sn",
        "outputId": "7d463bc7-41df-41bf-91d9-9fbc1aa3d987"
      },
      "outputs": [
        {
          "output_type": "execute_result",
          "data": {
            "text/plain": [
              "['/content/drive/MyDrive/saved_models/NaiveBayes_v2.pkl']"
            ]
          },
          "metadata": {},
          "execution_count": 19
        }
      ],
      "source": [
        "#Saving model\n",
        "joblib.dump(model_nb, \"/content/drive/MyDrive/saved_models/NaiveBayes_v2.pkl\")"
      ]
    },
    {
      "cell_type": "markdown",
      "metadata": {
        "id": "WdmB6fhjOmOy"
      },
      "source": [
        "##Support Vector Machine"
      ]
    },
    {
      "cell_type": "code",
      "execution_count": 20,
      "metadata": {
        "colab": {
          "base_uri": "https://localhost:8080/"
        },
        "id": "hd42HDsVVJYt",
        "outputId": "0218e1de-607e-4408-f29c-e4903052a33f"
      },
      "outputs": [
        {
          "output_type": "stream",
          "name": "stdout",
          "text": [
            "              precision    recall  f1-score   support\n",
            "\n",
            "           0       1.00      1.00      1.00     39280\n",
            "           1       0.97      1.00      0.99      6520\n",
            "\n",
            "    accuracy                           1.00     45800\n",
            "   macro avg       0.99      1.00      0.99     45800\n",
            "weighted avg       1.00      1.00      1.00     45800\n",
            "\n"
          ]
        }
      ],
      "source": [
        "##Baseline\n",
        "#the default hyperparameters\n",
        "svc = SVC()\n",
        "# Fit model\n",
        "svc.fit(X_train, y_train)\n",
        "\n",
        "#predict\n",
        "svc_pred = svc.predict(X_test)\n",
        "\n",
        "# print prediction results\n",
        "print(classification_report(y_test, svc_pred))"
      ]
    },
    {
      "cell_type": "code",
      "execution_count": 21,
      "metadata": {
        "colab": {
          "base_uri": "https://localhost:8080/",
          "height": 125
        },
        "id": "TjzBq3VMOldH",
        "outputId": "94ea4895-ecc6-436c-f89c-7695172852eb"
      },
      "outputs": [
        {
          "output_type": "execute_result",
          "data": {
            "text/plain": [
              "Pipeline(steps=[('smote',\n",
              "                 SMOTE(n_jobs=-1, random_state=12, sampling_strategy=1)),\n",
              "                ('svc', SVC())])"
            ],
            "text/html": [
              "<style>#sk-container-id-2 {color: black;background-color: white;}#sk-container-id-2 pre{padding: 0;}#sk-container-id-2 div.sk-toggleable {background-color: white;}#sk-container-id-2 label.sk-toggleable__label {cursor: pointer;display: block;width: 100%;margin-bottom: 0;padding: 0.3em;box-sizing: border-box;text-align: center;}#sk-container-id-2 label.sk-toggleable__label-arrow:before {content: \"▸\";float: left;margin-right: 0.25em;color: #696969;}#sk-container-id-2 label.sk-toggleable__label-arrow:hover:before {color: black;}#sk-container-id-2 div.sk-estimator:hover label.sk-toggleable__label-arrow:before {color: black;}#sk-container-id-2 div.sk-toggleable__content {max-height: 0;max-width: 0;overflow: hidden;text-align: left;background-color: #f0f8ff;}#sk-container-id-2 div.sk-toggleable__content pre {margin: 0.2em;color: black;border-radius: 0.25em;background-color: #f0f8ff;}#sk-container-id-2 input.sk-toggleable__control:checked~div.sk-toggleable__content {max-height: 200px;max-width: 100%;overflow: auto;}#sk-container-id-2 input.sk-toggleable__control:checked~label.sk-toggleable__label-arrow:before {content: \"▾\";}#sk-container-id-2 div.sk-estimator input.sk-toggleable__control:checked~label.sk-toggleable__label {background-color: #d4ebff;}#sk-container-id-2 div.sk-label input.sk-toggleable__control:checked~label.sk-toggleable__label {background-color: #d4ebff;}#sk-container-id-2 input.sk-hidden--visually {border: 0;clip: rect(1px 1px 1px 1px);clip: rect(1px, 1px, 1px, 1px);height: 1px;margin: -1px;overflow: hidden;padding: 0;position: absolute;width: 1px;}#sk-container-id-2 div.sk-estimator {font-family: monospace;background-color: #f0f8ff;border: 1px dotted black;border-radius: 0.25em;box-sizing: border-box;margin-bottom: 0.5em;}#sk-container-id-2 div.sk-estimator:hover {background-color: #d4ebff;}#sk-container-id-2 div.sk-parallel-item::after {content: \"\";width: 100%;border-bottom: 1px solid gray;flex-grow: 1;}#sk-container-id-2 div.sk-label:hover label.sk-toggleable__label {background-color: #d4ebff;}#sk-container-id-2 div.sk-serial::before {content: \"\";position: absolute;border-left: 1px solid gray;box-sizing: border-box;top: 0;bottom: 0;left: 50%;z-index: 0;}#sk-container-id-2 div.sk-serial {display: flex;flex-direction: column;align-items: center;background-color: white;padding-right: 0.2em;padding-left: 0.2em;position: relative;}#sk-container-id-2 div.sk-item {position: relative;z-index: 1;}#sk-container-id-2 div.sk-parallel {display: flex;align-items: stretch;justify-content: center;background-color: white;position: relative;}#sk-container-id-2 div.sk-item::before, #sk-container-id-2 div.sk-parallel-item::before {content: \"\";position: absolute;border-left: 1px solid gray;box-sizing: border-box;top: 0;bottom: 0;left: 50%;z-index: -1;}#sk-container-id-2 div.sk-parallel-item {display: flex;flex-direction: column;z-index: 1;position: relative;background-color: white;}#sk-container-id-2 div.sk-parallel-item:first-child::after {align-self: flex-end;width: 50%;}#sk-container-id-2 div.sk-parallel-item:last-child::after {align-self: flex-start;width: 50%;}#sk-container-id-2 div.sk-parallel-item:only-child::after {width: 0;}#sk-container-id-2 div.sk-dashed-wrapped {border: 1px dashed gray;margin: 0 0.4em 0.5em 0.4em;box-sizing: border-box;padding-bottom: 0.4em;background-color: white;}#sk-container-id-2 div.sk-label label {font-family: monospace;font-weight: bold;display: inline-block;line-height: 1.2em;}#sk-container-id-2 div.sk-label-container {text-align: center;}#sk-container-id-2 div.sk-container {/* jupyter's `normalize.less` sets `[hidden] { display: none; }` but bootstrap.min.css set `[hidden] { display: none !important; }` so we also need the `!important` here to be able to override the default hidden behavior on the sphinx rendered scikit-learn.org. See: https://github.com/scikit-learn/scikit-learn/issues/21755 */display: inline-block !important;position: relative;}#sk-container-id-2 div.sk-text-repr-fallback {display: none;}</style><div id=\"sk-container-id-2\" class=\"sk-top-container\"><div class=\"sk-text-repr-fallback\"><pre>Pipeline(steps=[(&#x27;smote&#x27;,\n",
              "                 SMOTE(n_jobs=-1, random_state=12, sampling_strategy=1)),\n",
              "                (&#x27;svc&#x27;, SVC())])</pre><b>In a Jupyter environment, please rerun this cell to show the HTML representation or trust the notebook. <br />On GitHub, the HTML representation is unable to render, please try loading this page with nbviewer.org.</b></div><div class=\"sk-container\" hidden><div class=\"sk-item sk-dashed-wrapped\"><div class=\"sk-label-container\"><div class=\"sk-label sk-toggleable\"><input class=\"sk-toggleable__control sk-hidden--visually\" id=\"sk-estimator-id-4\" type=\"checkbox\" ><label for=\"sk-estimator-id-4\" class=\"sk-toggleable__label sk-toggleable__label-arrow\">Pipeline</label><div class=\"sk-toggleable__content\"><pre>Pipeline(steps=[(&#x27;smote&#x27;,\n",
              "                 SMOTE(n_jobs=-1, random_state=12, sampling_strategy=1)),\n",
              "                (&#x27;svc&#x27;, SVC())])</pre></div></div></div><div class=\"sk-serial\"><div class=\"sk-item\"><div class=\"sk-estimator sk-toggleable\"><input class=\"sk-toggleable__control sk-hidden--visually\" id=\"sk-estimator-id-5\" type=\"checkbox\" ><label for=\"sk-estimator-id-5\" class=\"sk-toggleable__label sk-toggleable__label-arrow\">SMOTE</label><div class=\"sk-toggleable__content\"><pre>SMOTE(n_jobs=-1, random_state=12, sampling_strategy=1)</pre></div></div></div><div class=\"sk-item\"><div class=\"sk-estimator sk-toggleable\"><input class=\"sk-toggleable__control sk-hidden--visually\" id=\"sk-estimator-id-6\" type=\"checkbox\" ><label for=\"sk-estimator-id-6\" class=\"sk-toggleable__label sk-toggleable__label-arrow\">SVC</label><div class=\"sk-toggleable__content\"><pre>SVC()</pre></div></div></div></div></div></div></div>"
            ]
          },
          "metadata": {},
          "execution_count": 21
        }
      ],
      "source": [
        "svc_pipeline = make_pipeline(SMOTE(sampling_strategy= 1 , random_state=12, n_jobs= -1), SVC())\n",
        "\n",
        "svc_pipeline"
      ]
    },
    {
      "cell_type": "code",
      "execution_count": 22,
      "metadata": {
        "colab": {
          "base_uri": "https://localhost:8080/"
        },
        "id": "8qlQQldxVgSX",
        "outputId": "bd3ae9cc-89f4-49d4-aec6-e3b358b23074"
      },
      "outputs": [
        {
          "output_type": "execute_result",
          "data": {
            "text/plain": [
              "array([0.99962236, 1.        , 0.99962236, 0.99924443, 0.99962221])"
            ]
          },
          "metadata": {},
          "execution_count": 22
        }
      ],
      "source": [
        "cross_val_score(svc_pipeline, X_train, y_train, scoring='recall', cv=kf, n_jobs=-1)"
      ]
    },
    {
      "cell_type": "code",
      "execution_count": 23,
      "metadata": {
        "colab": {
          "base_uri": "https://localhost:8080/"
        },
        "id": "TbcTRVQWVhBW",
        "outputId": "8ec4b249-782b-40a9-d023-54500effdd2f"
      },
      "outputs": [
        {
          "output_type": "stream",
          "name": "stderr",
          "text": [
            "/usr/local/lib/python3.10/dist-packages/imblearn/over_sampling/_smote/base.py:336: FutureWarning: The parameter `n_jobs` has been deprecated in 0.10 and will be removed in 0.12. You can pass an nearest neighbors estimator where `n_jobs` is already set instead.\n",
            "  warnings.warn(\n"
          ]
        },
        {
          "output_type": "stream",
          "name": "stdout",
          "text": [
            "=================GridSearch Result=================\n",
            "\n",
            "GridSearch Best Score_Recall: \n",
            "0.9996222708943716\n",
            "Best Hyperparameters: \n",
            "{'svc__C': 10, 'svc__gamma': 1, 'svc__kernel': 'rbf'}\n",
            "\n",
            "===================================================\n",
            "CPU times: user 4min 43s, sys: 2.51 s, total: 4min 45s\n",
            "Wall time: 41min 55s\n"
          ]
        }
      ],
      "source": [
        "#GridSearch\n",
        "%%time\n",
        "\n",
        "svc_params =  {'C': [1, 10],\n",
        "                'gamma': [1, 0.1],\n",
        "                'kernel': ['rbf', 'linear']\n",
        "                }\n",
        "\n",
        "\n",
        "svc_new_params = {'svc__' + key: svc_params[key] for key in svc_params}\n",
        "\n",
        "svc_grid = GridSearchCV(svc_pipeline, param_grid=svc_new_params, cv=kf, scoring='recall', n_jobs=-1,\n",
        "                        return_train_score=True, verbose=0)\n",
        "\n",
        "#Fit\n",
        "svc_grid.fit(X_train, y_train)\n",
        "\n",
        "##the result of GridSearch\n",
        "\n",
        "  #Best Score: Recall\n",
        "svc_best = svc_grid.best_score_\n",
        "  #Optimized hyperparameters\n",
        "svc_opt_params = svc_grid.best_params_\n",
        "\n",
        "print(\"=================GridSearch Result=================\")\n",
        "print()\n",
        "print(f\"GridSearch Best Score_Recall: \\n{svc_best}\")\n",
        "print(f\"Best Hyperparameters: \\n{svc_opt_params}\")\n",
        "print()\n",
        "print(\"===================================================\")"
      ]
    },
    {
      "cell_type": "code",
      "execution_count": 24,
      "metadata": {
        "id": "TEMLznxMVhEE",
        "colab": {
          "base_uri": "https://localhost:8080/"
        },
        "outputId": "4c00267a-1c7f-46ac-a4e7-08b16ed4524f"
      },
      "outputs": [
        {
          "output_type": "stream",
          "name": "stdout",
          "text": [
            "              precision    recall  f1-score   support\n",
            "\n",
            "           0       1.00      1.00      1.00     39280\n",
            "           1       0.97      1.00      0.99      6520\n",
            "\n",
            "    accuracy                           1.00     45800\n",
            "   macro avg       0.99      1.00      0.99     45800\n",
            "weighted avg       1.00      1.00      1.00     45800\n",
            "\n",
            "\n",
            "==================Evaluation Score==================\n",
            "test_Accuracy: \n",
            "0.9958515283842795\n",
            "test_F1: \n",
            "0.9856191341204965\n",
            "test_Recall: \n",
            "0.9986196319018404\n",
            "test_Precision: \n",
            "0.9729527794381351\n",
            "===================================================\n"
          ]
        }
      ],
      "source": [
        "##Evaluate Model\n",
        "\n",
        "# Prediction using Estimator that was chosen by the GridSearch for test dataset\n",
        "model_svc = svc_grid.best_estimator_\n",
        "svc_test_pre = model_svc.predict(X_test)\n",
        "\n",
        "svc_pre_accuracy = accuracy_score(y_test, svc_test_pre)\n",
        "svc_pre_f1 = f1_score(y_test, svc_test_pre)\n",
        "svc_recall= recall_score(y_test, svc_test_pre)\n",
        "svc_precision = precision_score(y_test, svc_test_pre)\n",
        "\n",
        "print(classification_report(y_test, svc_test_pre))\n",
        "print()\n",
        "print(\"==================Evaluation Score==================\")\n",
        "print(f\"test_Accuracy: \\n{svc_pre_accuracy}\")\n",
        "print(f\"test_F1: \\n{svc_pre_f1}\")\n",
        "print(f\"test_Recall: \\n{svc_recall}\")\n",
        "print(f\"test_Precision: \\n{svc_precision}\")\n",
        "print(\"===================================================\")"
      ]
    },
    {
      "cell_type": "code",
      "execution_count": 25,
      "metadata": {
        "id": "sTnLGgDoN2en",
        "colab": {
          "base_uri": "https://localhost:8080/"
        },
        "outputId": "5bee9e60-0942-421d-c2fa-02e774845b84"
      },
      "outputs": [
        {
          "output_type": "execute_result",
          "data": {
            "text/plain": [
              "['/content/drive/MyDrive/saved_models/SVC_v2.pkl']"
            ]
          },
          "metadata": {},
          "execution_count": 25
        }
      ],
      "source": [
        "#Saving model\n",
        "joblib.dump(model_svc, \"/content/drive/MyDrive/saved_models/SVC_v2.pkl\")"
      ]
    },
    {
      "cell_type": "markdown",
      "metadata": {
        "id": "zXx_WH0AGdcp"
      },
      "source": [
        "##XGBoost"
      ]
    },
    {
      "cell_type": "code",
      "execution_count": 26,
      "metadata": {
        "colab": {
          "base_uri": "https://localhost:8080/"
        },
        "id": "apGFNDqEA2pM",
        "outputId": "5904e18e-9e21-402c-a112-035e624c8430"
      },
      "outputs": [
        {
          "output_type": "stream",
          "name": "stdout",
          "text": [
            "              precision    recall  f1-score   support\n",
            "\n",
            "           0       1.00      1.00      1.00     39280\n",
            "           1       1.00      1.00      1.00      6520\n",
            "\n",
            "    accuracy                           1.00     45800\n",
            "   macro avg       1.00      1.00      1.00     45800\n",
            "weighted avg       1.00      1.00      1.00     45800\n",
            "\n"
          ]
        }
      ],
      "source": [
        "##Baseline\n",
        "from xgboost import XGBClassifier\n",
        "#the default hyperparameters\n",
        "xgb = XGBClassifier(objective= 'binary:logistic', seed=42)\n",
        "# Fit model\n",
        "xgb.fit(X_train, y_train)\n",
        "\n",
        "#predict\n",
        "xgb_pred = xgb.predict(X_test)\n",
        "\n",
        "# print prediction results\n",
        "print(classification_report(y_test, xgb_pred))"
      ]
    },
    {
      "cell_type": "code",
      "execution_count": 27,
      "metadata": {
        "colab": {
          "base_uri": "https://localhost:8080/",
          "height": 125
        },
        "id": "TAFeea6STh9X",
        "outputId": "1bb9470c-2529-4718-da32-ffe0c92431d1"
      },
      "outputs": [
        {
          "output_type": "execute_result",
          "data": {
            "text/plain": [
              "Pipeline(steps=[('smote',\n",
              "                 SMOTE(n_jobs=-1, random_state=12, sampling_strategy=1)),\n",
              "                ('xgbclassifier',\n",
              "                 XGBClassifier(base_score=None, booster=None, callbacks=None,\n",
              "                               colsample_bylevel=None, colsample_bynode=None,\n",
              "                               colsample_bytree=None,\n",
              "                               early_stopping_rounds=None,\n",
              "                               enable_categorical=False, eval_metric=None,\n",
              "                               feature_types=None, gamma=None, gpu_id=None,\n",
              "                               grow_policy=None, importance_type=None,\n",
              "                               interaction_constraints=None, learning_rate=None,\n",
              "                               max_bin=None, max_cat_threshold=None,\n",
              "                               max_cat_to_onehot=None, max_delta_step=None,\n",
              "                               max_depth=None, max_leaves=None,\n",
              "                               min_child_weight=None, missing=nan,\n",
              "                               monotone_constraints=None, n_estimators=100,\n",
              "                               n_jobs=None, num_parallel_tree=None,\n",
              "                               predictor=None, random_state=None, ...))])"
            ],
            "text/html": [
              "<style>#sk-container-id-3 {color: black;background-color: white;}#sk-container-id-3 pre{padding: 0;}#sk-container-id-3 div.sk-toggleable {background-color: white;}#sk-container-id-3 label.sk-toggleable__label {cursor: pointer;display: block;width: 100%;margin-bottom: 0;padding: 0.3em;box-sizing: border-box;text-align: center;}#sk-container-id-3 label.sk-toggleable__label-arrow:before {content: \"▸\";float: left;margin-right: 0.25em;color: #696969;}#sk-container-id-3 label.sk-toggleable__label-arrow:hover:before {color: black;}#sk-container-id-3 div.sk-estimator:hover label.sk-toggleable__label-arrow:before {color: black;}#sk-container-id-3 div.sk-toggleable__content {max-height: 0;max-width: 0;overflow: hidden;text-align: left;background-color: #f0f8ff;}#sk-container-id-3 div.sk-toggleable__content pre {margin: 0.2em;color: black;border-radius: 0.25em;background-color: #f0f8ff;}#sk-container-id-3 input.sk-toggleable__control:checked~div.sk-toggleable__content {max-height: 200px;max-width: 100%;overflow: auto;}#sk-container-id-3 input.sk-toggleable__control:checked~label.sk-toggleable__label-arrow:before {content: \"▾\";}#sk-container-id-3 div.sk-estimator input.sk-toggleable__control:checked~label.sk-toggleable__label {background-color: #d4ebff;}#sk-container-id-3 div.sk-label input.sk-toggleable__control:checked~label.sk-toggleable__label {background-color: #d4ebff;}#sk-container-id-3 input.sk-hidden--visually {border: 0;clip: rect(1px 1px 1px 1px);clip: rect(1px, 1px, 1px, 1px);height: 1px;margin: -1px;overflow: hidden;padding: 0;position: absolute;width: 1px;}#sk-container-id-3 div.sk-estimator {font-family: monospace;background-color: #f0f8ff;border: 1px dotted black;border-radius: 0.25em;box-sizing: border-box;margin-bottom: 0.5em;}#sk-container-id-3 div.sk-estimator:hover {background-color: #d4ebff;}#sk-container-id-3 div.sk-parallel-item::after {content: \"\";width: 100%;border-bottom: 1px solid gray;flex-grow: 1;}#sk-container-id-3 div.sk-label:hover label.sk-toggleable__label {background-color: #d4ebff;}#sk-container-id-3 div.sk-serial::before {content: \"\";position: absolute;border-left: 1px solid gray;box-sizing: border-box;top: 0;bottom: 0;left: 50%;z-index: 0;}#sk-container-id-3 div.sk-serial {display: flex;flex-direction: column;align-items: center;background-color: white;padding-right: 0.2em;padding-left: 0.2em;position: relative;}#sk-container-id-3 div.sk-item {position: relative;z-index: 1;}#sk-container-id-3 div.sk-parallel {display: flex;align-items: stretch;justify-content: center;background-color: white;position: relative;}#sk-container-id-3 div.sk-item::before, #sk-container-id-3 div.sk-parallel-item::before {content: \"\";position: absolute;border-left: 1px solid gray;box-sizing: border-box;top: 0;bottom: 0;left: 50%;z-index: -1;}#sk-container-id-3 div.sk-parallel-item {display: flex;flex-direction: column;z-index: 1;position: relative;background-color: white;}#sk-container-id-3 div.sk-parallel-item:first-child::after {align-self: flex-end;width: 50%;}#sk-container-id-3 div.sk-parallel-item:last-child::after {align-self: flex-start;width: 50%;}#sk-container-id-3 div.sk-parallel-item:only-child::after {width: 0;}#sk-container-id-3 div.sk-dashed-wrapped {border: 1px dashed gray;margin: 0 0.4em 0.5em 0.4em;box-sizing: border-box;padding-bottom: 0.4em;background-color: white;}#sk-container-id-3 div.sk-label label {font-family: monospace;font-weight: bold;display: inline-block;line-height: 1.2em;}#sk-container-id-3 div.sk-label-container {text-align: center;}#sk-container-id-3 div.sk-container {/* jupyter's `normalize.less` sets `[hidden] { display: none; }` but bootstrap.min.css set `[hidden] { display: none !important; }` so we also need the `!important` here to be able to override the default hidden behavior on the sphinx rendered scikit-learn.org. See: https://github.com/scikit-learn/scikit-learn/issues/21755 */display: inline-block !important;position: relative;}#sk-container-id-3 div.sk-text-repr-fallback {display: none;}</style><div id=\"sk-container-id-3\" class=\"sk-top-container\"><div class=\"sk-text-repr-fallback\"><pre>Pipeline(steps=[(&#x27;smote&#x27;,\n",
              "                 SMOTE(n_jobs=-1, random_state=12, sampling_strategy=1)),\n",
              "                (&#x27;xgbclassifier&#x27;,\n",
              "                 XGBClassifier(base_score=None, booster=None, callbacks=None,\n",
              "                               colsample_bylevel=None, colsample_bynode=None,\n",
              "                               colsample_bytree=None,\n",
              "                               early_stopping_rounds=None,\n",
              "                               enable_categorical=False, eval_metric=None,\n",
              "                               feature_types=None, gamma=None, gpu_id=None,\n",
              "                               grow_policy=None, importance_type=None,\n",
              "                               interaction_constraints=None, learning_rate=None,\n",
              "                               max_bin=None, max_cat_threshold=None,\n",
              "                               max_cat_to_onehot=None, max_delta_step=None,\n",
              "                               max_depth=None, max_leaves=None,\n",
              "                               min_child_weight=None, missing=nan,\n",
              "                               monotone_constraints=None, n_estimators=100,\n",
              "                               n_jobs=None, num_parallel_tree=None,\n",
              "                               predictor=None, random_state=None, ...))])</pre><b>In a Jupyter environment, please rerun this cell to show the HTML representation or trust the notebook. <br />On GitHub, the HTML representation is unable to render, please try loading this page with nbviewer.org.</b></div><div class=\"sk-container\" hidden><div class=\"sk-item sk-dashed-wrapped\"><div class=\"sk-label-container\"><div class=\"sk-label sk-toggleable\"><input class=\"sk-toggleable__control sk-hidden--visually\" id=\"sk-estimator-id-7\" type=\"checkbox\" ><label for=\"sk-estimator-id-7\" class=\"sk-toggleable__label sk-toggleable__label-arrow\">Pipeline</label><div class=\"sk-toggleable__content\"><pre>Pipeline(steps=[(&#x27;smote&#x27;,\n",
              "                 SMOTE(n_jobs=-1, random_state=12, sampling_strategy=1)),\n",
              "                (&#x27;xgbclassifier&#x27;,\n",
              "                 XGBClassifier(base_score=None, booster=None, callbacks=None,\n",
              "                               colsample_bylevel=None, colsample_bynode=None,\n",
              "                               colsample_bytree=None,\n",
              "                               early_stopping_rounds=None,\n",
              "                               enable_categorical=False, eval_metric=None,\n",
              "                               feature_types=None, gamma=None, gpu_id=None,\n",
              "                               grow_policy=None, importance_type=None,\n",
              "                               interaction_constraints=None, learning_rate=None,\n",
              "                               max_bin=None, max_cat_threshold=None,\n",
              "                               max_cat_to_onehot=None, max_delta_step=None,\n",
              "                               max_depth=None, max_leaves=None,\n",
              "                               min_child_weight=None, missing=nan,\n",
              "                               monotone_constraints=None, n_estimators=100,\n",
              "                               n_jobs=None, num_parallel_tree=None,\n",
              "                               predictor=None, random_state=None, ...))])</pre></div></div></div><div class=\"sk-serial\"><div class=\"sk-item\"><div class=\"sk-estimator sk-toggleable\"><input class=\"sk-toggleable__control sk-hidden--visually\" id=\"sk-estimator-id-8\" type=\"checkbox\" ><label for=\"sk-estimator-id-8\" class=\"sk-toggleable__label sk-toggleable__label-arrow\">SMOTE</label><div class=\"sk-toggleable__content\"><pre>SMOTE(n_jobs=-1, random_state=12, sampling_strategy=1)</pre></div></div></div><div class=\"sk-item\"><div class=\"sk-estimator sk-toggleable\"><input class=\"sk-toggleable__control sk-hidden--visually\" id=\"sk-estimator-id-9\" type=\"checkbox\" ><label for=\"sk-estimator-id-9\" class=\"sk-toggleable__label sk-toggleable__label-arrow\">XGBClassifier</label><div class=\"sk-toggleable__content\"><pre>XGBClassifier(base_score=None, booster=None, callbacks=None,\n",
              "              colsample_bylevel=None, colsample_bynode=None,\n",
              "              colsample_bytree=None, early_stopping_rounds=None,\n",
              "              enable_categorical=False, eval_metric=None, feature_types=None,\n",
              "              gamma=None, gpu_id=None, grow_policy=None, importance_type=None,\n",
              "              interaction_constraints=None, learning_rate=None, max_bin=None,\n",
              "              max_cat_threshold=None, max_cat_to_onehot=None,\n",
              "              max_delta_step=None, max_depth=None, max_leaves=None,\n",
              "              min_child_weight=None, missing=nan, monotone_constraints=None,\n",
              "              n_estimators=100, n_jobs=None, num_parallel_tree=None,\n",
              "              predictor=None, random_state=None, ...)</pre></div></div></div></div></div></div></div>"
            ]
          },
          "metadata": {},
          "execution_count": 27
        }
      ],
      "source": [
        "xgb_pipeline = make_pipeline(SMOTE(sampling_strategy= 1 , random_state=12, n_jobs= -1), XGBClassifier(objective= 'binary:logistic', seed=42))\n",
        "\n",
        "xgb_pipeline"
      ]
    },
    {
      "cell_type": "code",
      "execution_count": 28,
      "metadata": {
        "colab": {
          "base_uri": "https://localhost:8080/"
        },
        "id": "jH86XZhwUKGP",
        "outputId": "07218a60-10c4-491f-d865-7d20a99f11c0"
      },
      "outputs": [
        {
          "output_type": "execute_result",
          "data": {
            "text/plain": [
              "array([1.        , 0.99962236, 1.        , 0.99962221, 0.99962221])"
            ]
          },
          "metadata": {},
          "execution_count": 28
        }
      ],
      "source": [
        "cross_val_score(xgb_pipeline, X_train, y_train, scoring='recall', cv=kf, n_jobs=-1)"
      ]
    },
    {
      "cell_type": "code",
      "execution_count": 29,
      "metadata": {
        "colab": {
          "base_uri": "https://localhost:8080/"
        },
        "id": "0_FyrS-iA2wK",
        "outputId": "359e2aaa-5dec-449d-8409-748842301126"
      },
      "outputs": [
        {
          "output_type": "stream",
          "name": "stderr",
          "text": [
            "/usr/local/lib/python3.10/dist-packages/imblearn/over_sampling/_smote/base.py:336: FutureWarning: The parameter `n_jobs` has been deprecated in 0.10 and will be removed in 0.12. You can pass an nearest neighbors estimator where `n_jobs` is already set instead.\n",
            "  warnings.warn(\n"
          ]
        },
        {
          "output_type": "stream",
          "name": "stdout",
          "text": [
            "=================GridSearch Result=================\n",
            "\n",
            "GridSearch Best Score_Recall: \n",
            "0.9998489140644885\n",
            "Best Hyperparameters: \n",
            "{'xgbclassifier__colsample_bytree': 0.5, 'xgbclassifier__gamma': 0.1, 'xgbclassifier__learning_rate': 0.1, 'xgbclassifier__max_depth': 5, 'xgbclassifier__min_child_weight': 1, 'xgbclassifier__n_estimators': 200, 'xgbclassifier__subsample': 1.0}\n",
            "\n",
            "===================================================\n",
            "CPU times: user 2min 5s, sys: 3.98 s, total: 2min 9s\n",
            "Wall time: 1h 6min 49s\n"
          ]
        }
      ],
      "source": [
        "#GridSearch\n",
        "%%time\n",
        "\n",
        "xgb_params = {\n",
        "        'n_estimators':[50, 100, 200],\n",
        "        'learning_rate': [0.1, 0.01],\n",
        "        'min_child_weight': [1, 5, 10],\n",
        "        'gamma': [0.1, 0.5],\n",
        "        'subsample': [0.5, 1.0],\n",
        "        'colsample_bytree': [0.5, 1.0],\n",
        "        'max_depth': [5,10]\n",
        "        }\n",
        "\n",
        "xgb_new_params = {'xgbclassifier__' + key: xgb_params[key] for key in xgb_params}\n",
        "\n",
        "xgb_grid = GridSearchCV(xgb_pipeline, param_grid= xgb_new_params, cv=kf, scoring='recall', n_jobs=-1,\n",
        "                        return_train_score=True, verbose=0)\n",
        "\n",
        "#Fit\n",
        "xgb_grid.fit(X_train, y_train)\n",
        "\n",
        "##the result of GridSearch\n",
        "\n",
        "  #Best Score: Recall\n",
        "xgb_best = xgb_grid.best_score_\n",
        "  #Optimized hyperparameters\n",
        "xgb_opt_params = xgb_grid.best_params_\n",
        "\n",
        "print(\"=================GridSearch Result=================\")\n",
        "print()\n",
        "print(f\"GridSearch Best Score_Recall: \\n{xgb_best}\")\n",
        "print(f\"Best Hyperparameters: \\n{xgb_opt_params}\")\n",
        "print()\n",
        "print(\"===================================================\")"
      ]
    },
    {
      "cell_type": "code",
      "execution_count": 30,
      "metadata": {
        "colab": {
          "base_uri": "https://localhost:8080/"
        },
        "id": "ME1OJo3BA2zk",
        "outputId": "771a6e24-a6ad-4c1a-ae8b-117177a2b494"
      },
      "outputs": [
        {
          "output_type": "stream",
          "name": "stdout",
          "text": [
            "              precision    recall  f1-score   support\n",
            "\n",
            "           0       1.00      1.00      1.00     39280\n",
            "           1       1.00      1.00      1.00      6520\n",
            "\n",
            "    accuracy                           1.00     45800\n",
            "   macro avg       1.00      1.00      1.00     45800\n",
            "weighted avg       1.00      1.00      1.00     45800\n",
            "\n",
            "\n",
            "==================Evaluation Score==================\n",
            "test_F1: \n",
            "0.9998908296943232\n",
            "test_F1: \n",
            "0.9996165350103535\n",
            "test_Recall: \n",
            "0.9995398773006134\n",
            "test_Precision: \n",
            "0.9996932044792146\n",
            "===================================================\n"
          ]
        }
      ],
      "source": [
        "##Evaluate Model\n",
        "\n",
        "# Prediction using Estimator that was chosen by the GridSearch for testing dataset\n",
        "model_xgb = xgb_grid.best_estimator_\n",
        "xgb_test_pre = model_xgb.predict(X_test)\n",
        "\n",
        "xgb_pre_accuracy = accuracy_score(y_test, xgb_test_pre)\n",
        "xgb_pre_f1 = f1_score(y_test, xgb_test_pre)\n",
        "xgb_recall= recall_score(y_test, xgb_test_pre)\n",
        "xgb_precision = precision_score(y_test, xgb_test_pre)\n",
        "\n",
        "print(classification_report(y_test, xgb_test_pre))\n",
        "print()\n",
        "print(\"==================Evaluation Score==================\")\n",
        "print(f\"test_F1: \\n{xgb_pre_accuracy}\")\n",
        "print(f\"test_F1: \\n{xgb_pre_f1}\")\n",
        "print(f\"test_Recall: \\n{xgb_recall}\")\n",
        "print(f\"test_Precision: \\n{xgb_precision}\")\n",
        "print(\"===================================================\")"
      ]
    },
    {
      "cell_type": "code",
      "execution_count": 31,
      "metadata": {
        "id": "SFViQfs0Nt2E",
        "colab": {
          "base_uri": "https://localhost:8080/"
        },
        "outputId": "a56756cd-b2b2-43f3-b71f-1eb2cb8a1357"
      },
      "outputs": [
        {
          "output_type": "execute_result",
          "data": {
            "text/plain": [
              "['/content/drive/MyDrive/saved_models/XGBoost_v2.pkl']"
            ]
          },
          "metadata": {},
          "execution_count": 31
        }
      ],
      "source": [
        "#Saving model\n",
        "joblib.dump(model_xgb, \"/content/drive/MyDrive/saved_models/XGBoost_v2.pkl\")"
      ]
    },
    {
      "cell_type": "markdown",
      "metadata": {
        "id": "MaLzqQ5dJ9Mv"
      },
      "source": [
        "##LightGBM"
      ]
    },
    {
      "cell_type": "code",
      "execution_count": 32,
      "metadata": {
        "colab": {
          "base_uri": "https://localhost:8080/"
        },
        "id": "GZ0LL-QUJ8pZ",
        "outputId": "b65255ce-9628-46ea-a686-dd0a853c2453"
      },
      "outputs": [
        {
          "output_type": "stream",
          "name": "stdout",
          "text": [
            "              precision    recall  f1-score   support\n",
            "\n",
            "           0       1.00      1.00      1.00     39280\n",
            "           1       1.00      1.00      1.00      6520\n",
            "\n",
            "    accuracy                           1.00     45800\n",
            "   macro avg       1.00      1.00      1.00     45800\n",
            "weighted avg       1.00      1.00      1.00     45800\n",
            "\n"
          ]
        }
      ],
      "source": [
        "##Baseline\n",
        "import lightgbm as lgb\n",
        "#the default hyperparameters\n",
        "lgbm = lgb.LGBMClassifier()\n",
        "# Fit model\n",
        "lgbm.fit(X_train, y_train)\n",
        "\n",
        "#predict\n",
        "lgbm_pred = lgbm.predict(X_test)\n",
        "\n",
        "# print prediction results\n",
        "print(classification_report(y_test, lgbm_pred))"
      ]
    },
    {
      "cell_type": "code",
      "execution_count": 33,
      "metadata": {
        "colab": {
          "base_uri": "https://localhost:8080/",
          "height": 125
        },
        "id": "WESvjccYT2DV",
        "outputId": "fc629557-395e-4fe8-dbde-5c9e55e0c65b"
      },
      "outputs": [
        {
          "output_type": "execute_result",
          "data": {
            "text/plain": [
              "Pipeline(steps=[('smote',\n",
              "                 SMOTE(n_jobs=-1, random_state=12, sampling_strategy=1)),\n",
              "                ('lgbmclassifier', LGBMClassifier())])"
            ],
            "text/html": [
              "<style>#sk-container-id-4 {color: black;background-color: white;}#sk-container-id-4 pre{padding: 0;}#sk-container-id-4 div.sk-toggleable {background-color: white;}#sk-container-id-4 label.sk-toggleable__label {cursor: pointer;display: block;width: 100%;margin-bottom: 0;padding: 0.3em;box-sizing: border-box;text-align: center;}#sk-container-id-4 label.sk-toggleable__label-arrow:before {content: \"▸\";float: left;margin-right: 0.25em;color: #696969;}#sk-container-id-4 label.sk-toggleable__label-arrow:hover:before {color: black;}#sk-container-id-4 div.sk-estimator:hover label.sk-toggleable__label-arrow:before {color: black;}#sk-container-id-4 div.sk-toggleable__content {max-height: 0;max-width: 0;overflow: hidden;text-align: left;background-color: #f0f8ff;}#sk-container-id-4 div.sk-toggleable__content pre {margin: 0.2em;color: black;border-radius: 0.25em;background-color: #f0f8ff;}#sk-container-id-4 input.sk-toggleable__control:checked~div.sk-toggleable__content {max-height: 200px;max-width: 100%;overflow: auto;}#sk-container-id-4 input.sk-toggleable__control:checked~label.sk-toggleable__label-arrow:before {content: \"▾\";}#sk-container-id-4 div.sk-estimator input.sk-toggleable__control:checked~label.sk-toggleable__label {background-color: #d4ebff;}#sk-container-id-4 div.sk-label input.sk-toggleable__control:checked~label.sk-toggleable__label {background-color: #d4ebff;}#sk-container-id-4 input.sk-hidden--visually {border: 0;clip: rect(1px 1px 1px 1px);clip: rect(1px, 1px, 1px, 1px);height: 1px;margin: -1px;overflow: hidden;padding: 0;position: absolute;width: 1px;}#sk-container-id-4 div.sk-estimator {font-family: monospace;background-color: #f0f8ff;border: 1px dotted black;border-radius: 0.25em;box-sizing: border-box;margin-bottom: 0.5em;}#sk-container-id-4 div.sk-estimator:hover {background-color: #d4ebff;}#sk-container-id-4 div.sk-parallel-item::after {content: \"\";width: 100%;border-bottom: 1px solid gray;flex-grow: 1;}#sk-container-id-4 div.sk-label:hover label.sk-toggleable__label {background-color: #d4ebff;}#sk-container-id-4 div.sk-serial::before {content: \"\";position: absolute;border-left: 1px solid gray;box-sizing: border-box;top: 0;bottom: 0;left: 50%;z-index: 0;}#sk-container-id-4 div.sk-serial {display: flex;flex-direction: column;align-items: center;background-color: white;padding-right: 0.2em;padding-left: 0.2em;position: relative;}#sk-container-id-4 div.sk-item {position: relative;z-index: 1;}#sk-container-id-4 div.sk-parallel {display: flex;align-items: stretch;justify-content: center;background-color: white;position: relative;}#sk-container-id-4 div.sk-item::before, #sk-container-id-4 div.sk-parallel-item::before {content: \"\";position: absolute;border-left: 1px solid gray;box-sizing: border-box;top: 0;bottom: 0;left: 50%;z-index: -1;}#sk-container-id-4 div.sk-parallel-item {display: flex;flex-direction: column;z-index: 1;position: relative;background-color: white;}#sk-container-id-4 div.sk-parallel-item:first-child::after {align-self: flex-end;width: 50%;}#sk-container-id-4 div.sk-parallel-item:last-child::after {align-self: flex-start;width: 50%;}#sk-container-id-4 div.sk-parallel-item:only-child::after {width: 0;}#sk-container-id-4 div.sk-dashed-wrapped {border: 1px dashed gray;margin: 0 0.4em 0.5em 0.4em;box-sizing: border-box;padding-bottom: 0.4em;background-color: white;}#sk-container-id-4 div.sk-label label {font-family: monospace;font-weight: bold;display: inline-block;line-height: 1.2em;}#sk-container-id-4 div.sk-label-container {text-align: center;}#sk-container-id-4 div.sk-container {/* jupyter's `normalize.less` sets `[hidden] { display: none; }` but bootstrap.min.css set `[hidden] { display: none !important; }` so we also need the `!important` here to be able to override the default hidden behavior on the sphinx rendered scikit-learn.org. See: https://github.com/scikit-learn/scikit-learn/issues/21755 */display: inline-block !important;position: relative;}#sk-container-id-4 div.sk-text-repr-fallback {display: none;}</style><div id=\"sk-container-id-4\" class=\"sk-top-container\"><div class=\"sk-text-repr-fallback\"><pre>Pipeline(steps=[(&#x27;smote&#x27;,\n",
              "                 SMOTE(n_jobs=-1, random_state=12, sampling_strategy=1)),\n",
              "                (&#x27;lgbmclassifier&#x27;, LGBMClassifier())])</pre><b>In a Jupyter environment, please rerun this cell to show the HTML representation or trust the notebook. <br />On GitHub, the HTML representation is unable to render, please try loading this page with nbviewer.org.</b></div><div class=\"sk-container\" hidden><div class=\"sk-item sk-dashed-wrapped\"><div class=\"sk-label-container\"><div class=\"sk-label sk-toggleable\"><input class=\"sk-toggleable__control sk-hidden--visually\" id=\"sk-estimator-id-10\" type=\"checkbox\" ><label for=\"sk-estimator-id-10\" class=\"sk-toggleable__label sk-toggleable__label-arrow\">Pipeline</label><div class=\"sk-toggleable__content\"><pre>Pipeline(steps=[(&#x27;smote&#x27;,\n",
              "                 SMOTE(n_jobs=-1, random_state=12, sampling_strategy=1)),\n",
              "                (&#x27;lgbmclassifier&#x27;, LGBMClassifier())])</pre></div></div></div><div class=\"sk-serial\"><div class=\"sk-item\"><div class=\"sk-estimator sk-toggleable\"><input class=\"sk-toggleable__control sk-hidden--visually\" id=\"sk-estimator-id-11\" type=\"checkbox\" ><label for=\"sk-estimator-id-11\" class=\"sk-toggleable__label sk-toggleable__label-arrow\">SMOTE</label><div class=\"sk-toggleable__content\"><pre>SMOTE(n_jobs=-1, random_state=12, sampling_strategy=1)</pre></div></div></div><div class=\"sk-item\"><div class=\"sk-estimator sk-toggleable\"><input class=\"sk-toggleable__control sk-hidden--visually\" id=\"sk-estimator-id-12\" type=\"checkbox\" ><label for=\"sk-estimator-id-12\" class=\"sk-toggleable__label sk-toggleable__label-arrow\">LGBMClassifier</label><div class=\"sk-toggleable__content\"><pre>LGBMClassifier()</pre></div></div></div></div></div></div></div>"
            ]
          },
          "metadata": {},
          "execution_count": 33
        }
      ],
      "source": [
        "lgbm_pipeline = make_pipeline(SMOTE(sampling_strategy= 1 , random_state=12, n_jobs= -1), lgb.LGBMClassifier())\n",
        "\n",
        "lgbm_pipeline"
      ]
    },
    {
      "cell_type": "code",
      "execution_count": 34,
      "metadata": {
        "colab": {
          "base_uri": "https://localhost:8080/"
        },
        "id": "PU6jbaksUOt9",
        "outputId": "f03738e8-316f-4e0c-ec4b-0bcf0035e1e8"
      },
      "outputs": [
        {
          "output_type": "execute_result",
          "data": {
            "text/plain": [
              "array([1.        , 1.        , 1.        , 0.99962221, 0.99962221])"
            ]
          },
          "metadata": {},
          "execution_count": 34
        }
      ],
      "source": [
        "cross_val_score(lgbm_pipeline, X_train, y_train, scoring='recall', cv=kf, n_jobs=-1)"
      ]
    },
    {
      "cell_type": "code",
      "execution_count": 35,
      "metadata": {
        "colab": {
          "base_uri": "https://localhost:8080/"
        },
        "id": "dKOhajh5LlOm",
        "outputId": "58e992ea-0b73-4f72-f274-ecde8c97f4e3"
      },
      "outputs": [
        {
          "output_type": "stream",
          "name": "stderr",
          "text": [
            "/usr/local/lib/python3.10/dist-packages/imblearn/over_sampling/_smote/base.py:336: FutureWarning: The parameter `n_jobs` has been deprecated in 0.10 and will be removed in 0.12. You can pass an nearest neighbors estimator where `n_jobs` is already set instead.\n",
            "  warnings.warn(\n"
          ]
        },
        {
          "output_type": "stream",
          "name": "stdout",
          "text": [
            "=================GridSearch Result=================\n",
            "\n",
            "GridSearch Best Score_Recall: \n",
            "0.9999244427653948\n",
            "Best Hyperparameters: \n",
            "{'lgbmclassifier__learning_rate': 0.05, 'lgbmclassifier__max_depth': 10, 'lgbmclassifier__min_child_samples': 5, 'lgbmclassifier__n_estimators': 300, 'lgbmclassifier__num_leaves': 20, 'lgbmclassifier__reg_alpha': 0.01}\n",
            "\n",
            "===================================================\n",
            "CPU times: user 39.3 s, sys: 2.92 s, total: 42.2 s\n",
            "Wall time: 33min 24s\n"
          ]
        }
      ],
      "source": [
        "#GridSearch\n",
        "%%time\n",
        "\n",
        "lgbm_params = {\n",
        "    'n_estimators':[100, 200, 300],\n",
        "    'num_leaves':[20,60,100],\n",
        "    'max_depth':[5,10,15],\n",
        "    'min_child_samples':[5,10,15],\n",
        "    'learning_rate':[0.01, 0.05, 0.1],\n",
        "    'reg_alpha':[0,0.01,0.03]\n",
        "    }\n",
        "\n",
        "\n",
        "lgbm_new_params = {'lgbmclassifier__' + key: lgbm_params[key] for key in lgbm_params}\n",
        "\n",
        "lgbm_grid = GridSearchCV(lgbm_pipeline, param_grid= lgbm_new_params, cv=kf, scoring='recall', n_jobs=-1,\n",
        "                        return_train_score=True, verbose=0)\n",
        "\n",
        "#Fit\n",
        "lgbm_grid.fit(X_train, y_train)\n",
        "\n",
        "##the result of GridSearch\n",
        "\n",
        "  #Best Score: Recall\n",
        "lgbm_best = lgbm_grid.best_score_\n",
        "  #Optimized hyperparameters\n",
        "lgbm_opt_params = lgbm_grid.best_params_\n",
        "\n",
        "print(\"=================GridSearch Result=================\")\n",
        "print()\n",
        "print(f\"GridSearch Best Score_Recall: \\n{lgbm_best}\")\n",
        "print(f\"Best Hyperparameters: \\n{lgbm_opt_params}\")\n",
        "print()\n",
        "print(\"===================================================\")"
      ]
    },
    {
      "cell_type": "code",
      "execution_count": 36,
      "metadata": {
        "colab": {
          "base_uri": "https://localhost:8080/"
        },
        "id": "VPyw_ruSLlWU",
        "outputId": "bfd0c2bc-538b-4c59-afff-906959db909d"
      },
      "outputs": [
        {
          "output_type": "stream",
          "name": "stdout",
          "text": [
            "              precision    recall  f1-score   support\n",
            "\n",
            "           0       1.00      1.00      1.00     39280\n",
            "           1       1.00      1.00      1.00      6520\n",
            "\n",
            "    accuracy                           1.00     45800\n",
            "   macro avg       1.00      1.00      1.00     45800\n",
            "weighted avg       1.00      1.00      1.00     45800\n",
            "\n",
            "\n",
            "==================Evaluation Score==================\n",
            "test_Accuracy: \n",
            "0.9998908296943232\n",
            "test_F1: \n",
            "0.9996165350103535\n",
            "test_Recall: \n",
            "0.9995398773006134\n",
            "test_Precision: \n",
            "0.9996932044792146\n",
            "===================================================\n"
          ]
        }
      ],
      "source": [
        "\n",
        "##Evaluate Model\n",
        "\n",
        "# Prediction using Estimator that was chosen by the GridSearch for testing dataset\n",
        "model_lgbm = lgbm_grid.best_estimator_\n",
        "lgbm_test_pre = model_lgbm.predict(X_test)\n",
        "\n",
        "lgbm_pre_accuracy = accuracy_score(y_test, lgbm_test_pre)\n",
        "lgbm_pre_f1 = f1_score(y_test, lgbm_test_pre)\n",
        "lgbm_recall= recall_score(y_test, lgbm_test_pre)\n",
        "lgbm_precision = precision_score(y_test, lgbm_test_pre)\n",
        "\n",
        "print(classification_report(y_test, lgbm_test_pre))\n",
        "print()\n",
        "print(\"==================Evaluation Score==================\")\n",
        "print(f\"test_Accuracy: \\n{lgbm_pre_accuracy}\")\n",
        "print(f\"test_F1: \\n{lgbm_pre_f1}\")\n",
        "print(f\"test_Recall: \\n{lgbm_recall}\")\n",
        "print(f\"test_Precision: \\n{lgbm_precision}\")\n",
        "print(\"===================================================\")"
      ]
    },
    {
      "cell_type": "code",
      "execution_count": 37,
      "metadata": {
        "colab": {
          "base_uri": "https://localhost:8080/"
        },
        "id": "_HV4hLZcNjzS",
        "outputId": "d5fad960-4806-4836-e0e4-18190e94cf62"
      },
      "outputs": [
        {
          "output_type": "execute_result",
          "data": {
            "text/plain": [
              "['/content/drive/MyDrive/saved_models/Lightgbm_v2.pkl']"
            ]
          },
          "metadata": {},
          "execution_count": 37
        }
      ],
      "source": [
        "#Saving model\n",
        "joblib.dump(model_lgbm, \"/content/drive/MyDrive/saved_models/Lightgbm_v2.pkl\")"
      ]
    },
    {
      "cell_type": "markdown",
      "metadata": {
        "id": "8K-RlxknRgdh"
      },
      "source": [
        "##Decision Tree"
      ]
    },
    {
      "cell_type": "code",
      "execution_count": 38,
      "metadata": {
        "colab": {
          "base_uri": "https://localhost:8080/",
          "height": 501
        },
        "id": "o05hs-ICLlZd",
        "outputId": "6b44d090-2e51-4f07-c6e0-854d6f1a5a6f"
      },
      "outputs": [
        {
          "output_type": "stream",
          "name": "stdout",
          "text": [
            "Optimal alpha value: 8.453556307657983e-05\n",
            "CPU times: user 22.5 s, sys: 36.7 ms, total: 22.6 s\n",
            "Wall time: 22.5 s\n"
          ]
        },
        {
          "output_type": "display_data",
          "data": {
            "text/plain": [
              "<Figure size 640x480 with 1 Axes>"
            ],
            "image/png": "[encoded data removed]"
          },
          "metadata": {}
        }
      ],
      "source": [
        "%%time\n",
        "\n",
        "dt = tree.DecisionTreeClassifier(criterion='entropy')\n",
        "\n",
        "path = dt.cost_complexity_pruning_path(X_train, y_train)\n",
        "\n",
        "ccp_alphas = path.ccp_alphas\n",
        "\n",
        "ccp_alphas = ccp_alphas[:-1] # exlude the maximum value\n",
        "\n",
        "alpha_loop_values = []\n",
        "\n",
        "for ccp_alpha in ccp_alphas:\n",
        "\n",
        "    dt = tree.DecisionTreeClassifier(criterion='entropy', ccp_alpha=ccp_alpha)\n",
        "\n",
        "    scores = cross_val_score(dt, X_train, y_train, scoring='recall', cv=kf)\n",
        "\n",
        "    alpha_loop_values.append([ccp_alpha, np.mean(scores), np.std(scores)])\n",
        "\n",
        "\n",
        "# Plot a graph of the means and standard deviations of the scores for each candidate\n",
        "alpha_results = pd.DataFrame(alpha_loop_values, columns=['alpha', 'mean_accuracy', 'std'])\n",
        "\n",
        "alpha_results.plot(x='alpha',\n",
        "                    y='mean_accuracy',\n",
        "                    yerr='std',\n",
        "                    marker='o',\n",
        "                    linestyle='--')\n",
        "\n",
        "ideal_ccp_alpha = alpha_results.sort_values(by=['mean_accuracy'], ascending=False).iloc[0]\n",
        "ideal_ccp_alpha = float(ideal_ccp_alpha['alpha'])\n",
        "print(f\"Optimal alpha value: {ideal_ccp_alpha}\")"
      ]
    },
    {
      "cell_type": "code",
      "execution_count": 39,
      "metadata": {
        "colab": {
          "base_uri": "https://localhost:8080/"
        },
        "id": "vzP4iLxrRm9q",
        "outputId": "72a52d89-13d8-4fba-def5-5ae5dbf6c2cb"
      },
      "outputs": [
        {
          "output_type": "stream",
          "name": "stdout",
          "text": [
            "==================Evaluation Score==================\n",
            "Accuracy: 0.99985\n",
            "test_F1: \n",
            "0.999463149014495\n",
            "test_Recall: \n",
            "0.9993865030674847\n",
            "test_Precision: \n",
            "0.9995398067188219\n",
            "===================================================\n"
          ]
        }
      ],
      "source": [
        "# build the optimum tree\n",
        "decision_tree = tree.DecisionTreeClassifier(criterion='entropy', ccp_alpha=ideal_ccp_alpha)\n",
        "decision_tree.fit(X_train, y_train)\n",
        "model_dt = decision_tree\n",
        "dt_test_pre = model_dt.predict(X_test)\n",
        "\n",
        "dt_accuracy = accuracy_score(y_test, dt_test_pre)\n",
        "dt_pre_f1 = f1_score(y_test, dt_test_pre)\n",
        "dt_recall= recall_score(y_test, dt_test_pre)\n",
        "dt_precision = precision_score(y_test, dt_test_pre)\n",
        "\n",
        "\n",
        "print(\"==================Evaluation Score==================\")\n",
        "print(f\"Accuracy: {dt_accuracy:.5f}\")\n",
        "print(f\"test_F1: \\n{dt_pre_f1}\")\n",
        "print(f\"test_Recall: \\n{dt_recall}\")\n",
        "print(f\"test_Precision: \\n{dt_precision}\")\n",
        "print(\"===================================================\")"
      ]
    },
    {
      "cell_type": "code",
      "execution_count": 40,
      "metadata": {
        "colab": {
          "base_uri": "https://localhost:8080/"
        },
        "id": "Oc1Zh9NiNasn",
        "outputId": "0edfe61a-b308-48f5-d0c6-57e75b9f226f"
      },
      "outputs": [
        {
          "output_type": "execute_result",
          "data": {
            "text/plain": [
              "['/content/drive/MyDrive/saved_models/decisiontree_v2.pkl']"
            ]
          },
          "metadata": {},
          "execution_count": 40
        }
      ],
      "source": [
        "#Saving model\n",
        "joblib.dump(model_dt, \"/content/drive/MyDrive/saved_models/decisiontree_v2.pkl\")"
      ]
    },
    {
      "cell_type": "markdown",
      "metadata": {
        "id": "Xw-x6AT2d8c3"
      },
      "source": [
        "##Logistic Regression"
      ]
    },
    {
      "cell_type": "code",
      "execution_count": 41,
      "metadata": {
        "colab": {
          "base_uri": "https://localhost:8080/"
        },
        "id": "Mk9475QPeDfd",
        "outputId": "a4c6d815-e50e-4e09-e79a-b67865f9b96e"
      },
      "outputs": [
        {
          "output_type": "stream",
          "name": "stdout",
          "text": [
            "              precision    recall  f1-score   support\n",
            "\n",
            "           0       1.00      0.99      0.99     39280\n",
            "           1       0.95      0.99      0.97      6520\n",
            "\n",
            "    accuracy                           0.99     45800\n",
            "   macro avg       0.97      0.99      0.98     45800\n",
            "weighted avg       0.99      0.99      0.99     45800\n",
            "\n"
          ]
        }
      ],
      "source": [
        "##Baseline\n",
        "from sklearn.linear_model import LogisticRegression\n",
        "#the default hyperparameters\n",
        "lg = LogisticRegression()\n",
        "# Fit model\n",
        "lg .fit(X_train, y_train)\n",
        "\n",
        "#predict\n",
        "lg_pred = lg.predict(X_test)\n",
        "\n",
        "# print prediction results\n",
        "print(classification_report(y_test, lg_pred))"
      ]
    },
    {
      "cell_type": "code",
      "execution_count": 42,
      "metadata": {
        "colab": {
          "base_uri": "https://localhost:8080/",
          "height": 125
        },
        "id": "joKlAtmzUU-N",
        "outputId": "908fbb05-7b51-4fcd-b278-94bac7a62de0"
      },
      "outputs": [
        {
          "output_type": "execute_result",
          "data": {
            "text/plain": [
              "Pipeline(steps=[('smote',\n",
              "                 SMOTE(n_jobs=-1, random_state=12, sampling_strategy=1)),\n",
              "                ('logisticregression', LogisticRegression())])"
            ],
            "text/html": [
              "<style>#sk-container-id-5 {color: black;background-color: white;}#sk-container-id-5 pre{padding: 0;}#sk-container-id-5 div.sk-toggleable {background-color: white;}#sk-container-id-5 label.sk-toggleable__label {cursor: pointer;display: block;width: 100%;margin-bottom: 0;padding: 0.3em;box-sizing: border-box;text-align: center;}#sk-container-id-5 label.sk-toggleable__label-arrow:before {content: \"▸\";float: left;margin-right: 0.25em;color: #696969;}#sk-container-id-5 label.sk-toggleable__label-arrow:hover:before {color: black;}#sk-container-id-5 div.sk-estimator:hover label.sk-toggleable__label-arrow:before {color: black;}#sk-container-id-5 div.sk-toggleable__content {max-height: 0;max-width: 0;overflow: hidden;text-align: left;background-color: #f0f8ff;}#sk-container-id-5 div.sk-toggleable__content pre {margin: 0.2em;color: black;border-radius: 0.25em;background-color: #f0f8ff;}#sk-container-id-5 input.sk-toggleable__control:checked~div.sk-toggleable__content {max-height: 200px;max-width: 100%;overflow: auto;}#sk-container-id-5 input.sk-toggleable__control:checked~label.sk-toggleable__label-arrow:before {content: \"▾\";}#sk-container-id-5 div.sk-estimator input.sk-toggleable__control:checked~label.sk-toggleable__label {background-color: #d4ebff;}#sk-container-id-5 div.sk-label input.sk-toggleable__control:checked~label.sk-toggleable__label {background-color: #d4ebff;}#sk-container-id-5 input.sk-hidden--visually {border: 0;clip: rect(1px 1px 1px 1px);clip: rect(1px, 1px, 1px, 1px);height: 1px;margin: -1px;overflow: hidden;padding: 0;position: absolute;width: 1px;}#sk-container-id-5 div.sk-estimator {font-family: monospace;background-color: #f0f8ff;border: 1px dotted black;border-radius: 0.25em;box-sizing: border-box;margin-bottom: 0.5em;}#sk-container-id-5 div.sk-estimator:hover {background-color: #d4ebff;}#sk-container-id-5 div.sk-parallel-item::after {content: \"\";width: 100%;border-bottom: 1px solid gray;flex-grow: 1;}#sk-container-id-5 div.sk-label:hover label.sk-toggleable__label {background-color: #d4ebff;}#sk-container-id-5 div.sk-serial::before {content: \"\";position: absolute;border-left: 1px solid gray;box-sizing: border-box;top: 0;bottom: 0;left: 50%;z-index: 0;}#sk-container-id-5 div.sk-serial {display: flex;flex-direction: column;align-items: center;background-color: white;padding-right: 0.2em;padding-left: 0.2em;position: relative;}#sk-container-id-5 div.sk-item {position: relative;z-index: 1;}#sk-container-id-5 div.sk-parallel {display: flex;align-items: stretch;justify-content: center;background-color: white;position: relative;}#sk-container-id-5 div.sk-item::before, #sk-container-id-5 div.sk-parallel-item::before {content: \"\";position: absolute;border-left: 1px solid gray;box-sizing: border-box;top: 0;bottom: 0;left: 50%;z-index: -1;}#sk-container-id-5 div.sk-parallel-item {display: flex;flex-direction: column;z-index: 1;position: relative;background-color: white;}#sk-container-id-5 div.sk-parallel-item:first-child::after {align-self: flex-end;width: 50%;}#sk-container-id-5 div.sk-parallel-item:last-child::after {align-self: flex-start;width: 50%;}#sk-container-id-5 div.sk-parallel-item:only-child::after {width: 0;}#sk-container-id-5 div.sk-dashed-wrapped {border: 1px dashed gray;margin: 0 0.4em 0.5em 0.4em;box-sizing: border-box;padding-bottom: 0.4em;background-color: white;}#sk-container-id-5 div.sk-label label {font-family: monospace;font-weight: bold;display: inline-block;line-height: 1.2em;}#sk-container-id-5 div.sk-label-container {text-align: center;}#sk-container-id-5 div.sk-container {/* jupyter's `normalize.less` sets `[hidden] { display: none; }` but bootstrap.min.css set `[hidden] { display: none !important; }` so we also need the `!important` here to be able to override the default hidden behavior on the sphinx rendered scikit-learn.org. See: https://github.com/scikit-learn/scikit-learn/issues/21755 */display: inline-block !important;position: relative;}#sk-container-id-5 div.sk-text-repr-fallback {display: none;}</style><div id=\"sk-container-id-5\" class=\"sk-top-container\"><div class=\"sk-text-repr-fallback\"><pre>Pipeline(steps=[(&#x27;smote&#x27;,\n",
              "                 SMOTE(n_jobs=-1, random_state=12, sampling_strategy=1)),\n",
              "                (&#x27;logisticregression&#x27;, LogisticRegression())])</pre><b>In a Jupyter environment, please rerun this cell to show the HTML representation or trust the notebook. <br />On GitHub, the HTML representation is unable to render, please try loading this page with nbviewer.org.</b></div><div class=\"sk-container\" hidden><div class=\"sk-item sk-dashed-wrapped\"><div class=\"sk-label-container\"><div class=\"sk-label sk-toggleable\"><input class=\"sk-toggleable__control sk-hidden--visually\" id=\"sk-estimator-id-13\" type=\"checkbox\" ><label for=\"sk-estimator-id-13\" class=\"sk-toggleable__label sk-toggleable__label-arrow\">Pipeline</label><div class=\"sk-toggleable__content\"><pre>Pipeline(steps=[(&#x27;smote&#x27;,\n",
              "                 SMOTE(n_jobs=-1, random_state=12, sampling_strategy=1)),\n",
              "                (&#x27;logisticregression&#x27;, LogisticRegression())])</pre></div></div></div><div class=\"sk-serial\"><div class=\"sk-item\"><div class=\"sk-estimator sk-toggleable\"><input class=\"sk-toggleable__control sk-hidden--visually\" id=\"sk-estimator-id-14\" type=\"checkbox\" ><label for=\"sk-estimator-id-14\" class=\"sk-toggleable__label sk-toggleable__label-arrow\">SMOTE</label><div class=\"sk-toggleable__content\"><pre>SMOTE(n_jobs=-1, random_state=12, sampling_strategy=1)</pre></div></div></div><div class=\"sk-item\"><div class=\"sk-estimator sk-toggleable\"><input class=\"sk-toggleable__control sk-hidden--visually\" id=\"sk-estimator-id-15\" type=\"checkbox\" ><label for=\"sk-estimator-id-15\" class=\"sk-toggleable__label sk-toggleable__label-arrow\">LogisticRegression</label><div class=\"sk-toggleable__content\"><pre>LogisticRegression()</pre></div></div></div></div></div></div></div>"
            ]
          },
          "metadata": {},
          "execution_count": 42
        }
      ],
      "source": [
        "lg_pipeline = make_pipeline(SMOTE(sampling_strategy= 1 , random_state=12, n_jobs= -1), LogisticRegression())\n",
        "\n",
        "lg_pipeline"
      ]
    },
    {
      "cell_type": "code",
      "execution_count": 43,
      "metadata": {
        "colab": {
          "base_uri": "https://localhost:8080/"
        },
        "id": "N4KuZGAzY5M0",
        "outputId": "c0ecde5f-244c-4241-ab29-1e1c69acf546"
      },
      "outputs": [
        {
          "output_type": "execute_result",
          "data": {
            "text/plain": [
              "array([0.99244713, 0.9913142 , 0.99282477, 0.9916887 , 0.99282206])"
            ]
          },
          "metadata": {},
          "execution_count": 43
        }
      ],
      "source": [
        "cross_val_score(lg_pipeline, X_train, y_train, scoring='recall', cv=kf, n_jobs=-1)"
      ]
    },
    {
      "cell_type": "code",
      "execution_count": 49,
      "metadata": {
        "id": "1QjFtf_deGg-",
        "colab": {
          "base_uri": "https://localhost:8080/"
        },
        "outputId": "5d9b7b68-8c23-4024-c330-a65373187887"
      },
      "outputs": [
        {
          "output_type": "stream",
          "name": "stderr",
          "text": [
            "/usr/local/lib/python3.10/dist-packages/imblearn/over_sampling/_smote/base.py:336: FutureWarning: The parameter `n_jobs` has been deprecated in 0.10 and will be removed in 0.12. You can pass an nearest neighbors estimator where `n_jobs` is already set instead.\n",
            "  warnings.warn(\n",
            "/usr/local/lib/python3.10/dist-packages/sklearn/linear_model/_logistic.py:1173: FutureWarning: `penalty='none'`has been deprecated in 1.2 and will be removed in 1.4. To keep the past behaviour, set `penalty=None`.\n",
            "  warnings.warn(\n"
          ]
        },
        {
          "output_type": "stream",
          "name": "stdout",
          "text": [
            "=================GridSearch Result=================\n",
            "\n",
            "GridSearch Best Score_Recall: \n",
            "0.9926726317315276\n",
            "Best Hyperparameters: \n",
            "{'logisticregression__C': 1, 'logisticregression__max_iter': 1500, 'logisticregression__penalty': 'none', 'logisticregression__solver': 'lbfgs'}\n",
            "\n",
            "===================================================\n",
            "CPU times: user 58.6 s, sys: 2min 6s, total: 3min 5s\n",
            "Wall time: 24min 22s\n"
          ]
        },
        {
          "output_type": "stream",
          "name": "stderr",
          "text": [
            "/usr/local/lib/python3.10/dist-packages/sklearn/linear_model/_logistic.py:458: ConvergenceWarning: lbfgs failed to converge (status=1):\n",
            "STOP: TOTAL NO. of ITERATIONS REACHED LIMIT.\n",
            "\n",
            "Increase the number of iterations (max_iter) or scale the data as shown in:\n",
            "    https://scikit-learn.org/stable/modules/preprocessing.html\n",
            "Please also refer to the documentation for alternative solver options:\n",
            "    https://scikit-learn.org/stable/modules/linear_model.html#logistic-regression\n",
            "  n_iter_i = _check_optimize_result(\n"
          ]
        }
      ],
      "source": [
        "#GridSearch\n",
        "%%time\n",
        "\n",
        "lg_params =  {'penalty':['l2', 'none'],\n",
        "             'C':[1,10, 100, 1000],\n",
        "             'max_iter':[500, 1000, 1500],\n",
        "             'solver' : ['lbfgs', 'sag', 'saga']\n",
        "             }\n",
        "\n",
        "\n",
        "lg_new_params = {'logisticregression__' + key: lg_params[key] for key in lg_params}\n",
        "\n",
        "lg_grid = GridSearchCV(lg_pipeline, param_grid= lg_new_params, cv=kf, scoring='recall', n_jobs=-1,\n",
        "                        return_train_score=True, verbose=0)\n",
        "\n",
        "#Fit\n",
        "lg_grid.fit(X_train, y_train)\n",
        "\n",
        "##the result of GridSearch\n",
        "\n",
        "  #Best Score: Recall\n",
        "lg_best = lg_grid.best_score_\n",
        "  #Optimized hyperparameters\n",
        "lg_opt_params = lg_grid.best_params_\n",
        "\n",
        "print(\"=================GridSearch Result=================\")\n",
        "print()\n",
        "print(f\"GridSearch Best Score_Recall: \\n{lg_best}\")\n",
        "print(f\"Best Hyperparameters: \\n{lg_opt_params}\")\n",
        "print()\n",
        "print(\"===================================================\")"
      ]
    },
    {
      "cell_type": "code",
      "execution_count": 51,
      "metadata": {
        "colab": {
          "base_uri": "https://localhost:8080/"
        },
        "id": "KOpou32HeK5m",
        "outputId": "f9e3c54d-4c56-4b66-9827-9b8fad6743d6"
      },
      "outputs": [
        {
          "output_type": "stream",
          "name": "stdout",
          "text": [
            "              precision    recall  f1-score   support\n",
            "\n",
            "           0       1.00      0.99      0.99     39280\n",
            "           1       0.94      0.99      0.97      6520\n",
            "\n",
            "    accuracy                           0.99     45800\n",
            "   macro avg       0.97      0.99      0.98     45800\n",
            "weighted avg       0.99      0.99      0.99     45800\n",
            "\n",
            "\n",
            "==================Evaluation Score==================\n",
            "test_Accuracy: \n",
            "0.9900873362445415\n",
            "test_F1: \n",
            "0.966104225772734\n",
            "test_Recall: \n",
            "0.9923312883435583\n",
            "test_Precision: \n",
            "0.9412278149549025\n",
            "===================================================\n"
          ]
        }
      ],
      "source": [
        "##Evaluate Model\n",
        "\n",
        "# Prediction using Estimator that was chosen by the GridSearch for testing dataset\n",
        "model_lg = lg_grid.best_estimator_\n",
        "\n",
        "lg_test_pre = model_lg.predict(X_test)\n",
        "\n",
        "lg_pre_accuracy = accuracy_score(y_test, lg_test_pre)\n",
        "lg_pre_f1 = f1_score(y_test, lg_test_pre)\n",
        "lg_recall= recall_score(y_test, lg_test_pre)\n",
        "lg_precision = precision_score(y_test, lg_test_pre)\n",
        "\n",
        "print(classification_report(y_test, lg_test_pre))\n",
        "print()\n",
        "print(\"==================Evaluation Score==================\")\n",
        "print(f\"test_Accuracy: \\n{lg_pre_accuracy}\")\n",
        "print(f\"test_F1: \\n{lg_pre_f1}\")\n",
        "print(f\"test_Recall: \\n{lg_recall}\")\n",
        "print(f\"test_Precision: \\n{lg_precision}\")\n",
        "print(\"===================================================\")"
      ]
    },
    {
      "cell_type": "code",
      "execution_count": 52,
      "metadata": {
        "colab": {
          "base_uri": "https://localhost:8080/"
        },
        "id": "CZlI-hwoM4sg",
        "outputId": "6e3dbe6f-db85-4377-8dbe-e38b93ef9f81"
      },
      "outputs": [
        {
          "output_type": "execute_result",
          "data": {
            "text/plain": [
              "['/content/drive/MyDrive/saved_models/logisticregression_v2.pkl']"
            ]
          },
          "metadata": {},
          "execution_count": 52
        }
      ],
      "source": [
        "#Saving model\n",
        "joblib.dump(model_lg, \"/content/drive/MyDrive/saved_models/logisticregression_v2.pkl\")"
      ]
    },
    {
      "cell_type": "code",
      "source": [],
      "metadata": {
        "id": "SUx7dQgMlDaJ"
      },
      "execution_count": null,
      "outputs": []
    }
  ],
  "metadata": {
    "colab": {
      "machine_shape": "hm",
      "provenance": [],
      "gpuType": "A100",
      "mount_file_id": "1rQtyZMWsAkiGSF3_N5KdQM09Mu9inxb4",
      "authorship_tag": "ABX9TyMSrRm6NOuU1mgVNOk+3yLi",
      "include_colab_link": true
    },
    "kernelspec": {
      "display_name": "Python 3",
      "name": "python3"
    },
    "language_info": {
      "name": "python"
    },
    "accelerator": "GPU"
  },
  "nbformat": 4,
  "nbformat_minor": 0
}