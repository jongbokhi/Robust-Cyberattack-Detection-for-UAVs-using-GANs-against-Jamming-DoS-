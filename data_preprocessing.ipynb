{
 "cells": [
  {
   "cell_type": "code",
   "execution_count": 21,
   "id": "8ff5fdc8-85b7-4a2b-b288-8d5564f8d9e5",
   "metadata": {},
   "outputs": [],
   "source": [
    "import pandas as pd\n",
    "import numpy as np\n",
    "import os"
   ]
  },
  {
   "cell_type": "code",
   "execution_count": 5,
   "id": "0c6b35da-a392-4fa0-872e-7c07d7e4a53e",
   "metadata": {},
   "outputs": [],
   "source": [
    "df_cic_ids2018 = pd.read_csv('/thesis_projects/dataset/agg_csv/all_data.csv')"
   ]
  },
  {
   "cell_type": "code",
   "execution_count": 4,
   "id": "f18ea0af-0c16-4367-9dae-d07806da2d15",
   "metadata": {},
   "outputs": [],
   "source": [
    "df_benign = pd.read_csv('/thesis_projects/dataset/agg_csv/all_benign.csv')\n",
    "df_malicious = pd.read_csv('/thesis_projects/dataset/agg_csv/all_malicious.csv')"
   ]
  },
  {
   "cell_type": "code",
   "execution_count": 4,
   "id": "fec112f8-5838-4e5d-a7fb-f50819ff5a22",
   "metadata": {},
   "outputs": [
    {
     "data": {
      "text/html": [
       "<div>\n",
       "<style scoped>\n",
       "    .dataframe tbody tr th:only-of-type {\n",
       "        vertical-align: middle;\n",
       "    }\n",
       "\n",
       "    .dataframe tbody tr th {\n",
       "        vertical-align: top;\n",
       "    }\n",
       "\n",
       "    .dataframe thead th {\n",
       "        text-align: right;\n",
       "    }\n",
       "</style>\n",
       "<table border=\"1\" class=\"dataframe\">\n",
       "  <thead>\n",
       "    <tr style=\"text-align: right;\">\n",
       "      <th></th>\n",
       "      <th>Destination Port</th>\n",
       "      <th>Protocol</th>\n",
       "      <th>Timestamp</th>\n",
       "      <th>Flow Duration</th>\n",
       "      <th>Total Fwd Packets</th>\n",
       "      <th>Total Backward Packets</th>\n",
       "      <th>Fwd Packets Length Total</th>\n",
       "      <th>Bwd Packets Length Total</th>\n",
       "      <th>Fwd Packet Length Max</th>\n",
       "      <th>Fwd Packet Length Min</th>\n",
       "      <th>...</th>\n",
       "      <th>Fwd Seg Size Min</th>\n",
       "      <th>Active Mean</th>\n",
       "      <th>Active Std</th>\n",
       "      <th>Active Max</th>\n",
       "      <th>Active Min</th>\n",
       "      <th>Idle Mean</th>\n",
       "      <th>Idle Std</th>\n",
       "      <th>Idle Max</th>\n",
       "      <th>Idle Min</th>\n",
       "      <th>Label</th>\n",
       "    </tr>\n",
       "  </thead>\n",
       "  <tbody>\n",
       "    <tr>\n",
       "      <th>0</th>\n",
       "      <td>49453.0</td>\n",
       "      <td>6.0</td>\n",
       "      <td>2018-02-15 08:23:27</td>\n",
       "      <td>162133.0</td>\n",
       "      <td>3.0</td>\n",
       "      <td>2.0</td>\n",
       "      <td>752.0</td>\n",
       "      <td>693.0</td>\n",
       "      <td>645.0</td>\n",
       "      <td>0.0</td>\n",
       "      <td>...</td>\n",
       "      <td>20.0</td>\n",
       "      <td>0.0</td>\n",
       "      <td>0.0</td>\n",
       "      <td>0.0</td>\n",
       "      <td>0.0</td>\n",
       "      <td>0.0</td>\n",
       "      <td>0.0</td>\n",
       "      <td>0.0</td>\n",
       "      <td>0.0</td>\n",
       "      <td>Benign</td>\n",
       "    </tr>\n",
       "    <tr>\n",
       "      <th>1</th>\n",
       "      <td>443.0</td>\n",
       "      <td>6.0</td>\n",
       "      <td>2018-02-15 08:23:27</td>\n",
       "      <td>746334.0</td>\n",
       "      <td>8.0</td>\n",
       "      <td>10.0</td>\n",
       "      <td>951.0</td>\n",
       "      <td>4474.0</td>\n",
       "      <td>389.0</td>\n",
       "      <td>0.0</td>\n",
       "      <td>...</td>\n",
       "      <td>20.0</td>\n",
       "      <td>0.0</td>\n",
       "      <td>0.0</td>\n",
       "      <td>0.0</td>\n",
       "      <td>0.0</td>\n",
       "      <td>0.0</td>\n",
       "      <td>0.0</td>\n",
       "      <td>0.0</td>\n",
       "      <td>0.0</td>\n",
       "      <td>Benign</td>\n",
       "    </tr>\n",
       "    <tr>\n",
       "      <th>2</th>\n",
       "      <td>0.0</td>\n",
       "      <td>0.0</td>\n",
       "      <td>2018-02-15 08:23:27</td>\n",
       "      <td>133061.0</td>\n",
       "      <td>3.0</td>\n",
       "      <td>0.0</td>\n",
       "      <td>0.0</td>\n",
       "      <td>0.0</td>\n",
       "      <td>0.0</td>\n",
       "      <td>0.0</td>\n",
       "      <td>...</td>\n",
       "      <td>0.0</td>\n",
       "      <td>0.0</td>\n",
       "      <td>0.0</td>\n",
       "      <td>0.0</td>\n",
       "      <td>0.0</td>\n",
       "      <td>0.0</td>\n",
       "      <td>0.0</td>\n",
       "      <td>0.0</td>\n",
       "      <td>0.0</td>\n",
       "      <td>Benign</td>\n",
       "    </tr>\n",
       "    <tr>\n",
       "      <th>3</th>\n",
       "      <td>137.0</td>\n",
       "      <td>17.0</td>\n",
       "      <td>2018-02-15 08:23:27</td>\n",
       "      <td>67561383.0</td>\n",
       "      <td>10.0</td>\n",
       "      <td>0.0</td>\n",
       "      <td>572.0</td>\n",
       "      <td>0.0</td>\n",
       "      <td>68.0</td>\n",
       "      <td>50.0</td>\n",
       "      <td>...</td>\n",
       "      <td>8.0</td>\n",
       "      <td>5249858.0</td>\n",
       "      <td>0.0</td>\n",
       "      <td>5249858.0</td>\n",
       "      <td>5249858.0</td>\n",
       "      <td>60782864.0</td>\n",
       "      <td>0.0</td>\n",
       "      <td>60782865.0</td>\n",
       "      <td>60782865.0</td>\n",
       "      <td>Benign</td>\n",
       "    </tr>\n",
       "    <tr>\n",
       "      <th>4</th>\n",
       "      <td>49453.0</td>\n",
       "      <td>6.0</td>\n",
       "      <td>2018-02-15 08:23:27</td>\n",
       "      <td>23.0</td>\n",
       "      <td>1.0</td>\n",
       "      <td>1.0</td>\n",
       "      <td>0.0</td>\n",
       "      <td>0.0</td>\n",
       "      <td>0.0</td>\n",
       "      <td>0.0</td>\n",
       "      <td>...</td>\n",
       "      <td>20.0</td>\n",
       "      <td>0.0</td>\n",
       "      <td>0.0</td>\n",
       "      <td>0.0</td>\n",
       "      <td>0.0</td>\n",
       "      <td>0.0</td>\n",
       "      <td>0.0</td>\n",
       "      <td>0.0</td>\n",
       "      <td>0.0</td>\n",
       "      <td>Benign</td>\n",
       "    </tr>\n",
       "  </tbody>\n",
       "</table>\n",
       "<p>5 rows × 70 columns</p>\n",
       "</div>"
      ],
      "text/plain": [
       "   Destination Port  Protocol            Timestamp  Flow Duration   \n",
       "0           49453.0       6.0  2018-02-15 08:23:27       162133.0  \\\n",
       "1             443.0       6.0  2018-02-15 08:23:27       746334.0   \n",
       "2               0.0       0.0  2018-02-15 08:23:27       133061.0   \n",
       "3             137.0      17.0  2018-02-15 08:23:27     67561383.0   \n",
       "4           49453.0       6.0  2018-02-15 08:23:27           23.0   \n",
       "\n",
       "   Total Fwd Packets  Total Backward Packets  Fwd Packets Length Total   \n",
       "0                3.0                     2.0                     752.0  \\\n",
       "1                8.0                    10.0                     951.0   \n",
       "2                3.0                     0.0                       0.0   \n",
       "3               10.0                     0.0                     572.0   \n",
       "4                1.0                     1.0                       0.0   \n",
       "\n",
       "   Bwd Packets Length Total  Fwd Packet Length Max  Fwd Packet Length Min   \n",
       "0                     693.0                  645.0                    0.0  \\\n",
       "1                    4474.0                  389.0                    0.0   \n",
       "2                       0.0                    0.0                    0.0   \n",
       "3                       0.0                   68.0                   50.0   \n",
       "4                       0.0                    0.0                    0.0   \n",
       "\n",
       "   ...  Fwd Seg Size Min  Active Mean  Active Std  Active Max  Active Min   \n",
       "0  ...              20.0          0.0         0.0         0.0         0.0  \\\n",
       "1  ...              20.0          0.0         0.0         0.0         0.0   \n",
       "2  ...               0.0          0.0         0.0         0.0         0.0   \n",
       "3  ...               8.0    5249858.0         0.0   5249858.0   5249858.0   \n",
       "4  ...              20.0          0.0         0.0         0.0         0.0   \n",
       "\n",
       "    Idle Mean  Idle Std    Idle Max    Idle Min   Label  \n",
       "0         0.0       0.0         0.0         0.0  Benign  \n",
       "1         0.0       0.0         0.0         0.0  Benign  \n",
       "2         0.0       0.0         0.0         0.0  Benign  \n",
       "3  60782864.0       0.0  60782865.0  60782865.0  Benign  \n",
       "4         0.0       0.0         0.0         0.0  Benign  \n",
       "\n",
       "[5 rows x 70 columns]"
      ]
     },
     "execution_count": 4,
     "metadata": {},
     "output_type": "execute_result"
    }
   ],
   "source": [
    "df_cic_ids2018.head(5)"
   ]
  },
  {
   "cell_type": "code",
   "execution_count": 5,
   "id": "6afedde8-e45c-460d-9a59-1a600934fea2",
   "metadata": {},
   "outputs": [
    {
     "name": "stdout",
     "output_type": "stream",
     "text": [
      "Columns\n"
     ]
    },
    {
     "data": {
      "text/plain": [
       "Index(['Destination Port', 'Protocol', 'Timestamp', 'Flow Duration',\n",
       "       'Total Fwd Packets', 'Total Backward Packets',\n",
       "       'Fwd Packets Length Total', 'Bwd Packets Length Total',\n",
       "       'Fwd Packet Length Max', 'Fwd Packet Length Min',\n",
       "       'Fwd Packet Length Mean', 'Fwd Packet Length Std',\n",
       "       'Bwd Packet Length Max', 'Bwd Packet Length Min',\n",
       "       'Bwd Packet Length Mean', 'Bwd Packet Length Std', 'Flow Bytes/s',\n",
       "       'Flow Packets/s', 'Flow IAT Mean', 'Flow IAT Std', 'Flow IAT Max',\n",
       "       'Flow IAT Min', 'Fwd IAT Total', 'Fwd IAT Mean', 'Fwd IAT Std',\n",
       "       'Fwd IAT Max', 'Fwd IAT Min', 'Bwd IAT Total', 'Bwd IAT Mean',\n",
       "       'Bwd IAT Std', 'Bwd IAT Max', 'Bwd IAT Min', 'Fwd PSH Flags',\n",
       "       'Fwd Header Length', 'Bwd Header Length', 'Fwd Packets/s',\n",
       "       'Bwd Packets/s', 'Packet Length Min', 'Packet Length Max',\n",
       "       'Packet Length Mean', 'Packet Length Std', 'Packet Length Variance',\n",
       "       'FIN Flag Count', 'SYN Flag Count', 'RST Flag Count', 'PSH Flag Count',\n",
       "       'ACK Flag Count', 'URG Flag Count', 'ECE Flag Count', 'Down/Up Ratio',\n",
       "       'Avg Packet Size', 'Avg Fwd Segment Size', 'Avg Bwd Segment Size',\n",
       "       'Subflow Fwd Packets', 'Subflow Fwd Bytes', 'Subflow Bwd Packets',\n",
       "       'Subflow Bwd Bytes', 'Init Fwd Win Bytes', 'Init Bwd Win Bytes',\n",
       "       'Fwd Act Data Packets', 'Fwd Seg Size Min', 'Active Mean', 'Active Std',\n",
       "       'Active Max', 'Active Min', 'Idle Mean', 'Idle Std', 'Idle Max',\n",
       "       'Idle Min', 'Label'],\n",
       "      dtype='object')"
      ]
     },
     "execution_count": 5,
     "metadata": {},
     "output_type": "execute_result"
    }
   ],
   "source": [
    "print(\"Columns\")\n",
    "df_cic_ids2018.columns"
   ]
  },
  {
   "cell_type": "code",
   "execution_count": 6,
   "id": "01ef2a37-c4c6-4556-9938-e2cb3b6f1bab",
   "metadata": {},
   "outputs": [],
   "source": [
    "# drop Timestamp' variable\n",
    "df_cic_ids2018 = df_cic_ids2018.drop('Timestamp', axis=1)"
   ]
  },
  {
   "cell_type": "code",
   "execution_count": 7,
   "id": "38a4d156-0b9a-4057-91da-2132f0f7e894",
   "metadata": {},
   "outputs": [],
   "source": [
    "### Analysis of dataset"
   ]
  },
  {
   "cell_type": "code",
   "execution_count": 8,
   "id": "5d4194bd-ebe3-41c0-9d38-d978eece8637",
   "metadata": {},
   "outputs": [
    {
     "name": "stdout",
     "output_type": "stream",
     "text": [
      "Number of rows: 1468847\n",
      "Number of columns: 69\n"
     ]
    }
   ],
   "source": [
    "print(f\"Number of rows: {df_cic_ids2018.shape[0]}\")\n",
    "print(f\"Number of columns: {df_cic_ids2018.shape[1]}\")"
   ]
  },
  {
   "cell_type": "code",
   "execution_count": 9,
   "id": "5a3ea596-41c0-45a9-9ec8-dc3a7ba0f4c0",
   "metadata": {},
   "outputs": [],
   "source": [
    "#Check the distribution of dataset"
   ]
  },
  {
   "cell_type": "code",
   "execution_count": 10,
   "id": "f2722614-6af8-4779-84b4-4d5eff2eaad2",
   "metadata": {},
   "outputs": [
    {
     "name": "stdout",
     "output_type": "stream",
     "text": [
      "Class distribution:\n"
     ]
    },
    {
     "data": {
      "text/plain": [
       "Label\n",
       "Benign                      1272279\n",
       "DoS attacks-Hulk             145199\n",
       "DoS attacks-GoldenEye         41406\n",
       "DoS attacks-Slowloris          9908\n",
       "DoS attacks-SlowHTTPTest         55\n",
       "Name: count, dtype: int64"
      ]
     },
     "execution_count": 10,
     "metadata": {},
     "output_type": "execute_result"
    }
   ],
   "source": [
    "print('Class distribution:')\n",
    "df_cic_ids2018['Label'].value_counts()"
   ]
  },
  {
   "cell_type": "code",
   "execution_count": 11,
   "id": "b0b883ce-6114-40b6-98f6-712955dcd8d3",
   "metadata": {},
   "outputs": [
    {
     "name": "stdout",
     "output_type": "stream",
     "text": [
      "Class distribution (normalized):\n"
     ]
    },
    {
     "data": {
      "text/plain": [
       "Label\n",
       "Benign                      86.617531\n",
       "DoS attacks-Hulk             9.885237\n",
       "DoS attacks-GoldenEye        2.818946\n",
       "DoS attacks-Slowloris        0.674543\n",
       "DoS attacks-SlowHTTPTest     0.003744\n",
       "Name: count, dtype: float64"
      ]
     },
     "execution_count": 11,
     "metadata": {},
     "output_type": "execute_result"
    }
   ],
   "source": [
    "print('Class distribution (normalized):')\n",
    "df_cic_ids2018['Label'].value_counts()/df_cic_ids2018.shape[0]*100"
   ]
  },
  {
   "cell_type": "code",
   "execution_count": 12,
   "id": "dd951361-5cfc-444e-a901-2d7ad36cb12d",
   "metadata": {},
   "outputs": [
    {
     "data": {
      "image/png": "[encoded data removed]",
      "text/plain": [
       "<Figure size 640x480 with 1 Axes>"
      ]
     },
     "metadata": {},
     "output_type": "display_data"
    }
   ],
   "source": [
    "import matplotlib.pyplot as plt\n",
    "\n",
    "benign_count = len(df_benign)\n",
    "malicious_count = len(df_malicious)\n",
    "\n",
    "# Create a list of counts\n",
    "counts = [benign_count, malicious_count]\n",
    "\n",
    "# Create labels for the pie chart\n",
    "labels = ['Benign', 'Malicious']\n",
    "\n",
    "# Create the pie chart\n",
    "plt.pie(counts, labels=labels, autopct='%1.1f%%', startangle=90)\n",
    "\n",
    "# Set plot title\n",
    "plt.title('Distribution of Benign and Malicious Data')\n",
    "\n",
    "# Display the pie chart\n",
    "plt.show()"
   ]
  },
  {
   "cell_type": "code",
   "execution_count": 13,
   "id": "1c234bea-9539-4c0a-abbd-63dcf62f89e2",
   "metadata": {},
   "outputs": [],
   "source": [
    "#Check missing values"
   ]
  },
  {
   "cell_type": "code",
   "execution_count": 14,
   "id": "c80f50a3-c9c5-4de6-b594-92007eb18c5c",
   "metadata": {},
   "outputs": [
    {
     "name": "stdout",
     "output_type": "stream",
     "text": [
      "Rows contain null value: \n",
      "Series([], dtype: int64)\n",
      "\n",
      "Rows contain null value (percentage): \n",
      "Series([], dtype: float64)\n",
      "\n"
     ]
    }
   ],
   "source": [
    "mssing_count = df_cic_ids2018.isnull().sum()\n",
    "mssing_count = mssing_count[mssing_count > 0]\n",
    "print(f\"Rows contain null value: \\n{mssing_count}\\n\")\n",
    "\n",
    "mssing_count = mssing_count /mssing_count.shape[0] * 100\n",
    "print(f\"Rows contain null value (percentage): \\n{mssing_count}\\n\")"
   ]
  },
  {
   "cell_type": "code",
   "execution_count": 15,
   "id": "98052177-ecf5-48a2-b5fb-01b5e582160f",
   "metadata": {},
   "outputs": [],
   "source": [
    "#Check for infinity value"
   ]
  },
  {
   "cell_type": "code",
   "execution_count": 16,
   "id": "8192be63-ee21-40f3-8d80-5469d78f5482",
   "metadata": {},
   "outputs": [
    {
     "name": "stdout",
     "output_type": "stream",
     "text": [
      "Number of rows includes infinity value: 0; 0.00% of rows\n"
     ]
    }
   ],
   "source": [
    "inf_count = np.isinf(df_cic_ids2018.iloc[:, 3:-1]).any(axis=1).sum()\n",
    "print(f'Number of rows includes infinity value: {inf_count}; {inf_count/df_cic_ids2018.shape[0]*100:.2f}% of rows')"
   ]
  },
  {
   "cell_type": "code",
   "execution_count": 17,
   "id": "70a57d95-c32b-49b6-a335-31d8fd1c4dbd",
   "metadata": {},
   "outputs": [],
   "source": [
    "#Check for duplicates"
   ]
  },
  {
   "cell_type": "code",
   "execution_count": 18,
   "id": "39e8e91e-f56c-4750-9482-06845c340df6",
   "metadata": {},
   "outputs": [
    {
     "data": {
      "text/plain": [
       "Index([], dtype='object')"
      ]
     },
     "execution_count": 18,
     "metadata": {},
     "output_type": "execute_result"
    }
   ],
   "source": [
    "#1.Check for duplicated column\n",
    "df_cic_ids2018.columns[df_cic_ids2018.columns.value_counts() > 1]"
   ]
  },
  {
   "cell_type": "code",
   "execution_count": 19,
   "id": "c67531f7-7f20-41ea-92bf-66fdc8e6d26e",
   "metadata": {},
   "outputs": [
    {
     "name": "stdout",
     "output_type": "stream",
     "text": [
      "number of duplicated rows: 0\n",
      "0.00% of rows are duplicates\n"
     ]
    }
   ],
   "source": [
    "#2.Check for duplicate rows\n",
    "\n",
    "df_cic_ids2018_duplicates = df_cic_ids2018[df_cic_ids2018.duplicated()]\n",
    "print(f\"number of duplicated rows: {df_cic_ids2018_duplicates.shape[0]}\")\n",
    "print(f\"{df_cic_ids2018_duplicates.shape[0]/df_cic_ids2018.shape[0]*100:.2f}% of rows are duplicates\")"
   ]
  },
  {
   "cell_type": "code",
   "execution_count": null,
   "id": "1bfaa01b-d790-4f78-b17a-acb807007b11",
   "metadata": {},
   "outputs": [],
   "source": [
    "#======================================================== Check point ========================================================================="
   ]
  },
  {
   "cell_type": "code",
   "execution_count": 7,
   "id": "20448c49-dd19-4a4a-ba21-5d470987509f",
   "metadata": {},
   "outputs": [
    {
     "data": {
      "text/plain": [
       "Label\n",
       "benign       1272279\n",
       "malicious     196568\n",
       "Name: count, dtype: int64"
      ]
     },
     "execution_count": 7,
     "metadata": {},
     "output_type": "execute_result"
    }
   ],
   "source": [
    "##Relabel for Dos types\n",
    "df_cic_ids2018.loc[df_cic_ids2018['Label'] != 'Benign', 'Label'] = 'malicious'\n",
    "df_cic_ids2018.loc[df_cic_ids2018['Label'] == 'Benign', 'Label'] = 'benign'\n",
    "\n",
    "df_cic_ids2018['Label'].value_counts()"
   ]
  },
  {
   "cell_type": "code",
   "execution_count": 8,
   "id": "bcf5e70a-a198-438a-88e2-799465b72588",
   "metadata": {},
   "outputs": [
    {
     "name": "stdout",
     "output_type": "stream",
     "text": [
      "Destination Port          float64\n",
      "Protocol                  float64\n",
      "Flow Duration             float64\n",
      "Total Fwd Packets         float64\n",
      "Total Backward Packets    float64\n",
      "                           ...   \n",
      "Idle Mean                 float64\n",
      "Idle Std                  float64\n",
      "Idle Max                  float64\n",
      "Idle Min                  float64\n",
      "Label                      object\n",
      "Length: 69, dtype: object\n"
     ]
    }
   ],
   "source": [
    "print(df_cic_ids2018.dtypes)"
   ]
  },
  {
   "cell_type": "code",
   "execution_count": 9,
   "id": "47d5b0a7-c1ae-444a-800a-fc0c0f249b7c",
   "metadata": {},
   "outputs": [],
   "source": [
    "#change 'object' to 'catagorical' varible \n",
    "df_cic_ids2018['Label'] = df_cic_ids2018['Label'].astype('category')"
   ]
  },
  {
   "cell_type": "code",
   "execution_count": 10,
   "id": "9e49828c-95ba-4b04-8bcf-ee9dfd7eff58",
   "metadata": {},
   "outputs": [
    {
     "name": "stdout",
     "output_type": "stream",
     "text": [
      "Destination Port           float64\n",
      "Protocol                   float64\n",
      "Flow Duration              float64\n",
      "Total Fwd Packets          float64\n",
      "Total Backward Packets     float64\n",
      "                            ...   \n",
      "Idle Mean                  float64\n",
      "Idle Std                   float64\n",
      "Idle Max                   float64\n",
      "Idle Min                   float64\n",
      "Label                     category\n",
      "Length: 69, dtype: object\n"
     ]
    }
   ],
   "source": [
    "print(df_cic_ids2018.dtypes)"
   ]
  },
  {
   "cell_type": "code",
   "execution_count": 11,
   "id": "cda08e82-d00d-409b-9acf-0963f414cbee",
   "metadata": {},
   "outputs": [],
   "source": [
    "##Encoding Target variable for Classification \n",
    "from sklearn.preprocessing import LabelEncoder\n",
    "labelencoder = LabelEncoder()\n",
    "\n",
    "df_cic_ids2018['Label'] = labelencoder.fit_transform(df_cic_ids2018['Label']) # 'benign'=0, 'malicious' = 1"
   ]
  },
  {
   "cell_type": "code",
   "execution_count": 16,
   "id": "00330520-db34-4ebd-9a00-7fd5b26d2e8a",
   "metadata": {},
   "outputs": [],
   "source": [
    "#Svae dataset \n",
    "df_cic_ids2018.to_csv('encoded_ids2018.csv', index=False)"
   ]
  },
  {
   "cell_type": "code",
   "execution_count": 6,
   "id": "a2620dad-6078-41de-bb1e-e6372ec8e9eb",
   "metadata": {},
   "outputs": [],
   "source": [
    "## Set X and Y "
   ]
  },
  {
   "cell_type": "code",
   "execution_count": 12,
   "id": "c42c93d1-15de-4fc6-8115-6214a2670ed5",
   "metadata": {},
   "outputs": [],
   "source": [
    "ids2018_x = df_cic_ids2018.drop('Label', axis=1).copy()\n",
    "ids2018_y = df_cic_ids2018['Label'].copy()"
   ]
  },
  {
   "cell_type": "code",
   "execution_count": null,
   "id": "940f0954-3959-4279-857c-a5bfcaf57116",
   "metadata": {},
   "outputs": [],
   "source": [
    "#Svae dataset_X_Y"
   ]
  },
  {
   "cell_type": "code",
   "execution_count": 17,
   "id": "1b4388e8-fb60-41a8-871e-c0c043c710ef",
   "metadata": {},
   "outputs": [],
   "source": [
    "ids2018_x.to_csv('features_ids2018.csv', index=False)\n",
    "ids2018_y.to_csv('target_ids2018.csv', index=False)"
   ]
  },
  {
   "cell_type": "code",
   "execution_count": null,
   "id": "0abfc55a-8f58-4f09-bbeb-fe55b42825ce",
   "metadata": {},
   "outputs": [],
   "source": [
    "## procedure\n",
    "#1. Split dataset into Training and Test (preserves the same proportions of examples in each class as observed in the original dataset): Stratified Train-Test Splits\n",
    "#2. Featureselection using only Training dataset: Randomforest/XGboost\n",
    "#3. Stratified K-fold Cross valisation for Training Dataset: applying Undersampling at the same time. \n",
    "#4. Undersampling for Training dataset : Neighborhood Cleaning Rule"
   ]
  },
  {
   "cell_type": "code",
   "execution_count": null,
   "id": "c6cdac3c-42ff-4857-af66-a2ba4f4f2b69",
   "metadata": {},
   "outputs": [],
   "source": [
    "\"\"\"\n",
    "### Imbalanced dataset 절차\n",
    "\n",
    "#1. Split dataset into Trianing and Test : Stratified Train-Test Splits\n",
    "#2. Feature Selcetion : Feature Selcection은 Undersampling or Oversampling 전에 Training dataset만을 가지고 진행 \n",
    "#2.K-folds cross validation for Training dataset(Don`t use the test dataset) : Cross Validation은 Training dataset을 가지고 한다!\n",
    "주의사항: dersampling or Oversanpling을 먼저 진행해서는 안된다. 먼저 진행하게 되면 validation과 testdatset의 정보를 사용하는 것과 마찬가지 인다. 절대 validation set과 test set의 정보는 evaluation전에 사용되서는 안된다. \n",
    "1)각 폴더마다 Undersamplin or Oversampling을 진행\n",
    "2)비교 모델들에 대해 각 K개의 training datasets으로 fitting 한후 k개의 validation set으로 평가한 후 \n",
    "3)각 모델의 평균 accuracy 비교후 최종 모델 선택\n",
    "\n",
    "#3.최종 모델을 가지고 Training dataset을 이용해 Re train 한다\n",
    "\n",
    "#4. Test set을 가지고 Retrain된 최종 모델을 평가. \n",
    "\n",
    "참고 site:\n",
    "https://machinelearningmastery.com/combine-oversampling-and-undersampling-for-imbalanced-classification/\n",
    "https://kiwidamien.github.io/how-to-do-cross-validation-when-upsampling-data.html\n",
    "https://www.marcoaltini.com/blog/dealing-with-imbalanced-data-undersampling-oversampling-and-proper-cross-validation\n",
    "\"\"\""
   ]
  }
 ],
 "metadata": {
  "kernelspec": {
   "display_name": "Python 3 (ipykernel)",
   "language": "python",
   "name": "python3"
  },
  "language_info": {
   "codemirror_mode": {
    "name": "ipython",
    "version": 3
   },
   "file_extension": ".py",
   "mimetype": "text/x-python",
   "name": "python",
   "nbconvert_exporter": "python",
   "pygments_lexer": "ipython3",
   "version": "3.8.10"
  }
 },
 "nbformat": 4,
 "nbformat_minor": 5
}
