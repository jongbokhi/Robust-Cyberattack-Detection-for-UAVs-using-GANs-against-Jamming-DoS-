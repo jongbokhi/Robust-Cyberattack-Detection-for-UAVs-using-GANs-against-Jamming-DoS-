{
  "nbformat": 4,
  "nbformat_minor": 0,
  "metadata": {
    "colab": {
      "provenance": [],
      "machine_shape": "hm",
      "gpuType": "A100",
      "mount_file_id": "1nkgd82Tx9WsKNTMQsZwEFWOcANzczTtF",
      "authorship_tag": "ABX9TyPqZqo2pI+2iXGBdW/ZiVG4",
      "include_colab_link": true
    },
    "kernelspec": {
      "name": "python3",
      "display_name": "Python 3"
    },
    "language_info": {
      "name": "python"
    },
    "accelerator": "GPU"
  },
  "cells": [
    {
      "cell_type": "markdown",
      "metadata": {
        "id": "view-in-github",
        "colab_type": "text"
      },
      "source": [
        "<a href=\"https://colab.research.google.com/github/jongbokhi/master_thesis_2023/blob/main/Adversarial_training_A2PM.ipynb\" target=\"_parent\"><img src=\"https://colab.research.google.com/assets/colab-badge.svg\" alt=\"Open In Colab\"/></a>"
      ]
    },
    {
      "cell_type": "code",
      "source": [
        "!pip install a2pm"
      ],
      "metadata": {
        "id": "qO-6AaIXCIQ8"
      },
      "execution_count": null,
      "outputs": []
    },
    {
      "cell_type": "code",
      "execution_count": 35,
      "metadata": {
        "id": "q48PGk6f_daU"
      },
      "outputs": [],
      "source": [
        "import numpy as np\n",
        "import pandas as pd\n",
        "import joblib\n",
        "import matplotlib.pyplot as plt\n",
        "from sklearn.metrics import f1_score, accuracy_score, recall_score\n",
        "\n",
        "from a2pm import A2PMethod\n",
        "from a2pm.callbacks import BaseCallback, MetricCallback, TimeCallback\n",
        "from a2pm.patterns import BasePattern, CombinationPattern, IntervalPattern\n",
        "from a2pm.wrappers import BaseWrapper, KerasWrapper, SklearnWrapper, TorchWrapper\n",
        "\n",
        "\n",
        "from imblearn.pipeline import make_pipeline\n",
        "from imblearn.under_sampling import EditedNearestNeighbours\n",
        "from imblearn.over_sampling import SMOTE\n",
        "from imblearn.combine import SMOTEENN\n",
        "\n",
        "from sklearn.ensemble import RandomForestClassifier\n",
        "from sklearn import tree\n",
        "from sklearn.svm import SVC\n",
        "from sklearn.naive_bayes import GaussianNB\n",
        "\n",
        "from sklearn.model_selection import cross_val_score, GridSearchCV, train_test_split, StratifiedKFold\n",
        "from sklearn.metrics import precision_recall_curve, auc, roc_curve, accuracy_score, f1_score, precision_score, recall_score, roc_auc_score, confusion_matrix, classification_report, ConfusionMatrixDisplay\n",
        "\n",
        "import warnings\n",
        "\n",
        "# Ignore the warning about missing feature names\n",
        "warnings.filterwarnings(\"ignore\", category=UserWarning)"
      ]
    },
    {
      "cell_type": "code",
      "source": [
        "origin_X_train = pd.read_csv('/content/drive/MyDrive/new_cic_ids_2018 data/X_train.csv')\n",
        "origin_y_train = pd.read_csv('/content/drive/MyDrive/new_cic_ids_2018 data/y_train.csv')"
      ],
      "metadata": {
        "id": "vRPHFW0rCnmM"
      },
      "execution_count": 21,
      "outputs": []
    },
    {
      "cell_type": "code",
      "source": [
        "origin_train_df = pd.concat([origin_X_train, origin_y_train], axis=1, ignore_index=False)"
      ],
      "metadata": {
        "id": "20iq5WqTDM2N"
      },
      "execution_count": 22,
      "outputs": []
    },
    {
      "cell_type": "code",
      "source": [
        "fake_df = pd.read_csv('/content/drive/MyDrive/new_cic_ids_2018 data/fake_benign_df.csv')"
      ],
      "metadata": {
        "id": "gDmSMqkGCoB8"
      },
      "execution_count": 23,
      "outputs": []
    },
    {
      "cell_type": "code",
      "source": [
        "combined_train_df = pd.concat([origin_train_df, fake_df], axis=0, ignore_index=False)"
      ],
      "metadata": {
        "id": "V6hERLYfEVoV"
      },
      "execution_count": 24,
      "outputs": []
    },
    {
      "cell_type": "code",
      "source": [
        "##Sort the feature and Target variable\n",
        "com_x_train = combined_train_df.drop('Label', axis=1).copy()\n",
        "com_y_train = combined_train_df['Label'].copy()"
      ],
      "metadata": {
        "id": "WYbHwatPEKv9"
      },
      "execution_count": 25,
      "outputs": []
    },
    {
      "cell_type": "code",
      "source": [],
      "metadata": {
        "id": "e4rAKivBHi2f"
      },
      "execution_count": 25,
      "outputs": []
    },
    {
      "cell_type": "code",
      "source": [
        "pattern = (\n",
        "\n",
        "    # First pattern to be applied: Interval\n",
        "    {\n",
        "        \"type\": \"interval\",\n",
        "        \"features\": list(range(0, 20)),\n",
        "        \"integer_features\": list(range(10, 20)),\n",
        "        \"ratio\": 0.1,\n",
        "        \"max_ratio\": 0.3,\n",
        "        \"missing_value\": 0.0,\n",
        "        \"probability\": 0.6,\n",
        "    },\n",
        "\n",
        "    # Second pattern to be applied: Combination\n",
        "    {\n",
        "        \"type\": \"combination\",\n",
        "        \"features\": list(range(17, 40)),\n",
        "        \"locked_features\": list(range(30, 40)),\n",
        "        \"probability\": 0.4,\n",
        "    },\n",
        ")\n",
        "\n",
        "method = A2PMethod(pattern)"
      ],
      "metadata": {
        "id": "-fu2IP5bagoG"
      },
      "execution_count": 26,
      "outputs": []
    },
    {
      "cell_type": "code",
      "source": [
        "# Create an instance of the IntervalPattern\n",
        "pattern = IntervalPattern()\n",
        "\n",
        "# Set the target label for malicious samples as 'Benign' (0)\n",
        "pattern.partial_fit(com_x_train[com_y_train == 1])\n",
        "\n",
        "# Create an instance of the A2PM classifier\n",
        "a2pm_classifier = A2PMethod(pattern)"
      ],
      "metadata": {
        "id": "XA2AidDpKDyV"
      },
      "execution_count": 27,
      "outputs": []
    },
    {
      "cell_type": "code",
      "source": [
        "# Adapts to new data, and then creates adversarial examples\n",
        "X_adversarial = a2pm_classifier.fit_transform(com_x_train, com_y_train)"
      ],
      "metadata": {
        "id": "TOTGNGkdEK4s"
      },
      "execution_count": 28,
      "outputs": []
    },
    {
      "cell_type": "code",
      "source": [
        "X_adversarial.shape"
      ],
      "metadata": {
        "colab": {
          "base_uri": "https://localhost:8080/"
        },
        "id": "KQguB9oXEK7c",
        "outputId": "938490a9-7b84-4fa6-9ddf-34928c4b431b"
      },
      "execution_count": 29,
      "outputs": [
        {
          "output_type": "execute_result",
          "data": {
            "text/plain": [
              "(112625, 17)"
            ]
          },
          "metadata": {},
          "execution_count": 29
        }
      ]
    },
    {
      "cell_type": "code",
      "source": [
        "adversarial_X_df = pd.DataFrame(X_adversarial, columns=com_x_train.columns.tolist())"
      ],
      "metadata": {
        "id": "Q3QrA6ceIMwG"
      },
      "execution_count": 30,
      "outputs": []
    },
    {
      "cell_type": "code",
      "source": [
        "adversarial_X_df"
      ],
      "metadata": {
        "colab": {
          "base_uri": "https://localhost:8080/",
          "height": 676
        },
        "id": "XO5HcFcDImgF",
        "outputId": "b8719094-6675-430b-abe4-a8bedc83a32e"
      },
      "execution_count": 31,
      "outputs": [
        {
          "output_type": "execute_result",
          "data": {
            "text/plain": [
              "         Bwd IAT Tot  Bwd Pkt Len Max  Flow Duration  Flow IAT Min  \\\n",
              "0       1.436462e-01         0.517021   4.521146e-02  4.167905e-08   \n",
              "1       9.844186e-01         0.323347   8.677184e-01  8.252451e-09   \n",
              "2       9.842612e-02         0.051702   4.122668e-04  5.787699e-02   \n",
              "3       0.000000e+00         0.147815   3.541439e-02  5.835067e-08   \n",
              "4       0.000000e+00         0.750000   8.250002e-09  8.335810e-09   \n",
              "...              ...              ...            ...           ...   \n",
              "112620  1.363973e-07         0.729689   7.975982e-05  5.824882e-02   \n",
              "112621  3.744506e-05         0.056838   8.250002e-09  1.014142e-05   \n",
              "112622  1.078365e-03         0.014979   8.437640e-03  8.252451e-09   \n",
              "112623  9.846924e-02         0.057586   1.467600e-03  8.545368e-06   \n",
              "112624  9.844186e-02         0.060463   1.952950e-06  1.002712e-07   \n",
              "\n",
              "        Fwd Header Len  Fwd IAT Mean   Fwd IAT Min  Fwd Pkt Len Max  \\\n",
              "0         1.736668e-03      0.015067  9.853812e-02         0.012310   \n",
              "1         1.628331e-03      0.162881  1.575468e-06         0.016935   \n",
              "2         8.944210e-04      0.000206  0.000000e+00         0.000000   \n",
              "3         1.565237e-03      0.107308  2.000594e-07         0.046638   \n",
              "4         3.253717e-03      0.000000  9.845228e-02         0.010076   \n",
              "...                ...           ...           ...              ...   \n",
              "112620    2.405331e-07      0.000039  1.658720e-08         0.015793   \n",
              "112621    2.951589e-04      0.098721  6.259250e-05         0.001097   \n",
              "112622    9.730097e-04      0.001019  9.396006e-05         0.010272   \n",
              "112623    2.951589e-04      0.000000  0.000000e+00         0.000940   \n",
              "112624    2.072796e-04      0.098454  9.007322e-08         0.001466   \n",
              "\n",
              "        Fwd Pkt Len Min  Fwd Pkt Len Std    Fwd Pkts/s  Fwd Seg Size Min  \\\n",
              "0          2.689266e-02         0.047232  1.843191e-07          0.727273   \n",
              "1          2.762373e-02         0.024386  3.450151e-08          0.500545   \n",
              "2          2.689266e-02         0.000000  1.516009e-05          0.727273   \n",
              "3          0.000000e+00         0.094140  2.941366e-07          0.727273   \n",
              "4          0.000000e+00         0.031582  7.193757e-07          0.454545   \n",
              "...                 ...              ...           ...               ...   \n",
              "112620     1.257573e-07         0.008791  2.575000e-02          0.444282   \n",
              "112621     2.770922e-02         0.000000  4.191764e-09          0.533212   \n",
              "112622     8.428859e-05         0.000000  5.286213e-02          0.558005   \n",
              "112623     2.770312e-02         0.000455  6.823822e-03          0.485302   \n",
              "112624     2.579689e-02         0.011898  2.992946e-11          0.244700   \n",
              "\n",
              "        Init Bwd Win Byts  Init Fwd Win Byts  Tot Bwd Pkts  TotLen Bwd Pkts  \\\n",
              "0            4.459839e-02           0.044469  5.832037e-04     8.655701e-05   \n",
              "1            2.639771e-03           0.166625  1.814412e-03     1.071439e-03   \n",
              "2            4.096680e-02           0.003448  0.000000e+00     8.655701e-06   \n",
              "3            3.234863e-03           0.003357  3.888025e-04     3.348296e-05   \n",
              "4            1.770020e-03           0.083405  0.000000e+00     3.196020e-04   \n",
              "...                   ...                ...           ...              ...   \n",
              "112620       4.069308e-11           0.106876  4.427034e-19     5.112379e-07   \n",
              "112621       0.000000e+00           0.000015  0.000000e+00     1.009648e-03   \n",
              "112622       4.226054e-02           0.000382  2.627422e-03     0.000000e+00   \n",
              "112623       5.665007e-02           0.000015  9.683298e-06     0.000000e+00   \n",
              "112624       1.499109e-08           0.000082  3.845668e-10     3.137469e-07   \n",
              "\n",
              "        TotLen Fwd Pkts  \n",
              "0          0.000000e+00  \n",
              "1          5.186813e-05  \n",
              "2          7.471341e-05  \n",
              "3          1.182948e-03  \n",
              "4          0.000000e+00  \n",
              "...                 ...  \n",
              "112620     1.562691e-18  \n",
              "112621     0.000000e+00  \n",
              "112622     2.852878e-03  \n",
              "112623     1.076400e-03  \n",
              "112624     9.770220e-11  \n",
              "\n",
              "[112625 rows x 17 columns]"
            ],
            "text/html": [
              "\n",
              "  <div id=\"df-73f2c870-3fe8-4c52-ad48-ffaedac0d94a\">\n",
              "    <div class=\"colab-df-container\">\n",
              "      <div>\n",
              "<style scoped>\n",
              "    .dataframe tbody tr th:only-of-type {\n",
              "        vertical-align: middle;\n",
              "    }\n",
              "\n",
              "    .dataframe tbody tr th {\n",
              "        vertical-align: top;\n",
              "    }\n",
              "\n",
              "    .dataframe thead th {\n",
              "        text-align: right;\n",
              "    }\n",
              "</style>\n",
              "<table border=\"1\" class=\"dataframe\">\n",
              "  <thead>\n",
              "    <tr style=\"text-align: right;\">\n",
              "      <th></th>\n",
              "      <th>Bwd IAT Tot</th>\n",
              "      <th>Bwd Pkt Len Max</th>\n",
              "      <th>Flow Duration</th>\n",
              "      <th>Flow IAT Min</th>\n",
              "      <th>Fwd Header Len</th>\n",
              "      <th>Fwd IAT Mean</th>\n",
              "      <th>Fwd IAT Min</th>\n",
              "      <th>Fwd Pkt Len Max</th>\n",
              "      <th>Fwd Pkt Len Min</th>\n",
              "      <th>Fwd Pkt Len Std</th>\n",
              "      <th>Fwd Pkts/s</th>\n",
              "      <th>Fwd Seg Size Min</th>\n",
              "      <th>Init Bwd Win Byts</th>\n",
              "      <th>Init Fwd Win Byts</th>\n",
              "      <th>Tot Bwd Pkts</th>\n",
              "      <th>TotLen Bwd Pkts</th>\n",
              "      <th>TotLen Fwd Pkts</th>\n",
              "    </tr>\n",
              "  </thead>\n",
              "  <tbody>\n",
              "    <tr>\n",
              "      <th>0</th>\n",
              "      <td>1.436462e-01</td>\n",
              "      <td>0.517021</td>\n",
              "      <td>4.521146e-02</td>\n",
              "      <td>4.167905e-08</td>\n",
              "      <td>1.736668e-03</td>\n",
              "      <td>0.015067</td>\n",
              "      <td>9.853812e-02</td>\n",
              "      <td>0.012310</td>\n",
              "      <td>2.689266e-02</td>\n",
              "      <td>0.047232</td>\n",
              "      <td>1.843191e-07</td>\n",
              "      <td>0.727273</td>\n",
              "      <td>4.459839e-02</td>\n",
              "      <td>0.044469</td>\n",
              "      <td>5.832037e-04</td>\n",
              "      <td>8.655701e-05</td>\n",
              "      <td>0.000000e+00</td>\n",
              "    </tr>\n",
              "    <tr>\n",
              "      <th>1</th>\n",
              "      <td>9.844186e-01</td>\n",
              "      <td>0.323347</td>\n",
              "      <td>8.677184e-01</td>\n",
              "      <td>8.252451e-09</td>\n",
              "      <td>1.628331e-03</td>\n",
              "      <td>0.162881</td>\n",
              "      <td>1.575468e-06</td>\n",
              "      <td>0.016935</td>\n",
              "      <td>2.762373e-02</td>\n",
              "      <td>0.024386</td>\n",
              "      <td>3.450151e-08</td>\n",
              "      <td>0.500545</td>\n",
              "      <td>2.639771e-03</td>\n",
              "      <td>0.166625</td>\n",
              "      <td>1.814412e-03</td>\n",
              "      <td>1.071439e-03</td>\n",
              "      <td>5.186813e-05</td>\n",
              "    </tr>\n",
              "    <tr>\n",
              "      <th>2</th>\n",
              "      <td>9.842612e-02</td>\n",
              "      <td>0.051702</td>\n",
              "      <td>4.122668e-04</td>\n",
              "      <td>5.787699e-02</td>\n",
              "      <td>8.944210e-04</td>\n",
              "      <td>0.000206</td>\n",
              "      <td>0.000000e+00</td>\n",
              "      <td>0.000000</td>\n",
              "      <td>2.689266e-02</td>\n",
              "      <td>0.000000</td>\n",
              "      <td>1.516009e-05</td>\n",
              "      <td>0.727273</td>\n",
              "      <td>4.096680e-02</td>\n",
              "      <td>0.003448</td>\n",
              "      <td>0.000000e+00</td>\n",
              "      <td>8.655701e-06</td>\n",
              "      <td>7.471341e-05</td>\n",
              "    </tr>\n",
              "    <tr>\n",
              "      <th>3</th>\n",
              "      <td>0.000000e+00</td>\n",
              "      <td>0.147815</td>\n",
              "      <td>3.541439e-02</td>\n",
              "      <td>5.835067e-08</td>\n",
              "      <td>1.565237e-03</td>\n",
              "      <td>0.107308</td>\n",
              "      <td>2.000594e-07</td>\n",
              "      <td>0.046638</td>\n",
              "      <td>0.000000e+00</td>\n",
              "      <td>0.094140</td>\n",
              "      <td>2.941366e-07</td>\n",
              "      <td>0.727273</td>\n",
              "      <td>3.234863e-03</td>\n",
              "      <td>0.003357</td>\n",
              "      <td>3.888025e-04</td>\n",
              "      <td>3.348296e-05</td>\n",
              "      <td>1.182948e-03</td>\n",
              "    </tr>\n",
              "    <tr>\n",
              "      <th>4</th>\n",
              "      <td>0.000000e+00</td>\n",
              "      <td>0.750000</td>\n",
              "      <td>8.250002e-09</td>\n",
              "      <td>8.335810e-09</td>\n",
              "      <td>3.253717e-03</td>\n",
              "      <td>0.000000</td>\n",
              "      <td>9.845228e-02</td>\n",
              "      <td>0.010076</td>\n",
              "      <td>0.000000e+00</td>\n",
              "      <td>0.031582</td>\n",
              "      <td>7.193757e-07</td>\n",
              "      <td>0.454545</td>\n",
              "      <td>1.770020e-03</td>\n",
              "      <td>0.083405</td>\n",
              "      <td>0.000000e+00</td>\n",
              "      <td>3.196020e-04</td>\n",
              "      <td>0.000000e+00</td>\n",
              "    </tr>\n",
              "    <tr>\n",
              "      <th>...</th>\n",
              "      <td>...</td>\n",
              "      <td>...</td>\n",
              "      <td>...</td>\n",
              "      <td>...</td>\n",
              "      <td>...</td>\n",
              "      <td>...</td>\n",
              "      <td>...</td>\n",
              "      <td>...</td>\n",
              "      <td>...</td>\n",
              "      <td>...</td>\n",
              "      <td>...</td>\n",
              "      <td>...</td>\n",
              "      <td>...</td>\n",
              "      <td>...</td>\n",
              "      <td>...</td>\n",
              "      <td>...</td>\n",
              "      <td>...</td>\n",
              "    </tr>\n",
              "    <tr>\n",
              "      <th>112620</th>\n",
              "      <td>1.363973e-07</td>\n",
              "      <td>0.729689</td>\n",
              "      <td>7.975982e-05</td>\n",
              "      <td>5.824882e-02</td>\n",
              "      <td>2.405331e-07</td>\n",
              "      <td>0.000039</td>\n",
              "      <td>1.658720e-08</td>\n",
              "      <td>0.015793</td>\n",
              "      <td>1.257573e-07</td>\n",
              "      <td>0.008791</td>\n",
              "      <td>2.575000e-02</td>\n",
              "      <td>0.444282</td>\n",
              "      <td>4.069308e-11</td>\n",
              "      <td>0.106876</td>\n",
              "      <td>4.427034e-19</td>\n",
              "      <td>5.112379e-07</td>\n",
              "      <td>1.562691e-18</td>\n",
              "    </tr>\n",
              "    <tr>\n",
              "      <th>112621</th>\n",
              "      <td>3.744506e-05</td>\n",
              "      <td>0.056838</td>\n",
              "      <td>8.250002e-09</td>\n",
              "      <td>1.014142e-05</td>\n",
              "      <td>2.951589e-04</td>\n",
              "      <td>0.098721</td>\n",
              "      <td>6.259250e-05</td>\n",
              "      <td>0.001097</td>\n",
              "      <td>2.770922e-02</td>\n",
              "      <td>0.000000</td>\n",
              "      <td>4.191764e-09</td>\n",
              "      <td>0.533212</td>\n",
              "      <td>0.000000e+00</td>\n",
              "      <td>0.000015</td>\n",
              "      <td>0.000000e+00</td>\n",
              "      <td>1.009648e-03</td>\n",
              "      <td>0.000000e+00</td>\n",
              "    </tr>\n",
              "    <tr>\n",
              "      <th>112622</th>\n",
              "      <td>1.078365e-03</td>\n",
              "      <td>0.014979</td>\n",
              "      <td>8.437640e-03</td>\n",
              "      <td>8.252451e-09</td>\n",
              "      <td>9.730097e-04</td>\n",
              "      <td>0.001019</td>\n",
              "      <td>9.396006e-05</td>\n",
              "      <td>0.010272</td>\n",
              "      <td>8.428859e-05</td>\n",
              "      <td>0.000000</td>\n",
              "      <td>5.286213e-02</td>\n",
              "      <td>0.558005</td>\n",
              "      <td>4.226054e-02</td>\n",
              "      <td>0.000382</td>\n",
              "      <td>2.627422e-03</td>\n",
              "      <td>0.000000e+00</td>\n",
              "      <td>2.852878e-03</td>\n",
              "    </tr>\n",
              "    <tr>\n",
              "      <th>112623</th>\n",
              "      <td>9.846924e-02</td>\n",
              "      <td>0.057586</td>\n",
              "      <td>1.467600e-03</td>\n",
              "      <td>8.545368e-06</td>\n",
              "      <td>2.951589e-04</td>\n",
              "      <td>0.000000</td>\n",
              "      <td>0.000000e+00</td>\n",
              "      <td>0.000940</td>\n",
              "      <td>2.770312e-02</td>\n",
              "      <td>0.000455</td>\n",
              "      <td>6.823822e-03</td>\n",
              "      <td>0.485302</td>\n",
              "      <td>5.665007e-02</td>\n",
              "      <td>0.000015</td>\n",
              "      <td>9.683298e-06</td>\n",
              "      <td>0.000000e+00</td>\n",
              "      <td>1.076400e-03</td>\n",
              "    </tr>\n",
              "    <tr>\n",
              "      <th>112624</th>\n",
              "      <td>9.844186e-02</td>\n",
              "      <td>0.060463</td>\n",
              "      <td>1.952950e-06</td>\n",
              "      <td>1.002712e-07</td>\n",
              "      <td>2.072796e-04</td>\n",
              "      <td>0.098454</td>\n",
              "      <td>9.007322e-08</td>\n",
              "      <td>0.001466</td>\n",
              "      <td>2.579689e-02</td>\n",
              "      <td>0.011898</td>\n",
              "      <td>2.992946e-11</td>\n",
              "      <td>0.244700</td>\n",
              "      <td>1.499109e-08</td>\n",
              "      <td>0.000082</td>\n",
              "      <td>3.845668e-10</td>\n",
              "      <td>3.137469e-07</td>\n",
              "      <td>9.770220e-11</td>\n",
              "    </tr>\n",
              "  </tbody>\n",
              "</table>\n",
              "<p>112625 rows × 17 columns</p>\n",
              "</div>\n",
              "      <button class=\"colab-df-convert\" onclick=\"convertToInteractive('df-73f2c870-3fe8-4c52-ad48-ffaedac0d94a')\"\n",
              "              title=\"Convert this dataframe to an interactive table.\"\n",
              "              style=\"display:none;\">\n",
              "        \n",
              "  <svg xmlns=\"http://www.w3.org/2000/svg\" height=\"24px\"viewBox=\"0 0 24 24\"\n",
              "       width=\"24px\">\n",
              "    <path d=\"M0 0h24v24H0V0z\" fill=\"none\"/>\n",
              "    <path d=\"M18.56 5.44l.94 2.06.94-2.06 2.06-.94-2.06-.94-.94-2.06-.94 2.06-2.06.94zm-11 1L8.5 8.5l.94-2.06 2.06-.94-2.06-.94L8.5 2.5l-.94 2.06-2.06.94zm10 10l.94 2.06.94-2.06 2.06-.94-2.06-.94-.94-2.06-.94 2.06-2.06.94z\"/><path d=\"M17.41 7.96l-1.37-1.37c-.4-.4-.92-.59-1.43-.59-.52 0-1.04.2-1.43.59L10.3 9.45l-7.72 7.72c-.78.78-.78 2.05 0 2.83L4 21.41c.39.39.9.59 1.41.59.51 0 1.02-.2 1.41-.59l7.78-7.78 2.81-2.81c.8-.78.8-2.07 0-2.86zM5.41 20L4 18.59l7.72-7.72 1.47 1.35L5.41 20z\"/>\n",
              "  </svg>\n",
              "      </button>\n",
              "      \n",
              "  <style>\n",
              "    .colab-df-container {\n",
              "      display:flex;\n",
              "      flex-wrap:wrap;\n",
              "      gap: 12px;\n",
              "    }\n",
              "\n",
              "    .colab-df-convert {\n",
              "      background-color: #E8F0FE;\n",
              "      border: none;\n",
              "      border-radius: 50%;\n",
              "      cursor: pointer;\n",
              "      display: none;\n",
              "      fill: #1967D2;\n",
              "      height: 32px;\n",
              "      padding: 0 0 0 0;\n",
              "      width: 32px;\n",
              "    }\n",
              "\n",
              "    .colab-df-convert:hover {\n",
              "      background-color: #E2EBFA;\n",
              "      box-shadow: 0px 1px 2px rgba(60, 64, 67, 0.3), 0px 1px 3px 1px rgba(60, 64, 67, 0.15);\n",
              "      fill: #174EA6;\n",
              "    }\n",
              "\n",
              "    [theme=dark] .colab-df-convert {\n",
              "      background-color: #3B4455;\n",
              "      fill: #D2E3FC;\n",
              "    }\n",
              "\n",
              "    [theme=dark] .colab-df-convert:hover {\n",
              "      background-color: #434B5C;\n",
              "      box-shadow: 0px 1px 3px 1px rgba(0, 0, 0, 0.15);\n",
              "      filter: drop-shadow(0px 1px 2px rgba(0, 0, 0, 0.3));\n",
              "      fill: #FFFFFF;\n",
              "    }\n",
              "  </style>\n",
              "\n",
              "      <script>\n",
              "        const buttonEl =\n",
              "          document.querySelector('#df-73f2c870-3fe8-4c52-ad48-ffaedac0d94a button.colab-df-convert');\n",
              "        buttonEl.style.display =\n",
              "          google.colab.kernel.accessAllowed ? 'block' : 'none';\n",
              "\n",
              "        async function convertToInteractive(key) {\n",
              "          const element = document.querySelector('#df-73f2c870-3fe8-4c52-ad48-ffaedac0d94a');\n",
              "          const dataTable =\n",
              "            await google.colab.kernel.invokeFunction('convertToInteractive',\n",
              "                                                     [key], {});\n",
              "          if (!dataTable) return;\n",
              "\n",
              "          const docLinkHtml = 'Like what you see? Visit the ' +\n",
              "            '<a target=\"_blank\" href=https://colab.research.google.com/notebooks/data_table.ipynb>data table notebook</a>'\n",
              "            + ' to learn more about interactive tables.';\n",
              "          element.innerHTML = '';\n",
              "          dataTable['output_type'] = 'display_data';\n",
              "          await google.colab.output.renderOutput(dataTable, element);\n",
              "          const docLink = document.createElement('div');\n",
              "          docLink.innerHTML = docLinkHtml;\n",
              "          element.appendChild(docLink);\n",
              "        }\n",
              "      </script>\n",
              "    </div>\n",
              "  </div>\n",
              "  "
            ]
          },
          "metadata": {},
          "execution_count": 31
        }
      ]
    },
    {
      "cell_type": "code",
      "source": [
        "#1. Split dataset into Training, Validation and Testing set\n",
        "from sklearn.model_selection import train_test_split\n",
        "\n",
        "X_train, X_test, y_train, y_test = train_test_split(adversarial_X_df, com_y_train, test_size=0.33, random_state=12, stratify=com_y_train)"
      ],
      "metadata": {
        "id": "0IVUz3VlIn89"
      },
      "execution_count": 32,
      "outputs": []
    },
    {
      "cell_type": "code",
      "source": [
        "#Save training and testing dataset\n",
        "\n",
        "X_train.to_csv(\"/content/drive/MyDrive/adversarial datasets_a2pm/adversary_X_train.csv\", index=False)\n",
        "\n",
        "y_train.to_csv(\"/content/drive/MyDrive/adversarial datasets_a2pm/adversary_y_train.csv\", index=False)\n",
        "\n",
        "X_test.to_csv(\"/content/drive/MyDrive/adversarial datasets_a2pm/adversary_X_test.csv\", index=False)\n",
        "\n",
        "y_test.to_csv(\"/content/drive/MyDrive/adversarial datasets_a2pm/adversary_y_test.csv\", index=False)"
      ],
      "metadata": {
        "id": "NHJmggrZJjQe"
      },
      "execution_count": 33,
      "outputs": []
    },
    {
      "cell_type": "markdown",
      "metadata": {
        "id": "RfYG5dH0u9Y4"
      },
      "source": [
        "## Optimize Hyperparameter of each models\n",
        "\n",
        "Models\n",
        "\n",
        ">Random Forest, Decision Tree, Naive Baye, SVM, XGBoost, LightGBM, Logistic Regression"
      ]
    },
    {
      "cell_type": "code",
      "source": [
        "kf = StratifiedKFold(n_splits=5, random_state=13, shuffle=True)"
      ],
      "metadata": {
        "id": "k9G_uxOPJ9p-"
      },
      "execution_count": 36,
      "outputs": []
    },
    {
      "cell_type": "markdown",
      "metadata": {
        "id": "L1UsXN9ukP6i"
      },
      "source": [
        "##Random Forest\n"
      ]
    },
    {
      "cell_type": "code",
      "source": [
        "##Baseline\n",
        "#the default hyperparameters\n",
        "rf = RandomForestClassifier(n_estimators=10, random_state=13, n_jobs=-1)\n",
        "\n",
        "# Fit model\n",
        "rf.fit(X_train, y_train)\n",
        "\n",
        "#predict\n",
        "rf_pred = rf.predict(X_test)\n",
        "\n",
        "# print prediction results\n",
        "print(classification_report(y_test, rf_pred))"
      ],
      "metadata": {
        "colab": {
          "base_uri": "https://localhost:8080/"
        },
        "id": "OSqgYGt9MRfm",
        "outputId": "df8736cd-d336-44ee-d3ae-0d4e9708cfd3"
      },
      "execution_count": 37,
      "outputs": [
        {
          "output_type": "stream",
          "name": "stdout",
          "text": [
            "              precision    recall  f1-score   support\n",
            "\n",
            "           0       1.00      1.00      1.00     32798\n",
            "           1       1.00      1.00      1.00      4369\n",
            "\n",
            "    accuracy                           1.00     37167\n",
            "   macro avg       1.00      1.00      1.00     37167\n",
            "weighted avg       1.00      1.00      1.00     37167\n",
            "\n"
          ]
        }
      ]
    },
    {
      "cell_type": "code",
      "source": [],
      "metadata": {
        "id": "AVgXEieZMopB"
      },
      "execution_count": null,
      "outputs": []
    },
    {
      "cell_type": "code",
      "source": [
        "rf_pipeline = make_pipeline(SMOTE(sampling_strategy= 1 , random_state=12, n_jobs= -1), RandomForestClassifier(n_estimators=100, random_state=13, n_jobs=-1))\n",
        "\n",
        "rf_pipeline"
      ],
      "metadata": {
        "colab": {
          "base_uri": "https://localhost:8080/",
          "height": 125
        },
        "id": "d6V8Y9rUMosA",
        "outputId": "a781372f-9c54-41f9-d1d6-d0b358e31357"
      },
      "execution_count": 38,
      "outputs": [
        {
          "output_type": "execute_result",
          "data": {
            "text/plain": [
              "Pipeline(steps=[('smote',\n",
              "                 SMOTE(n_jobs=-1, random_state=12, sampling_strategy=1)),\n",
              "                ('randomforestclassifier',\n",
              "                 RandomForestClassifier(n_jobs=-1, random_state=13))])"
            ],
            "text/html": [
              "<style>#sk-container-id-1 {color: black;background-color: white;}#sk-container-id-1 pre{padding: 0;}#sk-container-id-1 div.sk-toggleable {background-color: white;}#sk-container-id-1 label.sk-toggleable__label {cursor: pointer;display: block;width: 100%;margin-bottom: 0;padding: 0.3em;box-sizing: border-box;text-align: center;}#sk-container-id-1 label.sk-toggleable__label-arrow:before {content: \"▸\";float: left;margin-right: 0.25em;color: #696969;}#sk-container-id-1 label.sk-toggleable__label-arrow:hover:before {color: black;}#sk-container-id-1 div.sk-estimator:hover label.sk-toggleable__label-arrow:before {color: black;}#sk-container-id-1 div.sk-toggleable__content {max-height: 0;max-width: 0;overflow: hidden;text-align: left;background-color: #f0f8ff;}#sk-container-id-1 div.sk-toggleable__content pre {margin: 0.2em;color: black;border-radius: 0.25em;background-color: #f0f8ff;}#sk-container-id-1 input.sk-toggleable__control:checked~div.sk-toggleable__content {max-height: 200px;max-width: 100%;overflow: auto;}#sk-container-id-1 input.sk-toggleable__control:checked~label.sk-toggleable__label-arrow:before {content: \"▾\";}#sk-container-id-1 div.sk-estimator input.sk-toggleable__control:checked~label.sk-toggleable__label {background-color: #d4ebff;}#sk-container-id-1 div.sk-label input.sk-toggleable__control:checked~label.sk-toggleable__label {background-color: #d4ebff;}#sk-container-id-1 input.sk-hidden--visually {border: 0;clip: rect(1px 1px 1px 1px);clip: rect(1px, 1px, 1px, 1px);height: 1px;margin: -1px;overflow: hidden;padding: 0;position: absolute;width: 1px;}#sk-container-id-1 div.sk-estimator {font-family: monospace;background-color: #f0f8ff;border: 1px dotted black;border-radius: 0.25em;box-sizing: border-box;margin-bottom: 0.5em;}#sk-container-id-1 div.sk-estimator:hover {background-color: #d4ebff;}#sk-container-id-1 div.sk-parallel-item::after {content: \"\";width: 100%;border-bottom: 1px solid gray;flex-grow: 1;}#sk-container-id-1 div.sk-label:hover label.sk-toggleable__label {background-color: #d4ebff;}#sk-container-id-1 div.sk-serial::before {content: \"\";position: absolute;border-left: 1px solid gray;box-sizing: border-box;top: 0;bottom: 0;left: 50%;z-index: 0;}#sk-container-id-1 div.sk-serial {display: flex;flex-direction: column;align-items: center;background-color: white;padding-right: 0.2em;padding-left: 0.2em;position: relative;}#sk-container-id-1 div.sk-item {position: relative;z-index: 1;}#sk-container-id-1 div.sk-parallel {display: flex;align-items: stretch;justify-content: center;background-color: white;position: relative;}#sk-container-id-1 div.sk-item::before, #sk-container-id-1 div.sk-parallel-item::before {content: \"\";position: absolute;border-left: 1px solid gray;box-sizing: border-box;top: 0;bottom: 0;left: 50%;z-index: -1;}#sk-container-id-1 div.sk-parallel-item {display: flex;flex-direction: column;z-index: 1;position: relative;background-color: white;}#sk-container-id-1 div.sk-parallel-item:first-child::after {align-self: flex-end;width: 50%;}#sk-container-id-1 div.sk-parallel-item:last-child::after {align-self: flex-start;width: 50%;}#sk-container-id-1 div.sk-parallel-item:only-child::after {width: 0;}#sk-container-id-1 div.sk-dashed-wrapped {border: 1px dashed gray;margin: 0 0.4em 0.5em 0.4em;box-sizing: border-box;padding-bottom: 0.4em;background-color: white;}#sk-container-id-1 div.sk-label label {font-family: monospace;font-weight: bold;display: inline-block;line-height: 1.2em;}#sk-container-id-1 div.sk-label-container {text-align: center;}#sk-container-id-1 div.sk-container {/* jupyter's `normalize.less` sets `[hidden] { display: none; }` but bootstrap.min.css set `[hidden] { display: none !important; }` so we also need the `!important` here to be able to override the default hidden behavior on the sphinx rendered scikit-learn.org. See: https://github.com/scikit-learn/scikit-learn/issues/21755 */display: inline-block !important;position: relative;}#sk-container-id-1 div.sk-text-repr-fallback {display: none;}</style><div id=\"sk-container-id-1\" class=\"sk-top-container\"><div class=\"sk-text-repr-fallback\"><pre>Pipeline(steps=[(&#x27;smote&#x27;,\n",
              "                 SMOTE(n_jobs=-1, random_state=12, sampling_strategy=1)),\n",
              "                (&#x27;randomforestclassifier&#x27;,\n",
              "                 RandomForestClassifier(n_jobs=-1, random_state=13))])</pre><b>In a Jupyter environment, please rerun this cell to show the HTML representation or trust the notebook. <br />On GitHub, the HTML representation is unable to render, please try loading this page with nbviewer.org.</b></div><div class=\"sk-container\" hidden><div class=\"sk-item sk-dashed-wrapped\"><div class=\"sk-label-container\"><div class=\"sk-label sk-toggleable\"><input class=\"sk-toggleable__control sk-hidden--visually\" id=\"sk-estimator-id-1\" type=\"checkbox\" ><label for=\"sk-estimator-id-1\" class=\"sk-toggleable__label sk-toggleable__label-arrow\">Pipeline</label><div class=\"sk-toggleable__content\"><pre>Pipeline(steps=[(&#x27;smote&#x27;,\n",
              "                 SMOTE(n_jobs=-1, random_state=12, sampling_strategy=1)),\n",
              "                (&#x27;randomforestclassifier&#x27;,\n",
              "                 RandomForestClassifier(n_jobs=-1, random_state=13))])</pre></div></div></div><div class=\"sk-serial\"><div class=\"sk-item\"><div class=\"sk-estimator sk-toggleable\"><input class=\"sk-toggleable__control sk-hidden--visually\" id=\"sk-estimator-id-2\" type=\"checkbox\" ><label for=\"sk-estimator-id-2\" class=\"sk-toggleable__label sk-toggleable__label-arrow\">SMOTE</label><div class=\"sk-toggleable__content\"><pre>SMOTE(n_jobs=-1, random_state=12, sampling_strategy=1)</pre></div></div></div><div class=\"sk-item\"><div class=\"sk-estimator sk-toggleable\"><input class=\"sk-toggleable__control sk-hidden--visually\" id=\"sk-estimator-id-3\" type=\"checkbox\" ><label for=\"sk-estimator-id-3\" class=\"sk-toggleable__label sk-toggleable__label-arrow\">RandomForestClassifier</label><div class=\"sk-toggleable__content\"><pre>RandomForestClassifier(n_jobs=-1, random_state=13)</pre></div></div></div></div></div></div></div>"
            ]
          },
          "metadata": {},
          "execution_count": 38
        }
      ]
    },
    {
      "cell_type": "code",
      "source": [
        "# evaluate pipeline\n",
        "\n",
        "cross_val_score(rf_pipeline, X_train, y_train, scoring='recall', cv=kf, n_jobs=-1)"
      ],
      "metadata": {
        "colab": {
          "base_uri": "https://localhost:8080/"
        },
        "id": "EpGQsqnLM1vu",
        "outputId": "4fb8e107-14d2-4c8a-ce22-e903a2758053"
      },
      "execution_count": 39,
      "outputs": [
        {
          "output_type": "execute_result",
          "data": {
            "text/plain": [
              "array([0.9994363 , 0.9988726 , 1.        , 0.99943598, 1.        ])"
            ]
          },
          "metadata": {},
          "execution_count": 39
        }
      ]
    },
    {
      "cell_type": "code",
      "source": [
        "#GridSearch\n",
        "\n",
        "%%time\n",
        "\n",
        "rf_params = {\n",
        "             'criterion': ['gini', 'entropy'],\n",
        "             'n_estimators': [50, 100,200],\n",
        "             'min_samples_leaf': [3, 0.0001, 0.0005, 0.00001],\n",
        "             'min_samples_split': [8, 0.0005, 0.0001, 0.00001],\n",
        "             'max_depth': [50, 100, 200],\n",
        "             'random_state': [13]\n",
        "             }\n",
        "\n",
        "\n",
        "rf_new_params = {'randomforestclassifier__' + key: rf_params[key] for key in rf_params}\n",
        "\n",
        "rf_grid = GridSearchCV(rf_pipeline, param_grid=rf_new_params, cv=kf, scoring='recall', n_jobs=-1,\n",
        "                        return_train_score=True, verbose=0)\n",
        "#Fit\n",
        "rf_grid.fit(X_train, y_train)\n",
        "\n",
        "##the result of GridSearch\n",
        "\n",
        "  #Best Score: F1\n",
        "rf_best = rf_grid.best_score_\n",
        "  #Optimized hyperparameters\n",
        "rf_opt_params = rf_grid.best_params_\n",
        "\n",
        "print(\"=================GridSearch Result=================\")\n",
        "print()\n",
        "print(f\"GridSearch Best Score_recall: \\n{rf_best}\")\n",
        "print(f\"Best Hyperparameters: \\n{rf_opt_params}\")\n",
        "print()\n",
        "print(\"===================================================\")"
      ],
      "metadata": {
        "colab": {
          "base_uri": "https://localhost:8080/"
        },
        "id": "aP2SO9s6M3wn",
        "outputId": "91abc293-b17f-4f6b-d664-cc02762b3035"
      },
      "execution_count": 40,
      "outputs": [
        {
          "output_type": "stream",
          "name": "stderr",
          "text": [
            "/usr/local/lib/python3.10/dist-packages/imblearn/over_sampling/_smote/base.py:336: FutureWarning: The parameter `n_jobs` has been deprecated in 0.10 and will be removed in 0.12. You can pass an nearest neighbors estimator where `n_jobs` is already set instead.\n",
            "  warnings.warn(\n"
          ]
        },
        {
          "output_type": "stream",
          "name": "stdout",
          "text": [
            "=================GridSearch Result=================\n",
            "\n",
            "GridSearch Best Score_recall: \n",
            "0.9995489781267427\n",
            "Best Hyperparameters: \n",
            "{'randomforestclassifier__criterion': 'gini', 'randomforestclassifier__max_depth': 50, 'randomforestclassifier__min_samples_leaf': 3, 'randomforestclassifier__min_samples_split': 8, 'randomforestclassifier__n_estimators': 50, 'randomforestclassifier__random_state': 13}\n",
            "\n",
            "===================================================\n",
            "CPU times: user 46.4 s, sys: 3.69 s, total: 50.1 s\n",
            "Wall time: 1h 9min 17s\n"
          ]
        }
      ]
    },
    {
      "cell_type": "code",
      "source": [
        "##evaluate Model\n",
        "\n",
        "# Prediction using Estimator that was chosen by the GridSearch for testidation dataset\n",
        "model_rf = rf_grid.best_estimator_\n",
        "\n",
        "rf_test_pre = model_rf.predict(X_test)\n",
        "\n",
        "rf_accuracy = accuracy_score(y_test, rf_test_pre)\n",
        "rf_pre_f1 = f1_score(y_test, rf_test_pre)\n",
        "rf_recall = recall_score(y_test, rf_test_pre)\n",
        "rf_precison = precision_score(y_test, rf_test_pre)\n",
        "\n",
        "print(classification_report(y_test, rf_test_pre))\n",
        "print()\n",
        "print(\"==================Evaluation Score==================\")\n",
        "print(f\"test_Accuracy: \\n{rf_accuracy}\")\n",
        "print(f\"test_F1: \\n{rf_pre_f1}\")\n",
        "print(f\"test_Recall: \\n{rf_recall}\")\n",
        "print(f\"test_Precision: \\n{rf_precison}\")\n",
        "print(\"===================================================\")"
      ],
      "metadata": {
        "colab": {
          "base_uri": "https://localhost:8080/"
        },
        "id": "qgRklFPuM95J",
        "outputId": "d84bf3b2-9d6d-49c5-bc10-c0e186d417a2"
      },
      "execution_count": 41,
      "outputs": [
        {
          "output_type": "stream",
          "name": "stdout",
          "text": [
            "              precision    recall  f1-score   support\n",
            "\n",
            "           0       1.00      1.00      1.00     32798\n",
            "           1       1.00      1.00      1.00      4369\n",
            "\n",
            "    accuracy                           1.00     37167\n",
            "   macro avg       1.00      1.00      1.00     37167\n",
            "weighted avg       1.00      1.00      1.00     37167\n",
            "\n",
            "\n",
            "==================Evaluation Score==================\n",
            "test_Accuracy: \n",
            "0.9999461888234186\n",
            "test_F1: \n",
            "0.9997711146715496\n",
            "test_Recall: \n",
            "0.9997711146715496\n",
            "test_Precision: \n",
            "0.9997711146715496\n",
            "===================================================\n"
          ]
        }
      ]
    },
    {
      "cell_type": "code",
      "source": [
        "#Saving model\n",
        "joblib.dump(model_rf, \"/content/drive/MyDrive/adversarial trained models/ad_RandomForest.pkl\")"
      ],
      "metadata": {
        "colab": {
          "base_uri": "https://localhost:8080/"
        },
        "id": "AucuClzANFN6",
        "outputId": "343fb58a-9fd9-4501-9e0e-3f3b614f139f"
      },
      "execution_count": 42,
      "outputs": [
        {
          "output_type": "execute_result",
          "data": {
            "text/plain": [
              "['/content/drive/MyDrive/adversarial trained models/ad_RandomForest.pkl']"
            ]
          },
          "metadata": {},
          "execution_count": 42
        }
      ]
    },
    {
      "cell_type": "markdown",
      "metadata": {
        "id": "A08tVDYJ877J"
      },
      "source": [
        "##Naive Bayes"
      ]
    },
    {
      "cell_type": "code",
      "source": [
        "##Baseline\n",
        "#the default hyperparameters\n",
        "nb = GaussianNB()\n",
        "\n",
        "# Fit model\n",
        "nb.fit(X_train, y_train)\n",
        "\n",
        "#predict\n",
        "nb_pred = nb.predict(X_test)\n",
        "\n",
        "# print prediction results\n",
        "print(classification_report(y_test, nb_pred))"
      ],
      "metadata": {
        "colab": {
          "base_uri": "https://localhost:8080/"
        },
        "id": "UzpBL8tJNXNB",
        "outputId": "1c3c0570-2066-4c0d-eb02-2732f87c7e57"
      },
      "execution_count": 43,
      "outputs": [
        {
          "output_type": "stream",
          "name": "stdout",
          "text": [
            "              precision    recall  f1-score   support\n",
            "\n",
            "           0       1.00      0.95      0.97     32798\n",
            "           1       0.73      0.97      0.83      4369\n",
            "\n",
            "    accuracy                           0.95     37167\n",
            "   macro avg       0.86      0.96      0.90     37167\n",
            "weighted avg       0.96      0.95      0.96     37167\n",
            "\n"
          ]
        }
      ]
    },
    {
      "cell_type": "code",
      "source": [
        "nb_pipeline = make_pipeline(SMOTE(sampling_strategy= 1 , random_state=12, n_jobs= -1), GaussianNB())\n",
        "\n",
        "nb_pipeline"
      ],
      "metadata": {
        "colab": {
          "base_uri": "https://localhost:8080/",
          "height": 125
        },
        "id": "CXSKHx21NZnS",
        "outputId": "21bbeee1-dd10-4a5f-cf82-49b64e959a69"
      },
      "execution_count": 44,
      "outputs": [
        {
          "output_type": "execute_result",
          "data": {
            "text/plain": [
              "Pipeline(steps=[('smote',\n",
              "                 SMOTE(n_jobs=-1, random_state=12, sampling_strategy=1)),\n",
              "                ('gaussiannb', GaussianNB())])"
            ],
            "text/html": [
              "<style>#sk-container-id-2 {color: black;background-color: white;}#sk-container-id-2 pre{padding: 0;}#sk-container-id-2 div.sk-toggleable {background-color: white;}#sk-container-id-2 label.sk-toggleable__label {cursor: pointer;display: block;width: 100%;margin-bottom: 0;padding: 0.3em;box-sizing: border-box;text-align: center;}#sk-container-id-2 label.sk-toggleable__label-arrow:before {content: \"▸\";float: left;margin-right: 0.25em;color: #696969;}#sk-container-id-2 label.sk-toggleable__label-arrow:hover:before {color: black;}#sk-container-id-2 div.sk-estimator:hover label.sk-toggleable__label-arrow:before {color: black;}#sk-container-id-2 div.sk-toggleable__content {max-height: 0;max-width: 0;overflow: hidden;text-align: left;background-color: #f0f8ff;}#sk-container-id-2 div.sk-toggleable__content pre {margin: 0.2em;color: black;border-radius: 0.25em;background-color: #f0f8ff;}#sk-container-id-2 input.sk-toggleable__control:checked~div.sk-toggleable__content {max-height: 200px;max-width: 100%;overflow: auto;}#sk-container-id-2 input.sk-toggleable__control:checked~label.sk-toggleable__label-arrow:before {content: \"▾\";}#sk-container-id-2 div.sk-estimator input.sk-toggleable__control:checked~label.sk-toggleable__label {background-color: #d4ebff;}#sk-container-id-2 div.sk-label input.sk-toggleable__control:checked~label.sk-toggleable__label {background-color: #d4ebff;}#sk-container-id-2 input.sk-hidden--visually {border: 0;clip: rect(1px 1px 1px 1px);clip: rect(1px, 1px, 1px, 1px);height: 1px;margin: -1px;overflow: hidden;padding: 0;position: absolute;width: 1px;}#sk-container-id-2 div.sk-estimator {font-family: monospace;background-color: #f0f8ff;border: 1px dotted black;border-radius: 0.25em;box-sizing: border-box;margin-bottom: 0.5em;}#sk-container-id-2 div.sk-estimator:hover {background-color: #d4ebff;}#sk-container-id-2 div.sk-parallel-item::after {content: \"\";width: 100%;border-bottom: 1px solid gray;flex-grow: 1;}#sk-container-id-2 div.sk-label:hover label.sk-toggleable__label {background-color: #d4ebff;}#sk-container-id-2 div.sk-serial::before {content: \"\";position: absolute;border-left: 1px solid gray;box-sizing: border-box;top: 0;bottom: 0;left: 50%;z-index: 0;}#sk-container-id-2 div.sk-serial {display: flex;flex-direction: column;align-items: center;background-color: white;padding-right: 0.2em;padding-left: 0.2em;position: relative;}#sk-container-id-2 div.sk-item {position: relative;z-index: 1;}#sk-container-id-2 div.sk-parallel {display: flex;align-items: stretch;justify-content: center;background-color: white;position: relative;}#sk-container-id-2 div.sk-item::before, #sk-container-id-2 div.sk-parallel-item::before {content: \"\";position: absolute;border-left: 1px solid gray;box-sizing: border-box;top: 0;bottom: 0;left: 50%;z-index: -1;}#sk-container-id-2 div.sk-parallel-item {display: flex;flex-direction: column;z-index: 1;position: relative;background-color: white;}#sk-container-id-2 div.sk-parallel-item:first-child::after {align-self: flex-end;width: 50%;}#sk-container-id-2 div.sk-parallel-item:last-child::after {align-self: flex-start;width: 50%;}#sk-container-id-2 div.sk-parallel-item:only-child::after {width: 0;}#sk-container-id-2 div.sk-dashed-wrapped {border: 1px dashed gray;margin: 0 0.4em 0.5em 0.4em;box-sizing: border-box;padding-bottom: 0.4em;background-color: white;}#sk-container-id-2 div.sk-label label {font-family: monospace;font-weight: bold;display: inline-block;line-height: 1.2em;}#sk-container-id-2 div.sk-label-container {text-align: center;}#sk-container-id-2 div.sk-container {/* jupyter's `normalize.less` sets `[hidden] { display: none; }` but bootstrap.min.css set `[hidden] { display: none !important; }` so we also need the `!important` here to be able to override the default hidden behavior on the sphinx rendered scikit-learn.org. See: https://github.com/scikit-learn/scikit-learn/issues/21755 */display: inline-block !important;position: relative;}#sk-container-id-2 div.sk-text-repr-fallback {display: none;}</style><div id=\"sk-container-id-2\" class=\"sk-top-container\"><div class=\"sk-text-repr-fallback\"><pre>Pipeline(steps=[(&#x27;smote&#x27;,\n",
              "                 SMOTE(n_jobs=-1, random_state=12, sampling_strategy=1)),\n",
              "                (&#x27;gaussiannb&#x27;, GaussianNB())])</pre><b>In a Jupyter environment, please rerun this cell to show the HTML representation or trust the notebook. <br />On GitHub, the HTML representation is unable to render, please try loading this page with nbviewer.org.</b></div><div class=\"sk-container\" hidden><div class=\"sk-item sk-dashed-wrapped\"><div class=\"sk-label-container\"><div class=\"sk-label sk-toggleable\"><input class=\"sk-toggleable__control sk-hidden--visually\" id=\"sk-estimator-id-4\" type=\"checkbox\" ><label for=\"sk-estimator-id-4\" class=\"sk-toggleable__label sk-toggleable__label-arrow\">Pipeline</label><div class=\"sk-toggleable__content\"><pre>Pipeline(steps=[(&#x27;smote&#x27;,\n",
              "                 SMOTE(n_jobs=-1, random_state=12, sampling_strategy=1)),\n",
              "                (&#x27;gaussiannb&#x27;, GaussianNB())])</pre></div></div></div><div class=\"sk-serial\"><div class=\"sk-item\"><div class=\"sk-estimator sk-toggleable\"><input class=\"sk-toggleable__control sk-hidden--visually\" id=\"sk-estimator-id-5\" type=\"checkbox\" ><label for=\"sk-estimator-id-5\" class=\"sk-toggleable__label sk-toggleable__label-arrow\">SMOTE</label><div class=\"sk-toggleable__content\"><pre>SMOTE(n_jobs=-1, random_state=12, sampling_strategy=1)</pre></div></div></div><div class=\"sk-item\"><div class=\"sk-estimator sk-toggleable\"><input class=\"sk-toggleable__control sk-hidden--visually\" id=\"sk-estimator-id-6\" type=\"checkbox\" ><label for=\"sk-estimator-id-6\" class=\"sk-toggleable__label sk-toggleable__label-arrow\">GaussianNB</label><div class=\"sk-toggleable__content\"><pre>GaussianNB()</pre></div></div></div></div></div></div></div>"
            ]
          },
          "metadata": {},
          "execution_count": 44
        }
      ]
    },
    {
      "cell_type": "code",
      "source": [
        "cross_val_score(nb_pipeline, X_train, y_train, scoring='accuracy', cv=kf, n_jobs=-1)"
      ],
      "metadata": {
        "colab": {
          "base_uri": "https://localhost:8080/"
        },
        "id": "VnIqPdQvNbn6",
        "outputId": "7f3c58c3-a421-4117-bcd9-e71a4ef8b5e0"
      },
      "execution_count": 45,
      "outputs": [
        {
          "output_type": "execute_result",
          "data": {
            "text/plain": [
              "array([0.92751126, 0.93188444, 0.93817917, 0.92810284, 0.92975946])"
            ]
          },
          "metadata": {},
          "execution_count": 45
        }
      ]
    },
    {
      "cell_type": "code",
      "execution_count": 46,
      "metadata": {
        "id": "z32QW_CbLDuX",
        "colab": {
          "base_uri": "https://localhost:8080/"
        },
        "outputId": "3a236b53-8b22-4a48-95ba-e0a878426fdd"
      },
      "outputs": [
        {
          "output_type": "stream",
          "name": "stderr",
          "text": [
            "/usr/local/lib/python3.10/dist-packages/imblearn/over_sampling/_smote/base.py:336: FutureWarning: The parameter `n_jobs` has been deprecated in 0.10 and will be removed in 0.12. You can pass an nearest neighbors estimator where `n_jobs` is already set instead.\n",
            "  warnings.warn(\n"
          ]
        },
        {
          "output_type": "stream",
          "name": "stdout",
          "text": [
            "=================GridSearch Result=================\n",
            "\n",
            "GridSearch Best Score_Recall: \n",
            "0.9869993933613419\n",
            "Best Hyperparameters: \n",
            "{'gaussiannb__var_smoothing': 0.0008111308307896872}\n",
            "\n",
            "===================================================\n",
            "CPU times: user 4.6 s, sys: 1.27 s, total: 5.87 s\n",
            "Wall time: 27.9 s\n"
          ]
        }
      ],
      "source": [
        "#GridSearch\n",
        "%%time\n",
        "\n",
        "nb_params = [{'var_smoothing': np.logspace(0, -9, num=100)}]\n",
        "\n",
        "\n",
        "nb_new_params = {'gaussiannb__' + key: value for param in nb_params for key, value in param.items()}\n",
        "\n",
        "#nb_new_params = {'naivebayesclassifier__' + key: nb_params[key] for key in nb_params}\n",
        "\n",
        "nb_grid = GridSearchCV(nb_pipeline, param_grid=nb_new_params, cv=kf, scoring='accuracy', n_jobs=-1,\n",
        "                        return_train_score=True, verbose=0)\n",
        "\n",
        "#Fit\n",
        "nb_grid.fit(X_train, y_train)\n",
        "\n",
        "##the result of GridSearch\n",
        "\n",
        "  #Best Score: Accuracy\n",
        "nb_best = nb_grid.best_score_\n",
        "  #Optimized hyperparameters\n",
        "nb_opt_params = nb_grid.best_params_\n",
        "\n",
        "print(\"=================GridSearch Result=================\")\n",
        "print()\n",
        "print(f\"GridSearch Best Score_Recall: \\n{nb_best}\")\n",
        "print(f\"Best Hyperparameters: \\n{nb_opt_params}\")\n",
        "print()\n",
        "print(\"===================================================\")"
      ]
    },
    {
      "cell_type": "code",
      "execution_count": 47,
      "metadata": {
        "colab": {
          "base_uri": "https://localhost:8080/"
        },
        "id": "xn4tTiuzLDxH",
        "outputId": "c7f0d13d-66b1-41f8-81c4-e2813b37b43d"
      },
      "outputs": [
        {
          "output_type": "stream",
          "name": "stdout",
          "text": [
            "              precision    recall  f1-score   support\n",
            "\n",
            "           0       1.00      0.99      0.99     32798\n",
            "           1       0.92      0.97      0.94      4369\n",
            "\n",
            "    accuracy                           0.99     37167\n",
            "   macro avg       0.96      0.98      0.97     37167\n",
            "weighted avg       0.99      0.99      0.99     37167\n",
            "\n",
            "\n",
            "==================Evaluation Score==================\n",
            "test_Accuaracy: \n",
            "0.9858476605590981\n",
            "test_F1: \n",
            "0.9413339281730982\n",
            "test_Recall: \n",
            "0.9658960860608835\n",
            "test_Precison: \n",
            "0.9179899934740048\n",
            "===================================================\n"
          ]
        }
      ],
      "source": [
        "##Evaluate Model\n",
        "\n",
        "# Prediction using Estimator that was chosen by the GridSearch for test dataset\n",
        "model_nb = nb_grid.best_estimator_\n",
        "nb_test_pre = model_nb.predict(X_test)\n",
        "\n",
        "\n",
        "nb_pre_accuracy = accuracy_score(y_test, nb_test_pre)\n",
        "nb_pre_f1 = f1_score(y_test, nb_test_pre)\n",
        "nb_recall = recall_score(y_test, nb_test_pre)\n",
        "nb_precision = precision_score(y_test, nb_test_pre)\n",
        "\n",
        "print(classification_report(y_test, nb_test_pre))\n",
        "print()\n",
        "print(\"==================Evaluation Score==================\")\n",
        "print(f\"test_Accuaracy: \\n{nb_pre_accuracy}\")\n",
        "print(f\"test_F1: \\n{nb_pre_f1}\")\n",
        "print(f\"test_Recall: \\n{nb_recall}\")\n",
        "print(f\"test_Precison: \\n{nb_precision}\")\n",
        "print(\"===================================================\")"
      ]
    },
    {
      "cell_type": "code",
      "source": [],
      "metadata": {
        "id": "yMgtEh4oNeby"
      },
      "execution_count": null,
      "outputs": []
    },
    {
      "cell_type": "code",
      "source": [
        "#Saving model\n",
        "joblib.dump(model_rf, \"/content/drive/MyDrive/adversarial trained models/ad_NaiveBayes.pkl\")"
      ],
      "metadata": {
        "colab": {
          "base_uri": "https://localhost:8080/"
        },
        "id": "PVsuUq3-NoKO",
        "outputId": "01c4922a-e395-4bb4-c0f0-c8514f6be7b5"
      },
      "execution_count": 48,
      "outputs": [
        {
          "output_type": "execute_result",
          "data": {
            "text/plain": [
              "['/content/drive/MyDrive/adversarial trained models/ad_NaiveBayes.pkl']"
            ]
          },
          "metadata": {},
          "execution_count": 48
        }
      ]
    },
    {
      "cell_type": "code",
      "source": [],
      "metadata": {
        "id": "z2WcaIz7Neeh"
      },
      "execution_count": 48,
      "outputs": []
    },
    {
      "cell_type": "markdown",
      "metadata": {
        "id": "WdmB6fhjOmOy"
      },
      "source": [
        "##Support Vector Machine"
      ]
    },
    {
      "cell_type": "code",
      "execution_count": 49,
      "metadata": {
        "colab": {
          "base_uri": "https://localhost:8080/"
        },
        "id": "hd42HDsVVJYt",
        "outputId": "1409180f-261e-4b63-81f1-548036123c9c"
      },
      "outputs": [
        {
          "output_type": "stream",
          "name": "stdout",
          "text": [
            "              precision    recall  f1-score   support\n",
            "\n",
            "           0       1.00      0.99      1.00     32798\n",
            "           1       0.95      0.99      0.97      4369\n",
            "\n",
            "    accuracy                           0.99     37167\n",
            "   macro avg       0.97      0.99      0.98     37167\n",
            "weighted avg       0.99      0.99      0.99     37167\n",
            "\n"
          ]
        }
      ],
      "source": [
        "##Baseline\n",
        "#the default hyperparameters\n",
        "svc = SVC()\n",
        "# Fit model\n",
        "svc.fit(X_train, y_train)\n",
        "\n",
        "#predict\n",
        "svc_pred = svc.predict(X_test)\n",
        "\n",
        "# print prediction results\n",
        "print(classification_report(y_test, svc_pred))"
      ]
    },
    {
      "cell_type": "code",
      "execution_count": 50,
      "metadata": {
        "colab": {
          "base_uri": "https://localhost:8080/",
          "height": 125
        },
        "id": "TjzBq3VMOldH",
        "outputId": "cb749bc0-d9d3-4baa-b5b6-83656ab45e5b"
      },
      "outputs": [
        {
          "output_type": "execute_result",
          "data": {
            "text/plain": [
              "Pipeline(steps=[('smote',\n",
              "                 SMOTE(n_jobs=-1, random_state=12, sampling_strategy=1)),\n",
              "                ('svc', SVC())])"
            ],
            "text/html": [
              "<style>#sk-container-id-3 {color: black;background-color: white;}#sk-container-id-3 pre{padding: 0;}#sk-container-id-3 div.sk-toggleable {background-color: white;}#sk-container-id-3 label.sk-toggleable__label {cursor: pointer;display: block;width: 100%;margin-bottom: 0;padding: 0.3em;box-sizing: border-box;text-align: center;}#sk-container-id-3 label.sk-toggleable__label-arrow:before {content: \"▸\";float: left;margin-right: 0.25em;color: #696969;}#sk-container-id-3 label.sk-toggleable__label-arrow:hover:before {color: black;}#sk-container-id-3 div.sk-estimator:hover label.sk-toggleable__label-arrow:before {color: black;}#sk-container-id-3 div.sk-toggleable__content {max-height: 0;max-width: 0;overflow: hidden;text-align: left;background-color: #f0f8ff;}#sk-container-id-3 div.sk-toggleable__content pre {margin: 0.2em;color: black;border-radius: 0.25em;background-color: #f0f8ff;}#sk-container-id-3 input.sk-toggleable__control:checked~div.sk-toggleable__content {max-height: 200px;max-width: 100%;overflow: auto;}#sk-container-id-3 input.sk-toggleable__control:checked~label.sk-toggleable__label-arrow:before {content: \"▾\";}#sk-container-id-3 div.sk-estimator input.sk-toggleable__control:checked~label.sk-toggleable__label {background-color: #d4ebff;}#sk-container-id-3 div.sk-label input.sk-toggleable__control:checked~label.sk-toggleable__label {background-color: #d4ebff;}#sk-container-id-3 input.sk-hidden--visually {border: 0;clip: rect(1px 1px 1px 1px);clip: rect(1px, 1px, 1px, 1px);height: 1px;margin: -1px;overflow: hidden;padding: 0;position: absolute;width: 1px;}#sk-container-id-3 div.sk-estimator {font-family: monospace;background-color: #f0f8ff;border: 1px dotted black;border-radius: 0.25em;box-sizing: border-box;margin-bottom: 0.5em;}#sk-container-id-3 div.sk-estimator:hover {background-color: #d4ebff;}#sk-container-id-3 div.sk-parallel-item::after {content: \"\";width: 100%;border-bottom: 1px solid gray;flex-grow: 1;}#sk-container-id-3 div.sk-label:hover label.sk-toggleable__label {background-color: #d4ebff;}#sk-container-id-3 div.sk-serial::before {content: \"\";position: absolute;border-left: 1px solid gray;box-sizing: border-box;top: 0;bottom: 0;left: 50%;z-index: 0;}#sk-container-id-3 div.sk-serial {display: flex;flex-direction: column;align-items: center;background-color: white;padding-right: 0.2em;padding-left: 0.2em;position: relative;}#sk-container-id-3 div.sk-item {position: relative;z-index: 1;}#sk-container-id-3 div.sk-parallel {display: flex;align-items: stretch;justify-content: center;background-color: white;position: relative;}#sk-container-id-3 div.sk-item::before, #sk-container-id-3 div.sk-parallel-item::before {content: \"\";position: absolute;border-left: 1px solid gray;box-sizing: border-box;top: 0;bottom: 0;left: 50%;z-index: -1;}#sk-container-id-3 div.sk-parallel-item {display: flex;flex-direction: column;z-index: 1;position: relative;background-color: white;}#sk-container-id-3 div.sk-parallel-item:first-child::after {align-self: flex-end;width: 50%;}#sk-container-id-3 div.sk-parallel-item:last-child::after {align-self: flex-start;width: 50%;}#sk-container-id-3 div.sk-parallel-item:only-child::after {width: 0;}#sk-container-id-3 div.sk-dashed-wrapped {border: 1px dashed gray;margin: 0 0.4em 0.5em 0.4em;box-sizing: border-box;padding-bottom: 0.4em;background-color: white;}#sk-container-id-3 div.sk-label label {font-family: monospace;font-weight: bold;display: inline-block;line-height: 1.2em;}#sk-container-id-3 div.sk-label-container {text-align: center;}#sk-container-id-3 div.sk-container {/* jupyter's `normalize.less` sets `[hidden] { display: none; }` but bootstrap.min.css set `[hidden] { display: none !important; }` so we also need the `!important` here to be able to override the default hidden behavior on the sphinx rendered scikit-learn.org. See: https://github.com/scikit-learn/scikit-learn/issues/21755 */display: inline-block !important;position: relative;}#sk-container-id-3 div.sk-text-repr-fallback {display: none;}</style><div id=\"sk-container-id-3\" class=\"sk-top-container\"><div class=\"sk-text-repr-fallback\"><pre>Pipeline(steps=[(&#x27;smote&#x27;,\n",
              "                 SMOTE(n_jobs=-1, random_state=12, sampling_strategy=1)),\n",
              "                (&#x27;svc&#x27;, SVC())])</pre><b>In a Jupyter environment, please rerun this cell to show the HTML representation or trust the notebook. <br />On GitHub, the HTML representation is unable to render, please try loading this page with nbviewer.org.</b></div><div class=\"sk-container\" hidden><div class=\"sk-item sk-dashed-wrapped\"><div class=\"sk-label-container\"><div class=\"sk-label sk-toggleable\"><input class=\"sk-toggleable__control sk-hidden--visually\" id=\"sk-estimator-id-7\" type=\"checkbox\" ><label for=\"sk-estimator-id-7\" class=\"sk-toggleable__label sk-toggleable__label-arrow\">Pipeline</label><div class=\"sk-toggleable__content\"><pre>Pipeline(steps=[(&#x27;smote&#x27;,\n",
              "                 SMOTE(n_jobs=-1, random_state=12, sampling_strategy=1)),\n",
              "                (&#x27;svc&#x27;, SVC())])</pre></div></div></div><div class=\"sk-serial\"><div class=\"sk-item\"><div class=\"sk-estimator sk-toggleable\"><input class=\"sk-toggleable__control sk-hidden--visually\" id=\"sk-estimator-id-8\" type=\"checkbox\" ><label for=\"sk-estimator-id-8\" class=\"sk-toggleable__label sk-toggleable__label-arrow\">SMOTE</label><div class=\"sk-toggleable__content\"><pre>SMOTE(n_jobs=-1, random_state=12, sampling_strategy=1)</pre></div></div></div><div class=\"sk-item\"><div class=\"sk-estimator sk-toggleable\"><input class=\"sk-toggleable__control sk-hidden--visually\" id=\"sk-estimator-id-9\" type=\"checkbox\" ><label for=\"sk-estimator-id-9\" class=\"sk-toggleable__label sk-toggleable__label-arrow\">SVC</label><div class=\"sk-toggleable__content\"><pre>SVC()</pre></div></div></div></div></div></div></div>"
            ]
          },
          "metadata": {},
          "execution_count": 50
        }
      ],
      "source": [
        "svc_pipeline = make_pipeline(SMOTE(sampling_strategy= 1 , random_state=12, n_jobs= -1), SVC())\n",
        "\n",
        "svc_pipeline"
      ]
    },
    {
      "cell_type": "code",
      "execution_count": 51,
      "metadata": {
        "colab": {
          "base_uri": "https://localhost:8080/"
        },
        "id": "8qlQQldxVgSX",
        "outputId": "5b195b87-3976-42cf-c913-9d9ab5bbc0a7"
      },
      "outputs": [
        {
          "output_type": "execute_result",
          "data": {
            "text/plain": [
              "array([0.9994363 , 0.99661781, 0.9994363 , 0.99830795, 0.9988726 ])"
            ]
          },
          "metadata": {},
          "execution_count": 51
        }
      ],
      "source": [
        "cross_val_score(svc_pipeline, X_train, y_train, scoring='recall', cv=kf, n_jobs=-1)"
      ]
    },
    {
      "cell_type": "code",
      "execution_count": 52,
      "metadata": {
        "colab": {
          "base_uri": "https://localhost:8080/"
        },
        "id": "TbcTRVQWVhBW",
        "outputId": "f3e44073-c81d-4acd-9f29-89d4ae55ceb8"
      },
      "outputs": [
        {
          "output_type": "stream",
          "name": "stderr",
          "text": [
            "/usr/local/lib/python3.10/dist-packages/imblearn/over_sampling/_smote/base.py:336: FutureWarning: The parameter `n_jobs` has been deprecated in 0.10 and will be removed in 0.12. You can pass an nearest neighbors estimator where `n_jobs` is already set instead.\n",
            "  warnings.warn(\n"
          ]
        },
        {
          "output_type": "stream",
          "name": "stdout",
          "text": [
            "=================GridSearch Result=================\n",
            "\n",
            "GridSearch Best Score_Recall: \n",
            "0.9990980198403842\n",
            "Best Hyperparameters: \n",
            "{'svc__C': 10, 'svc__gamma': 1, 'svc__kernel': 'rbf'}\n",
            "\n",
            "===================================================\n",
            "CPU times: user 28.4 s, sys: 1.19 s, total: 29.6 s\n",
            "Wall time: 8min 17s\n"
          ]
        }
      ],
      "source": [
        "#GridSearch\n",
        "%%time\n",
        "\n",
        "svc_params =  {'C': [1, 10],\n",
        "                'gamma': [1, 0.1],\n",
        "                'kernel': ['rbf', 'linear']\n",
        "                }\n",
        "\n",
        "\n",
        "svc_new_params = {'svc__' + key: svc_params[key] for key in svc_params}\n",
        "\n",
        "svc_grid = GridSearchCV(svc_pipeline, param_grid=svc_new_params, cv=kf, scoring='recall', n_jobs=-1,\n",
        "                        return_train_score=True, verbose=0)\n",
        "\n",
        "#Fit\n",
        "svc_grid.fit(X_train, y_train)\n",
        "\n",
        "##the result of GridSearch\n",
        "\n",
        "  #Best Score: Recall\n",
        "svc_best = svc_grid.best_score_\n",
        "  #Optimized hyperparameters\n",
        "svc_opt_params = svc_grid.best_params_\n",
        "\n",
        "print(\"=================GridSearch Result=================\")\n",
        "print()\n",
        "print(f\"GridSearch Best Score_Recall: \\n{svc_best}\")\n",
        "print(f\"Best Hyperparameters: \\n{svc_opt_params}\")\n",
        "print()\n",
        "print(\"===================================================\")"
      ]
    },
    {
      "cell_type": "code",
      "source": [],
      "metadata": {
        "id": "hiKAzWytNehK"
      },
      "execution_count": null,
      "outputs": []
    },
    {
      "cell_type": "code",
      "execution_count": 53,
      "metadata": {
        "id": "TEMLznxMVhEE",
        "colab": {
          "base_uri": "https://localhost:8080/"
        },
        "outputId": "89fcbf21-7bec-48d9-db8a-fe3a1e87f80d"
      },
      "outputs": [
        {
          "output_type": "stream",
          "name": "stdout",
          "text": [
            "              precision    recall  f1-score   support\n",
            "\n",
            "           0       1.00      0.99      1.00     32798\n",
            "           1       0.96      1.00      0.98      4369\n",
            "\n",
            "    accuracy                           0.99     37167\n",
            "   macro avg       0.98      1.00      0.99     37167\n",
            "weighted avg       0.99      0.99      0.99     37167\n",
            "\n",
            "\n",
            "==================Evaluation Score==================\n",
            "test_Accuracy: \n",
            "0.9945919767535717\n",
            "test_F1: \n",
            "0.9774840371905456\n",
            "test_Recall: \n",
            "0.9986266880292973\n",
            "test_Precision: \n",
            "0.9572180781044317\n",
            "===================================================\n"
          ]
        }
      ],
      "source": [
        "##Evaluate Model\n",
        "\n",
        "# Prediction using Estimator that was chosen by the GridSearch for test dataset\n",
        "model_svc = svc_grid.best_estimator_\n",
        "svc_test_pre = model_svc.predict(X_test)\n",
        "\n",
        "svc_pre_accuracy = accuracy_score(y_test, svc_test_pre)\n",
        "svc_pre_f1 = f1_score(y_test, svc_test_pre)\n",
        "svc_recall= recall_score(y_test, svc_test_pre)\n",
        "svc_precision = precision_score(y_test, svc_test_pre)\n",
        "\n",
        "print(classification_report(y_test, svc_test_pre))\n",
        "print()\n",
        "print(\"==================Evaluation Score==================\")\n",
        "print(f\"test_Accuracy: \\n{svc_pre_accuracy}\")\n",
        "print(f\"test_F1: \\n{svc_pre_f1}\")\n",
        "print(f\"test_Recall: \\n{svc_recall}\")\n",
        "print(f\"test_Precision: \\n{svc_precision}\")\n",
        "print(\"===================================================\")"
      ]
    },
    {
      "cell_type": "code",
      "execution_count": 54,
      "metadata": {
        "id": "sTnLGgDoN2en",
        "colab": {
          "base_uri": "https://localhost:8080/"
        },
        "outputId": "5c4d9a2b-faad-4257-ad8c-583911eb0bc0"
      },
      "outputs": [
        {
          "output_type": "execute_result",
          "data": {
            "text/plain": [
              "['/content/drive/MyDrive/adversarial trained models/ad_SVM.pkl']"
            ]
          },
          "metadata": {},
          "execution_count": 54
        }
      ],
      "source": [
        "#Saving model\n",
        "joblib.dump(model_svc, \"/content/drive/MyDrive/adversarial trained models/ad_SVM.pkl\")"
      ]
    },
    {
      "cell_type": "markdown",
      "metadata": {
        "id": "zXx_WH0AGdcp"
      },
      "source": [
        "##XGBoost"
      ]
    },
    {
      "cell_type": "code",
      "execution_count": 55,
      "metadata": {
        "colab": {
          "base_uri": "https://localhost:8080/"
        },
        "id": "apGFNDqEA2pM",
        "outputId": "bae7671d-6638-4cdc-9b4c-a2c3ccd9ff17"
      },
      "outputs": [
        {
          "output_type": "stream",
          "name": "stdout",
          "text": [
            "              precision    recall  f1-score   support\n",
            "\n",
            "           0       1.00      1.00      1.00     32798\n",
            "           1       1.00      1.00      1.00      4369\n",
            "\n",
            "    accuracy                           1.00     37167\n",
            "   macro avg       1.00      1.00      1.00     37167\n",
            "weighted avg       1.00      1.00      1.00     37167\n",
            "\n"
          ]
        }
      ],
      "source": [
        "##Baseline\n",
        "from xgboost import XGBClassifier\n",
        "#the default hyperparameters\n",
        "xgb = XGBClassifier(objective= 'binary:logistic', seed=42)\n",
        "# Fit model\n",
        "xgb.fit(X_train, y_train)\n",
        "\n",
        "#predict\n",
        "xgb_pred = xgb.predict(X_test)\n",
        "\n",
        "# print prediction results\n",
        "print(classification_report(y_test, xgb_pred))"
      ]
    },
    {
      "cell_type": "code",
      "execution_count": 56,
      "metadata": {
        "colab": {
          "base_uri": "https://localhost:8080/",
          "height": 125
        },
        "id": "TAFeea6STh9X",
        "outputId": "7eb82c6d-a6b5-4c3c-d5fd-cdd1232ee84e"
      },
      "outputs": [
        {
          "output_type": "execute_result",
          "data": {
            "text/plain": [
              "Pipeline(steps=[('smote',\n",
              "                 SMOTE(n_jobs=-1, random_state=12, sampling_strategy=1)),\n",
              "                ('xgbclassifier',\n",
              "                 XGBClassifier(base_score=None, booster=None, callbacks=None,\n",
              "                               colsample_bylevel=None, colsample_bynode=None,\n",
              "                               colsample_bytree=None,\n",
              "                               early_stopping_rounds=None,\n",
              "                               enable_categorical=False, eval_metric=None,\n",
              "                               feature_types=None, gamma=None, gpu_id=None,\n",
              "                               grow_policy=None, importance_type=None,\n",
              "                               interaction_constraints=None, learning_rate=None,\n",
              "                               max_bin=None, max_cat_threshold=None,\n",
              "                               max_cat_to_onehot=None, max_delta_step=None,\n",
              "                               max_depth=None, max_leaves=None,\n",
              "                               min_child_weight=None, missing=nan,\n",
              "                               monotone_constraints=None, n_estimators=100,\n",
              "                               n_jobs=None, num_parallel_tree=None,\n",
              "                               predictor=None, random_state=None, ...))])"
            ],
            "text/html": [
              "<style>#sk-container-id-4 {color: black;background-color: white;}#sk-container-id-4 pre{padding: 0;}#sk-container-id-4 div.sk-toggleable {background-color: white;}#sk-container-id-4 label.sk-toggleable__label {cursor: pointer;display: block;width: 100%;margin-bottom: 0;padding: 0.3em;box-sizing: border-box;text-align: center;}#sk-container-id-4 label.sk-toggleable__label-arrow:before {content: \"▸\";float: left;margin-right: 0.25em;color: #696969;}#sk-container-id-4 label.sk-toggleable__label-arrow:hover:before {color: black;}#sk-container-id-4 div.sk-estimator:hover label.sk-toggleable__label-arrow:before {color: black;}#sk-container-id-4 div.sk-toggleable__content {max-height: 0;max-width: 0;overflow: hidden;text-align: left;background-color: #f0f8ff;}#sk-container-id-4 div.sk-toggleable__content pre {margin: 0.2em;color: black;border-radius: 0.25em;background-color: #f0f8ff;}#sk-container-id-4 input.sk-toggleable__control:checked~div.sk-toggleable__content {max-height: 200px;max-width: 100%;overflow: auto;}#sk-container-id-4 input.sk-toggleable__control:checked~label.sk-toggleable__label-arrow:before {content: \"▾\";}#sk-container-id-4 div.sk-estimator input.sk-toggleable__control:checked~label.sk-toggleable__label {background-color: #d4ebff;}#sk-container-id-4 div.sk-label input.sk-toggleable__control:checked~label.sk-toggleable__label {background-color: #d4ebff;}#sk-container-id-4 input.sk-hidden--visually {border: 0;clip: rect(1px 1px 1px 1px);clip: rect(1px, 1px, 1px, 1px);height: 1px;margin: -1px;overflow: hidden;padding: 0;position: absolute;width: 1px;}#sk-container-id-4 div.sk-estimator {font-family: monospace;background-color: #f0f8ff;border: 1px dotted black;border-radius: 0.25em;box-sizing: border-box;margin-bottom: 0.5em;}#sk-container-id-4 div.sk-estimator:hover {background-color: #d4ebff;}#sk-container-id-4 div.sk-parallel-item::after {content: \"\";width: 100%;border-bottom: 1px solid gray;flex-grow: 1;}#sk-container-id-4 div.sk-label:hover label.sk-toggleable__label {background-color: #d4ebff;}#sk-container-id-4 div.sk-serial::before {content: \"\";position: absolute;border-left: 1px solid gray;box-sizing: border-box;top: 0;bottom: 0;left: 50%;z-index: 0;}#sk-container-id-4 div.sk-serial {display: flex;flex-direction: column;align-items: center;background-color: white;padding-right: 0.2em;padding-left: 0.2em;position: relative;}#sk-container-id-4 div.sk-item {position: relative;z-index: 1;}#sk-container-id-4 div.sk-parallel {display: flex;align-items: stretch;justify-content: center;background-color: white;position: relative;}#sk-container-id-4 div.sk-item::before, #sk-container-id-4 div.sk-parallel-item::before {content: \"\";position: absolute;border-left: 1px solid gray;box-sizing: border-box;top: 0;bottom: 0;left: 50%;z-index: -1;}#sk-container-id-4 div.sk-parallel-item {display: flex;flex-direction: column;z-index: 1;position: relative;background-color: white;}#sk-container-id-4 div.sk-parallel-item:first-child::after {align-self: flex-end;width: 50%;}#sk-container-id-4 div.sk-parallel-item:last-child::after {align-self: flex-start;width: 50%;}#sk-container-id-4 div.sk-parallel-item:only-child::after {width: 0;}#sk-container-id-4 div.sk-dashed-wrapped {border: 1px dashed gray;margin: 0 0.4em 0.5em 0.4em;box-sizing: border-box;padding-bottom: 0.4em;background-color: white;}#sk-container-id-4 div.sk-label label {font-family: monospace;font-weight: bold;display: inline-block;line-height: 1.2em;}#sk-container-id-4 div.sk-label-container {text-align: center;}#sk-container-id-4 div.sk-container {/* jupyter's `normalize.less` sets `[hidden] { display: none; }` but bootstrap.min.css set `[hidden] { display: none !important; }` so we also need the `!important` here to be able to override the default hidden behavior on the sphinx rendered scikit-learn.org. See: https://github.com/scikit-learn/scikit-learn/issues/21755 */display: inline-block !important;position: relative;}#sk-container-id-4 div.sk-text-repr-fallback {display: none;}</style><div id=\"sk-container-id-4\" class=\"sk-top-container\"><div class=\"sk-text-repr-fallback\"><pre>Pipeline(steps=[(&#x27;smote&#x27;,\n",
              "                 SMOTE(n_jobs=-1, random_state=12, sampling_strategy=1)),\n",
              "                (&#x27;xgbclassifier&#x27;,\n",
              "                 XGBClassifier(base_score=None, booster=None, callbacks=None,\n",
              "                               colsample_bylevel=None, colsample_bynode=None,\n",
              "                               colsample_bytree=None,\n",
              "                               early_stopping_rounds=None,\n",
              "                               enable_categorical=False, eval_metric=None,\n",
              "                               feature_types=None, gamma=None, gpu_id=None,\n",
              "                               grow_policy=None, importance_type=None,\n",
              "                               interaction_constraints=None, learning_rate=None,\n",
              "                               max_bin=None, max_cat_threshold=None,\n",
              "                               max_cat_to_onehot=None, max_delta_step=None,\n",
              "                               max_depth=None, max_leaves=None,\n",
              "                               min_child_weight=None, missing=nan,\n",
              "                               monotone_constraints=None, n_estimators=100,\n",
              "                               n_jobs=None, num_parallel_tree=None,\n",
              "                               predictor=None, random_state=None, ...))])</pre><b>In a Jupyter environment, please rerun this cell to show the HTML representation or trust the notebook. <br />On GitHub, the HTML representation is unable to render, please try loading this page with nbviewer.org.</b></div><div class=\"sk-container\" hidden><div class=\"sk-item sk-dashed-wrapped\"><div class=\"sk-label-container\"><div class=\"sk-label sk-toggleable\"><input class=\"sk-toggleable__control sk-hidden--visually\" id=\"sk-estimator-id-10\" type=\"checkbox\" ><label for=\"sk-estimator-id-10\" class=\"sk-toggleable__label sk-toggleable__label-arrow\">Pipeline</label><div class=\"sk-toggleable__content\"><pre>Pipeline(steps=[(&#x27;smote&#x27;,\n",
              "                 SMOTE(n_jobs=-1, random_state=12, sampling_strategy=1)),\n",
              "                (&#x27;xgbclassifier&#x27;,\n",
              "                 XGBClassifier(base_score=None, booster=None, callbacks=None,\n",
              "                               colsample_bylevel=None, colsample_bynode=None,\n",
              "                               colsample_bytree=None,\n",
              "                               early_stopping_rounds=None,\n",
              "                               enable_categorical=False, eval_metric=None,\n",
              "                               feature_types=None, gamma=None, gpu_id=None,\n",
              "                               grow_policy=None, importance_type=None,\n",
              "                               interaction_constraints=None, learning_rate=None,\n",
              "                               max_bin=None, max_cat_threshold=None,\n",
              "                               max_cat_to_onehot=None, max_delta_step=None,\n",
              "                               max_depth=None, max_leaves=None,\n",
              "                               min_child_weight=None, missing=nan,\n",
              "                               monotone_constraints=None, n_estimators=100,\n",
              "                               n_jobs=None, num_parallel_tree=None,\n",
              "                               predictor=None, random_state=None, ...))])</pre></div></div></div><div class=\"sk-serial\"><div class=\"sk-item\"><div class=\"sk-estimator sk-toggleable\"><input class=\"sk-toggleable__control sk-hidden--visually\" id=\"sk-estimator-id-11\" type=\"checkbox\" ><label for=\"sk-estimator-id-11\" class=\"sk-toggleable__label sk-toggleable__label-arrow\">SMOTE</label><div class=\"sk-toggleable__content\"><pre>SMOTE(n_jobs=-1, random_state=12, sampling_strategy=1)</pre></div></div></div><div class=\"sk-item\"><div class=\"sk-estimator sk-toggleable\"><input class=\"sk-toggleable__control sk-hidden--visually\" id=\"sk-estimator-id-12\" type=\"checkbox\" ><label for=\"sk-estimator-id-12\" class=\"sk-toggleable__label sk-toggleable__label-arrow\">XGBClassifier</label><div class=\"sk-toggleable__content\"><pre>XGBClassifier(base_score=None, booster=None, callbacks=None,\n",
              "              colsample_bylevel=None, colsample_bynode=None,\n",
              "              colsample_bytree=None, early_stopping_rounds=None,\n",
              "              enable_categorical=False, eval_metric=None, feature_types=None,\n",
              "              gamma=None, gpu_id=None, grow_policy=None, importance_type=None,\n",
              "              interaction_constraints=None, learning_rate=None, max_bin=None,\n",
              "              max_cat_threshold=None, max_cat_to_onehot=None,\n",
              "              max_delta_step=None, max_depth=None, max_leaves=None,\n",
              "              min_child_weight=None, missing=nan, monotone_constraints=None,\n",
              "              n_estimators=100, n_jobs=None, num_parallel_tree=None,\n",
              "              predictor=None, random_state=None, ...)</pre></div></div></div></div></div></div></div>"
            ]
          },
          "metadata": {},
          "execution_count": 56
        }
      ],
      "source": [
        "xgb_pipeline = make_pipeline(SMOTE(sampling_strategy= 1 , random_state=12, n_jobs= -1), XGBClassifier(objective= 'binary:logistic', seed=42))\n",
        "\n",
        "xgb_pipeline"
      ]
    },
    {
      "cell_type": "code",
      "execution_count": 57,
      "metadata": {
        "colab": {
          "base_uri": "https://localhost:8080/"
        },
        "id": "jH86XZhwUKGP",
        "outputId": "afc6e051-ef26-4837-c9c1-5684ca7c05d4"
      },
      "outputs": [
        {
          "output_type": "execute_result",
          "data": {
            "text/plain": [
              "array([1.        , 0.9988726 , 1.        , 0.99943598, 1.        ])"
            ]
          },
          "metadata": {},
          "execution_count": 57
        }
      ],
      "source": [
        "cross_val_score(xgb_pipeline, X_train, y_train, scoring='recall', cv=kf, n_jobs=-1)"
      ]
    },
    {
      "cell_type": "code",
      "execution_count": 60,
      "metadata": {
        "colab": {
          "base_uri": "https://localhost:8080/"
        },
        "id": "0_FyrS-iA2wK",
        "outputId": "89640aae-196e-4405-8bda-2f020719f537"
      },
      "outputs": [
        {
          "output_type": "stream",
          "name": "stderr",
          "text": [
            "/usr/local/lib/python3.10/dist-packages/imblearn/over_sampling/_smote/base.py:336: FutureWarning: The parameter `n_jobs` has been deprecated in 0.10 and will be removed in 0.12. You can pass an nearest neighbors estimator where `n_jobs` is already set instead.\n",
            "  warnings.warn(\n"
          ]
        },
        {
          "output_type": "stream",
          "name": "stdout",
          "text": [
            "=================GridSearch Result=================\n",
            "\n",
            "GridSearch Best Score_Recall: \n",
            "1.0\n",
            "Best Hyperparameters: \n",
            "{'xgbclassifier__colsample_bytree': 0.5, 'xgbclassifier__gamma': 0.1, 'xgbclassifier__learning_rate': 0.1, 'xgbclassifier__max_depth': 5, 'xgbclassifier__min_child_weight': 5, 'xgbclassifier__n_estimators': 200, 'xgbclassifier__subsample': 0.5}\n",
            "\n",
            "===================================================\n",
            "CPU times: user 1min 37s, sys: 3.99 s, total: 1min 41s\n",
            "Wall time: 1h 1min 8s\n"
          ]
        }
      ],
      "source": [
        "#GridSearch\n",
        "%%time\n",
        "\n",
        "xgb_params = {\n",
        "        'n_estimators':[50, 100, 200],\n",
        "        'learning_rate': [0.1, 0.01],\n",
        "        'min_child_weight': [1, 5, 10],\n",
        "        'gamma': [0.1, 0.5],\n",
        "        'subsample': [0.5, 1.0],\n",
        "        'colsample_bytree': [0.5, 1.0],\n",
        "        'max_depth': [5,10]\n",
        "        }\n",
        "\n",
        "xgb_new_params = {'xgbclassifier__' + key: xgb_params[key] for key in xgb_params}\n",
        "\n",
        "xgb_grid = GridSearchCV(xgb_pipeline, param_grid= xgb_new_params, cv=kf, scoring='recall', n_jobs=-1,\n",
        "                        return_train_score=True, verbose=0)\n",
        "\n",
        "#Fit\n",
        "xgb_grid.fit(X_train, y_train)\n",
        "\n",
        "##the result of GridSearch\n",
        "\n",
        "  #Best Score: Recall\n",
        "xgb_best = xgb_grid.best_score_\n",
        "  #Optimized hyperparameters\n",
        "xgb_opt_params = xgb_grid.best_params_\n",
        "\n",
        "print(\"=================GridSearch Result=================\")\n",
        "print()\n",
        "print(f\"GridSearch Best Score_Recall: \\n{xgb_best}\")\n",
        "print(f\"Best Hyperparameters: \\n{xgb_opt_params}\")\n",
        "print()\n",
        "print(\"===================================================\")"
      ]
    },
    {
      "cell_type": "code",
      "execution_count": 61,
      "metadata": {
        "colab": {
          "base_uri": "https://localhost:8080/"
        },
        "id": "ME1OJo3BA2zk",
        "outputId": "7ef68084-283c-44c2-d209-7264e4b58c46"
      },
      "outputs": [
        {
          "output_type": "stream",
          "name": "stdout",
          "text": [
            "              precision    recall  f1-score   support\n",
            "\n",
            "           0       1.00      1.00      1.00     32798\n",
            "           1       1.00      1.00      1.00      4369\n",
            "\n",
            "    accuracy                           1.00     37167\n",
            "   macro avg       1.00      1.00      1.00     37167\n",
            "weighted avg       1.00      1.00      1.00     37167\n",
            "\n",
            "\n",
            "==================Evaluation Score==================\n",
            "test_F1: \n",
            "0.9999730944117093\n",
            "test_F1: \n",
            "0.9998855704313995\n",
            "test_Recall: \n",
            "1.0\n",
            "test_Precision: \n",
            "0.9997711670480549\n",
            "===================================================\n"
          ]
        }
      ],
      "source": [
        "##Evaluate Model\n",
        "\n",
        "# Prediction using Estimator that was chosen by the GridSearch for testing dataset\n",
        "model_xgb = xgb_grid.best_estimator_\n",
        "xgb_test_pre = model_xgb.predict(X_test)\n",
        "\n",
        "xgb_pre_accuracy = accuracy_score(y_test, xgb_test_pre)\n",
        "xgb_pre_f1 = f1_score(y_test, xgb_test_pre)\n",
        "xgb_recall= recall_score(y_test, xgb_test_pre)\n",
        "xgb_precision = precision_score(y_test, xgb_test_pre)\n",
        "\n",
        "print(classification_report(y_test, xgb_test_pre))\n",
        "print()\n",
        "print(\"==================Evaluation Score==================\")\n",
        "print(f\"test_F1: \\n{xgb_pre_accuracy}\")\n",
        "print(f\"test_F1: \\n{xgb_pre_f1}\")\n",
        "print(f\"test_Recall: \\n{xgb_recall}\")\n",
        "print(f\"test_Precision: \\n{xgb_precision}\")\n",
        "print(\"===================================================\")"
      ]
    },
    {
      "cell_type": "code",
      "execution_count": 62,
      "metadata": {
        "id": "SFViQfs0Nt2E",
        "colab": {
          "base_uri": "https://localhost:8080/"
        },
        "outputId": "3fc18714-6140-4a13-b8e4-953ea4de42f5"
      },
      "outputs": [
        {
          "output_type": "execute_result",
          "data": {
            "text/plain": [
              "['/content/drive/MyDrive/adversarial trained models/ad_XGBoost.pkl']"
            ]
          },
          "metadata": {},
          "execution_count": 62
        }
      ],
      "source": [
        "#Saving model\n",
        "joblib.dump(model_xgb, \"/content/drive/MyDrive/adversarial trained models/ad_XGBoost.pkl\")"
      ]
    },
    {
      "cell_type": "markdown",
      "metadata": {
        "id": "MaLzqQ5dJ9Mv"
      },
      "source": [
        "##LightGBM"
      ]
    },
    {
      "cell_type": "code",
      "execution_count": 63,
      "metadata": {
        "colab": {
          "base_uri": "https://localhost:8080/"
        },
        "id": "GZ0LL-QUJ8pZ",
        "outputId": "71a9bde4-e419-4bb4-b36f-a1b14497da52"
      },
      "outputs": [
        {
          "output_type": "stream",
          "name": "stdout",
          "text": [
            "              precision    recall  f1-score   support\n",
            "\n",
            "           0       1.00      1.00      1.00     32798\n",
            "           1       1.00      1.00      1.00      4369\n",
            "\n",
            "    accuracy                           1.00     37167\n",
            "   macro avg       1.00      1.00      1.00     37167\n",
            "weighted avg       1.00      1.00      1.00     37167\n",
            "\n"
          ]
        }
      ],
      "source": [
        "##Baseline\n",
        "import lightgbm as lgb\n",
        "#the default hyperparameters\n",
        "lgbm = lgb.LGBMClassifier()\n",
        "# Fit model\n",
        "lgbm.fit(X_train, y_train)\n",
        "\n",
        "#predict\n",
        "lgbm_pred = lgbm.predict(X_test)\n",
        "\n",
        "# print prediction results\n",
        "print(classification_report(y_test, lgbm_pred))"
      ]
    },
    {
      "cell_type": "code",
      "execution_count": 64,
      "metadata": {
        "colab": {
          "base_uri": "https://localhost:8080/",
          "height": 125
        },
        "id": "WESvjccYT2DV",
        "outputId": "6d35a2a6-354e-416f-9701-f26a3e65b099"
      },
      "outputs": [
        {
          "output_type": "execute_result",
          "data": {
            "text/plain": [
              "Pipeline(steps=[('smote',\n",
              "                 SMOTE(n_jobs=-1, random_state=12, sampling_strategy=1)),\n",
              "                ('lgbmclassifier', LGBMClassifier())])"
            ],
            "text/html": [
              "<style>#sk-container-id-5 {color: black;background-color: white;}#sk-container-id-5 pre{padding: 0;}#sk-container-id-5 div.sk-toggleable {background-color: white;}#sk-container-id-5 label.sk-toggleable__label {cursor: pointer;display: block;width: 100%;margin-bottom: 0;padding: 0.3em;box-sizing: border-box;text-align: center;}#sk-container-id-5 label.sk-toggleable__label-arrow:before {content: \"▸\";float: left;margin-right: 0.25em;color: #696969;}#sk-container-id-5 label.sk-toggleable__label-arrow:hover:before {color: black;}#sk-container-id-5 div.sk-estimator:hover label.sk-toggleable__label-arrow:before {color: black;}#sk-container-id-5 div.sk-toggleable__content {max-height: 0;max-width: 0;overflow: hidden;text-align: left;background-color: #f0f8ff;}#sk-container-id-5 div.sk-toggleable__content pre {margin: 0.2em;color: black;border-radius: 0.25em;background-color: #f0f8ff;}#sk-container-id-5 input.sk-toggleable__control:checked~div.sk-toggleable__content {max-height: 200px;max-width: 100%;overflow: auto;}#sk-container-id-5 input.sk-toggleable__control:checked~label.sk-toggleable__label-arrow:before {content: \"▾\";}#sk-container-id-5 div.sk-estimator input.sk-toggleable__control:checked~label.sk-toggleable__label {background-color: #d4ebff;}#sk-container-id-5 div.sk-label input.sk-toggleable__control:checked~label.sk-toggleable__label {background-color: #d4ebff;}#sk-container-id-5 input.sk-hidden--visually {border: 0;clip: rect(1px 1px 1px 1px);clip: rect(1px, 1px, 1px, 1px);height: 1px;margin: -1px;overflow: hidden;padding: 0;position: absolute;width: 1px;}#sk-container-id-5 div.sk-estimator {font-family: monospace;background-color: #f0f8ff;border: 1px dotted black;border-radius: 0.25em;box-sizing: border-box;margin-bottom: 0.5em;}#sk-container-id-5 div.sk-estimator:hover {background-color: #d4ebff;}#sk-container-id-5 div.sk-parallel-item::after {content: \"\";width: 100%;border-bottom: 1px solid gray;flex-grow: 1;}#sk-container-id-5 div.sk-label:hover label.sk-toggleable__label {background-color: #d4ebff;}#sk-container-id-5 div.sk-serial::before {content: \"\";position: absolute;border-left: 1px solid gray;box-sizing: border-box;top: 0;bottom: 0;left: 50%;z-index: 0;}#sk-container-id-5 div.sk-serial {display: flex;flex-direction: column;align-items: center;background-color: white;padding-right: 0.2em;padding-left: 0.2em;position: relative;}#sk-container-id-5 div.sk-item {position: relative;z-index: 1;}#sk-container-id-5 div.sk-parallel {display: flex;align-items: stretch;justify-content: center;background-color: white;position: relative;}#sk-container-id-5 div.sk-item::before, #sk-container-id-5 div.sk-parallel-item::before {content: \"\";position: absolute;border-left: 1px solid gray;box-sizing: border-box;top: 0;bottom: 0;left: 50%;z-index: -1;}#sk-container-id-5 div.sk-parallel-item {display: flex;flex-direction: column;z-index: 1;position: relative;background-color: white;}#sk-container-id-5 div.sk-parallel-item:first-child::after {align-self: flex-end;width: 50%;}#sk-container-id-5 div.sk-parallel-item:last-child::after {align-self: flex-start;width: 50%;}#sk-container-id-5 div.sk-parallel-item:only-child::after {width: 0;}#sk-container-id-5 div.sk-dashed-wrapped {border: 1px dashed gray;margin: 0 0.4em 0.5em 0.4em;box-sizing: border-box;padding-bottom: 0.4em;background-color: white;}#sk-container-id-5 div.sk-label label {font-family: monospace;font-weight: bold;display: inline-block;line-height: 1.2em;}#sk-container-id-5 div.sk-label-container {text-align: center;}#sk-container-id-5 div.sk-container {/* jupyter's `normalize.less` sets `[hidden] { display: none; }` but bootstrap.min.css set `[hidden] { display: none !important; }` so we also need the `!important` here to be able to override the default hidden behavior on the sphinx rendered scikit-learn.org. See: https://github.com/scikit-learn/scikit-learn/issues/21755 */display: inline-block !important;position: relative;}#sk-container-id-5 div.sk-text-repr-fallback {display: none;}</style><div id=\"sk-container-id-5\" class=\"sk-top-container\"><div class=\"sk-text-repr-fallback\"><pre>Pipeline(steps=[(&#x27;smote&#x27;,\n",
              "                 SMOTE(n_jobs=-1, random_state=12, sampling_strategy=1)),\n",
              "                (&#x27;lgbmclassifier&#x27;, LGBMClassifier())])</pre><b>In a Jupyter environment, please rerun this cell to show the HTML representation or trust the notebook. <br />On GitHub, the HTML representation is unable to render, please try loading this page with nbviewer.org.</b></div><div class=\"sk-container\" hidden><div class=\"sk-item sk-dashed-wrapped\"><div class=\"sk-label-container\"><div class=\"sk-label sk-toggleable\"><input class=\"sk-toggleable__control sk-hidden--visually\" id=\"sk-estimator-id-13\" type=\"checkbox\" ><label for=\"sk-estimator-id-13\" class=\"sk-toggleable__label sk-toggleable__label-arrow\">Pipeline</label><div class=\"sk-toggleable__content\"><pre>Pipeline(steps=[(&#x27;smote&#x27;,\n",
              "                 SMOTE(n_jobs=-1, random_state=12, sampling_strategy=1)),\n",
              "                (&#x27;lgbmclassifier&#x27;, LGBMClassifier())])</pre></div></div></div><div class=\"sk-serial\"><div class=\"sk-item\"><div class=\"sk-estimator sk-toggleable\"><input class=\"sk-toggleable__control sk-hidden--visually\" id=\"sk-estimator-id-14\" type=\"checkbox\" ><label for=\"sk-estimator-id-14\" class=\"sk-toggleable__label sk-toggleable__label-arrow\">SMOTE</label><div class=\"sk-toggleable__content\"><pre>SMOTE(n_jobs=-1, random_state=12, sampling_strategy=1)</pre></div></div></div><div class=\"sk-item\"><div class=\"sk-estimator sk-toggleable\"><input class=\"sk-toggleable__control sk-hidden--visually\" id=\"sk-estimator-id-15\" type=\"checkbox\" ><label for=\"sk-estimator-id-15\" class=\"sk-toggleable__label sk-toggleable__label-arrow\">LGBMClassifier</label><div class=\"sk-toggleable__content\"><pre>LGBMClassifier()</pre></div></div></div></div></div></div></div>"
            ]
          },
          "metadata": {},
          "execution_count": 64
        }
      ],
      "source": [
        "lgbm_pipeline = make_pipeline(SMOTE(sampling_strategy= 1 , random_state=12, n_jobs= -1), lgb.LGBMClassifier())\n",
        "\n",
        "lgbm_pipeline"
      ]
    },
    {
      "cell_type": "code",
      "execution_count": 65,
      "metadata": {
        "colab": {
          "base_uri": "https://localhost:8080/"
        },
        "id": "PU6jbaksUOt9",
        "outputId": "f1e90825-902b-4c11-96bd-f3760c9481ba"
      },
      "outputs": [
        {
          "output_type": "execute_result",
          "data": {
            "text/plain": [
              "array([0.9994363 , 0.9994363 , 1.        , 0.99943598, 0.9988726 ])"
            ]
          },
          "metadata": {},
          "execution_count": 65
        }
      ],
      "source": [
        "cross_val_score(lgbm_pipeline, X_train, y_train, scoring='recall', cv=kf, n_jobs=-1)"
      ]
    },
    {
      "cell_type": "code",
      "execution_count": 66,
      "metadata": {
        "colab": {
          "base_uri": "https://localhost:8080/"
        },
        "id": "dKOhajh5LlOm",
        "outputId": "a010e828-9297-44d7-8867-cd1dfcb7a351"
      },
      "outputs": [
        {
          "output_type": "stream",
          "name": "stderr",
          "text": [
            "/usr/local/lib/python3.10/dist-packages/imblearn/over_sampling/_smote/base.py:336: FutureWarning: The parameter `n_jobs` has been deprecated in 0.10 and will be removed in 0.12. You can pass an nearest neighbors estimator where `n_jobs` is already set instead.\n",
            "  warnings.warn(\n"
          ]
        },
        {
          "output_type": "stream",
          "name": "stdout",
          "text": [
            "=================GridSearch Result=================\n",
            "\n",
            "GridSearch Best Score_Recall: \n",
            "0.9997744572699219\n",
            "Best Hyperparameters: \n",
            "{'lgbmclassifier__learning_rate': 0.01, 'lgbmclassifier__max_depth': 5, 'lgbmclassifier__min_child_samples': 15, 'lgbmclassifier__n_estimators': 200, 'lgbmclassifier__num_leaves': 20, 'lgbmclassifier__reg_alpha': 0.01}\n",
            "\n",
            "===================================================\n",
            "CPU times: user 1min 11s, sys: 3.92 s, total: 1min 15s\n",
            "Wall time: 27min 6s\n"
          ]
        }
      ],
      "source": [
        "#GridSearch\n",
        "%%time\n",
        "\n",
        "lgbm_params = {\n",
        "    'n_estimators':[100, 200, 300],\n",
        "    'num_leaves':[20,60,100],\n",
        "    'max_depth':[5,10,15],\n",
        "    'min_child_samples':[5,10,15],\n",
        "    'learning_rate':[0.01, 0.05, 0.1],\n",
        "    'reg_alpha':[0,0.01,0.03]\n",
        "    }\n",
        "\n",
        "\n",
        "lgbm_new_params = {'lgbmclassifier__' + key: lgbm_params[key] for key in lgbm_params}\n",
        "\n",
        "lgbm_grid = GridSearchCV(lgbm_pipeline, param_grid= lgbm_new_params, cv=kf, scoring='recall', n_jobs=-1,\n",
        "                        return_train_score=True, verbose=0)\n",
        "\n",
        "#Fit\n",
        "lgbm_grid.fit(X_train, y_train)\n",
        "\n",
        "##the result of GridSearch\n",
        "\n",
        "  #Best Score: Recall\n",
        "lgbm_best = lgbm_grid.best_score_\n",
        "  #Optimized hyperparameters\n",
        "lgbm_opt_params = lgbm_grid.best_params_\n",
        "\n",
        "print(\"=================GridSearch Result=================\")\n",
        "print()\n",
        "print(f\"GridSearch Best Score_Recall: \\n{lgbm_best}\")\n",
        "print(f\"Best Hyperparameters: \\n{lgbm_opt_params}\")\n",
        "print()\n",
        "print(\"===================================================\")"
      ]
    },
    {
      "cell_type": "code",
      "execution_count": 67,
      "metadata": {
        "colab": {
          "base_uri": "https://localhost:8080/"
        },
        "id": "VPyw_ruSLlWU",
        "outputId": "1ff857b9-590c-42bb-a199-0fb9b3b22fb8"
      },
      "outputs": [
        {
          "output_type": "stream",
          "name": "stdout",
          "text": [
            "              precision    recall  f1-score   support\n",
            "\n",
            "           0       1.00      1.00      1.00     32798\n",
            "           1       1.00      1.00      1.00      4369\n",
            "\n",
            "    accuracy                           1.00     37167\n",
            "   macro avg       1.00      1.00      1.00     37167\n",
            "weighted avg       1.00      1.00      1.00     37167\n",
            "\n",
            "\n",
            "==================Evaluation Score==================\n",
            "test_Accuracy: \n",
            "0.9995426049990583\n",
            "test_F1: \n",
            "0.9980582524271845\n",
            "test_Recall: \n",
            "1.0\n",
            "test_Precision: \n",
            "0.9961240310077519\n",
            "===================================================\n"
          ]
        }
      ],
      "source": [
        "\n",
        "##Evaluate Model\n",
        "\n",
        "# Prediction using Estimator that was chosen by the GridSearch for testing dataset\n",
        "model_lgbm = lgbm_grid.best_estimator_\n",
        "lgbm_test_pre = model_lgbm.predict(X_test)\n",
        "\n",
        "lgbm_pre_accuracy = accuracy_score(y_test, lgbm_test_pre)\n",
        "lgbm_pre_f1 = f1_score(y_test, lgbm_test_pre)\n",
        "lgbm_recall= recall_score(y_test, lgbm_test_pre)\n",
        "lgbm_precision = precision_score(y_test, lgbm_test_pre)\n",
        "\n",
        "print(classification_report(y_test, lgbm_test_pre))\n",
        "print()\n",
        "print(\"==================Evaluation Score==================\")\n",
        "print(f\"test_Accuracy: \\n{lgbm_pre_accuracy}\")\n",
        "print(f\"test_F1: \\n{lgbm_pre_f1}\")\n",
        "print(f\"test_Recall: \\n{lgbm_recall}\")\n",
        "print(f\"test_Precision: \\n{lgbm_precision}\")\n",
        "print(\"===================================================\")"
      ]
    },
    {
      "cell_type": "code",
      "execution_count": 68,
      "metadata": {
        "colab": {
          "base_uri": "https://localhost:8080/"
        },
        "id": "_HV4hLZcNjzS",
        "outputId": "239a1553-53af-4044-c826-81a7ec9c65d3"
      },
      "outputs": [
        {
          "output_type": "execute_result",
          "data": {
            "text/plain": [
              "['/content/drive/MyDrive/adversarial trained models/ad_Lightgbm.pkl']"
            ]
          },
          "metadata": {},
          "execution_count": 68
        }
      ],
      "source": [
        "#Saving model\n",
        "joblib.dump(model_lgbm, \"/content/drive/MyDrive/adversarial trained models/ad_Lightgbm.pkl\")"
      ]
    },
    {
      "cell_type": "markdown",
      "metadata": {
        "id": "8K-RlxknRgdh"
      },
      "source": [
        "##Decision Tree"
      ]
    },
    {
      "cell_type": "code",
      "execution_count": 69,
      "metadata": {
        "colab": {
          "base_uri": "https://localhost:8080/",
          "height": 501
        },
        "id": "o05hs-ICLlZd",
        "outputId": "2cddcf64-e41f-4487-d6ce-5dc3003ef197"
      },
      "outputs": [
        {
          "output_type": "stream",
          "name": "stdout",
          "text": [
            "Optimal alpha value: 7.332536384139293e-05\n",
            "CPU times: user 22.3 s, sys: 0 ns, total: 22.3 s\n",
            "Wall time: 22.2 s\n"
          ]
        },
        {
          "output_type": "display_data",
          "data": {
            "text/plain": [
              "<Figure size 640x480 with 1 Axes>"
            ],
            "image/png": "[encoded data removed]"
          },
          "metadata": {}
        }
      ],
      "source": [
        "%%time\n",
        "\n",
        "dt = tree.DecisionTreeClassifier(criterion='entropy')\n",
        "\n",
        "path = dt.cost_complexity_pruning_path(X_train, y_train)\n",
        "\n",
        "ccp_alphas = path.ccp_alphas\n",
        "\n",
        "ccp_alphas = ccp_alphas[:-1] # exlude the maximum value\n",
        "\n",
        "alpha_loop_values = []\n",
        "\n",
        "for ccp_alpha in ccp_alphas:\n",
        "\n",
        "    dt = tree.DecisionTreeClassifier(criterion='entropy', ccp_alpha=ccp_alpha)\n",
        "\n",
        "    scores = cross_val_score(dt, X_train, y_train, scoring='recall', cv=kf)\n",
        "\n",
        "    alpha_loop_values.append([ccp_alpha, np.mean(scores), np.std(scores)])\n",
        "\n",
        "\n",
        "# Plot a graph of the means and standard deviations of the scores for each candidate\n",
        "alpha_results = pd.DataFrame(alpha_loop_values, columns=['alpha', 'mean_accuracy', 'std'])\n",
        "\n",
        "alpha_results.plot(x='alpha',\n",
        "                    y='mean_accuracy',\n",
        "                    yerr='std',\n",
        "                    marker='o',\n",
        "                    linestyle='--')\n",
        "\n",
        "ideal_ccp_alpha = alpha_results.sort_values(by=['mean_accuracy'], ascending=False).iloc[0]\n",
        "ideal_ccp_alpha = float(ideal_ccp_alpha['alpha'])\n",
        "print(f\"Optimal alpha value: {ideal_ccp_alpha}\")"
      ]
    },
    {
      "cell_type": "code",
      "execution_count": 70,
      "metadata": {
        "colab": {
          "base_uri": "https://localhost:8080/"
        },
        "id": "vzP4iLxrRm9q",
        "outputId": "a51e93e5-6c34-4045-c4bf-09c5d63f27ec"
      },
      "outputs": [
        {
          "output_type": "stream",
          "name": "stdout",
          "text": [
            "==================Evaluation Score==================\n",
            "Accuracy: 0.99995\n",
            "test_F1: \n",
            "0.999771167048055\n",
            "test_Recall: \n",
            "1.0\n",
            "test_Precision: \n",
            "0.9995424388011896\n",
            "===================================================\n"
          ]
        }
      ],
      "source": [
        "# build the optimum tree\n",
        "decision_tree = tree.DecisionTreeClassifier(criterion='entropy', ccp_alpha=ideal_ccp_alpha)\n",
        "decision_tree.fit(X_train, y_train)\n",
        "model_dt = decision_tree\n",
        "dt_test_pre = model_dt.predict(X_test)\n",
        "\n",
        "dt_accuracy = accuracy_score(y_test, dt_test_pre)\n",
        "dt_pre_f1 = f1_score(y_test, dt_test_pre)\n",
        "dt_recall= recall_score(y_test, dt_test_pre)\n",
        "dt_precision = precision_score(y_test, dt_test_pre)\n",
        "\n",
        "\n",
        "print(\"==================Evaluation Score==================\")\n",
        "print(f\"Accuracy: {dt_accuracy:.5f}\")\n",
        "print(f\"test_F1: \\n{dt_pre_f1}\")\n",
        "print(f\"test_Recall: \\n{dt_recall}\")\n",
        "print(f\"test_Precision: \\n{dt_precision}\")\n",
        "print(\"===================================================\")"
      ]
    },
    {
      "cell_type": "code",
      "execution_count": 71,
      "metadata": {
        "colab": {
          "base_uri": "https://localhost:8080/"
        },
        "id": "Oc1Zh9NiNasn",
        "outputId": "c14048f2-f2a8-4ef0-f440-ab2745cc59b8"
      },
      "outputs": [
        {
          "output_type": "execute_result",
          "data": {
            "text/plain": [
              "['/content/drive/MyDrive/adversarial trained models/ad_decisiontree.pkl']"
            ]
          },
          "metadata": {},
          "execution_count": 71
        }
      ],
      "source": [
        "#Saving model\n",
        "joblib.dump(model_dt, \"/content/drive/MyDrive/adversarial trained models/ad_decisiontree.pkl\")"
      ]
    },
    {
      "cell_type": "markdown",
      "metadata": {
        "id": "Xw-x6AT2d8c3"
      },
      "source": [
        "##Logistic Regression"
      ]
    },
    {
      "cell_type": "code",
      "execution_count": 72,
      "metadata": {
        "colab": {
          "base_uri": "https://localhost:8080/"
        },
        "id": "Mk9475QPeDfd",
        "outputId": "1de64489-9293-4b05-89b8-8eceb5d05afa"
      },
      "outputs": [
        {
          "output_type": "stream",
          "name": "stdout",
          "text": [
            "              precision    recall  f1-score   support\n",
            "\n",
            "           0       0.99      0.99      0.99     32798\n",
            "           1       0.94      0.96      0.95      4369\n",
            "\n",
            "    accuracy                           0.99     37167\n",
            "   macro avg       0.97      0.97      0.97     37167\n",
            "weighted avg       0.99      0.99      0.99     37167\n",
            "\n"
          ]
        }
      ],
      "source": [
        "##Baseline\n",
        "from sklearn.linear_model import LogisticRegression\n",
        "#the default hyperparameters\n",
        "lg = LogisticRegression()\n",
        "# Fit model\n",
        "lg .fit(X_train, y_train)\n",
        "\n",
        "#predict\n",
        "lg_pred = lg.predict(X_test)\n",
        "\n",
        "# print prediction results\n",
        "print(classification_report(y_test, lg_pred))"
      ]
    },
    {
      "cell_type": "code",
      "execution_count": 73,
      "metadata": {
        "colab": {
          "base_uri": "https://localhost:8080/",
          "height": 125
        },
        "id": "joKlAtmzUU-N",
        "outputId": "0b5ef617-035b-460a-980f-b9fd60f7d0ac"
      },
      "outputs": [
        {
          "output_type": "execute_result",
          "data": {
            "text/plain": [
              "Pipeline(steps=[('smote',\n",
              "                 SMOTE(n_jobs=-1, random_state=12, sampling_strategy=1)),\n",
              "                ('logisticregression', LogisticRegression())])"
            ],
            "text/html": [
              "<style>#sk-container-id-6 {color: black;background-color: white;}#sk-container-id-6 pre{padding: 0;}#sk-container-id-6 div.sk-toggleable {background-color: white;}#sk-container-id-6 label.sk-toggleable__label {cursor: pointer;display: block;width: 100%;margin-bottom: 0;padding: 0.3em;box-sizing: border-box;text-align: center;}#sk-container-id-6 label.sk-toggleable__label-arrow:before {content: \"▸\";float: left;margin-right: 0.25em;color: #696969;}#sk-container-id-6 label.sk-toggleable__label-arrow:hover:before {color: black;}#sk-container-id-6 div.sk-estimator:hover label.sk-toggleable__label-arrow:before {color: black;}#sk-container-id-6 div.sk-toggleable__content {max-height: 0;max-width: 0;overflow: hidden;text-align: left;background-color: #f0f8ff;}#sk-container-id-6 div.sk-toggleable__content pre {margin: 0.2em;color: black;border-radius: 0.25em;background-color: #f0f8ff;}#sk-container-id-6 input.sk-toggleable__control:checked~div.sk-toggleable__content {max-height: 200px;max-width: 100%;overflow: auto;}#sk-container-id-6 input.sk-toggleable__control:checked~label.sk-toggleable__label-arrow:before {content: \"▾\";}#sk-container-id-6 div.sk-estimator input.sk-toggleable__control:checked~label.sk-toggleable__label {background-color: #d4ebff;}#sk-container-id-6 div.sk-label input.sk-toggleable__control:checked~label.sk-toggleable__label {background-color: #d4ebff;}#sk-container-id-6 input.sk-hidden--visually {border: 0;clip: rect(1px 1px 1px 1px);clip: rect(1px, 1px, 1px, 1px);height: 1px;margin: -1px;overflow: hidden;padding: 0;position: absolute;width: 1px;}#sk-container-id-6 div.sk-estimator {font-family: monospace;background-color: #f0f8ff;border: 1px dotted black;border-radius: 0.25em;box-sizing: border-box;margin-bottom: 0.5em;}#sk-container-id-6 div.sk-estimator:hover {background-color: #d4ebff;}#sk-container-id-6 div.sk-parallel-item::after {content: \"\";width: 100%;border-bottom: 1px solid gray;flex-grow: 1;}#sk-container-id-6 div.sk-label:hover label.sk-toggleable__label {background-color: #d4ebff;}#sk-container-id-6 div.sk-serial::before {content: \"\";position: absolute;border-left: 1px solid gray;box-sizing: border-box;top: 0;bottom: 0;left: 50%;z-index: 0;}#sk-container-id-6 div.sk-serial {display: flex;flex-direction: column;align-items: center;background-color: white;padding-right: 0.2em;padding-left: 0.2em;position: relative;}#sk-container-id-6 div.sk-item {position: relative;z-index: 1;}#sk-container-id-6 div.sk-parallel {display: flex;align-items: stretch;justify-content: center;background-color: white;position: relative;}#sk-container-id-6 div.sk-item::before, #sk-container-id-6 div.sk-parallel-item::before {content: \"\";position: absolute;border-left: 1px solid gray;box-sizing: border-box;top: 0;bottom: 0;left: 50%;z-index: -1;}#sk-container-id-6 div.sk-parallel-item {display: flex;flex-direction: column;z-index: 1;position: relative;background-color: white;}#sk-container-id-6 div.sk-parallel-item:first-child::after {align-self: flex-end;width: 50%;}#sk-container-id-6 div.sk-parallel-item:last-child::after {align-self: flex-start;width: 50%;}#sk-container-id-6 div.sk-parallel-item:only-child::after {width: 0;}#sk-container-id-6 div.sk-dashed-wrapped {border: 1px dashed gray;margin: 0 0.4em 0.5em 0.4em;box-sizing: border-box;padding-bottom: 0.4em;background-color: white;}#sk-container-id-6 div.sk-label label {font-family: monospace;font-weight: bold;display: inline-block;line-height: 1.2em;}#sk-container-id-6 div.sk-label-container {text-align: center;}#sk-container-id-6 div.sk-container {/* jupyter's `normalize.less` sets `[hidden] { display: none; }` but bootstrap.min.css set `[hidden] { display: none !important; }` so we also need the `!important` here to be able to override the default hidden behavior on the sphinx rendered scikit-learn.org. See: https://github.com/scikit-learn/scikit-learn/issues/21755 */display: inline-block !important;position: relative;}#sk-container-id-6 div.sk-text-repr-fallback {display: none;}</style><div id=\"sk-container-id-6\" class=\"sk-top-container\"><div class=\"sk-text-repr-fallback\"><pre>Pipeline(steps=[(&#x27;smote&#x27;,\n",
              "                 SMOTE(n_jobs=-1, random_state=12, sampling_strategy=1)),\n",
              "                (&#x27;logisticregression&#x27;, LogisticRegression())])</pre><b>In a Jupyter environment, please rerun this cell to show the HTML representation or trust the notebook. <br />On GitHub, the HTML representation is unable to render, please try loading this page with nbviewer.org.</b></div><div class=\"sk-container\" hidden><div class=\"sk-item sk-dashed-wrapped\"><div class=\"sk-label-container\"><div class=\"sk-label sk-toggleable\"><input class=\"sk-toggleable__control sk-hidden--visually\" id=\"sk-estimator-id-16\" type=\"checkbox\" ><label for=\"sk-estimator-id-16\" class=\"sk-toggleable__label sk-toggleable__label-arrow\">Pipeline</label><div class=\"sk-toggleable__content\"><pre>Pipeline(steps=[(&#x27;smote&#x27;,\n",
              "                 SMOTE(n_jobs=-1, random_state=12, sampling_strategy=1)),\n",
              "                (&#x27;logisticregression&#x27;, LogisticRegression())])</pre></div></div></div><div class=\"sk-serial\"><div class=\"sk-item\"><div class=\"sk-estimator sk-toggleable\"><input class=\"sk-toggleable__control sk-hidden--visually\" id=\"sk-estimator-id-17\" type=\"checkbox\" ><label for=\"sk-estimator-id-17\" class=\"sk-toggleable__label sk-toggleable__label-arrow\">SMOTE</label><div class=\"sk-toggleable__content\"><pre>SMOTE(n_jobs=-1, random_state=12, sampling_strategy=1)</pre></div></div></div><div class=\"sk-item\"><div class=\"sk-estimator sk-toggleable\"><input class=\"sk-toggleable__control sk-hidden--visually\" id=\"sk-estimator-id-18\" type=\"checkbox\" ><label for=\"sk-estimator-id-18\" class=\"sk-toggleable__label sk-toggleable__label-arrow\">LogisticRegression</label><div class=\"sk-toggleable__content\"><pre>LogisticRegression()</pre></div></div></div></div></div></div></div>"
            ]
          },
          "metadata": {},
          "execution_count": 73
        }
      ],
      "source": [
        "lg_pipeline = make_pipeline(SMOTE(sampling_strategy= 1 , random_state=12, n_jobs= -1), LogisticRegression())\n",
        "\n",
        "lg_pipeline"
      ]
    },
    {
      "cell_type": "code",
      "execution_count": 74,
      "metadata": {
        "colab": {
          "base_uri": "https://localhost:8080/"
        },
        "id": "N4KuZGAzY5M0",
        "outputId": "d095140c-f28e-4f61-a297-d52994a37740"
      },
      "outputs": [
        {
          "output_type": "execute_result",
          "data": {
            "text/plain": [
              "array([0.99492672, 0.98985344, 0.99210823, 0.99097575, 0.98928974])"
            ]
          },
          "metadata": {},
          "execution_count": 74
        }
      ],
      "source": [
        "cross_val_score(lg_pipeline, X_train, y_train, scoring='recall', cv=kf, n_jobs=-1)"
      ]
    },
    {
      "cell_type": "code",
      "execution_count": 75,
      "metadata": {
        "id": "1QjFtf_deGg-",
        "colab": {
          "base_uri": "https://localhost:8080/"
        },
        "outputId": "8234fb3c-30ae-4ec5-b29c-b90b27076a05"
      },
      "outputs": [
        {
          "output_type": "stream",
          "name": "stderr",
          "text": [
            "/usr/local/lib/python3.10/dist-packages/imblearn/over_sampling/_smote/base.py:336: FutureWarning: The parameter `n_jobs` has been deprecated in 0.10 and will be removed in 0.12. You can pass an nearest neighbors estimator where `n_jobs` is already set instead.\n",
            "  warnings.warn(\n",
            "/usr/local/lib/python3.10/dist-packages/sklearn/linear_model/_logistic.py:1173: FutureWarning: `penalty='none'`has been deprecated in 1.2 and will be removed in 1.4. To keep the past behaviour, set `penalty=None`.\n",
            "  warnings.warn(\n"
          ]
        },
        {
          "output_type": "stream",
          "name": "stdout",
          "text": [
            "=================GridSearch Result=================\n",
            "\n",
            "GridSearch Best Score_Recall: \n",
            "0.9915435147403968\n",
            "Best Hyperparameters: \n",
            "{'logisticregression__C': 1, 'logisticregression__max_iter': 500, 'logisticregression__penalty': 'none', 'logisticregression__solver': 'lbfgs'}\n",
            "\n",
            "===================================================\n",
            "CPU times: user 20.2 s, sys: 37.1 s, total: 57.2 s\n",
            "Wall time: 18min 55s\n"
          ]
        }
      ],
      "source": [
        "#GridSearch\n",
        "%%time\n",
        "\n",
        "lg_params =  {'penalty':['l2', 'none'],\n",
        "             'C':[1,10, 100, 1000],\n",
        "             'max_iter':[500, 1000, 1500],\n",
        "             'solver' : ['lbfgs', 'sag', 'saga']\n",
        "             }\n",
        "\n",
        "\n",
        "lg_new_params = {'logisticregression__' + key: lg_params[key] for key in lg_params}\n",
        "\n",
        "lg_grid = GridSearchCV(lg_pipeline, param_grid= lg_new_params, cv=kf, scoring='recall', n_jobs=-1,\n",
        "                        return_train_score=True, verbose=0)\n",
        "\n",
        "#Fit\n",
        "lg_grid.fit(X_train, y_train)\n",
        "\n",
        "##the result of GridSearch\n",
        "\n",
        "  #Best Score: Recall\n",
        "lg_best = lg_grid.best_score_\n",
        "  #Optimized hyperparameters\n",
        "lg_opt_params = lg_grid.best_params_\n",
        "\n",
        "print(\"=================GridSearch Result=================\")\n",
        "print()\n",
        "print(f\"GridSearch Best Score_Recall: \\n{lg_best}\")\n",
        "print(f\"Best Hyperparameters: \\n{lg_opt_params}\")\n",
        "print()\n",
        "print(\"===================================================\")"
      ]
    },
    {
      "cell_type": "code",
      "execution_count": 76,
      "metadata": {
        "colab": {
          "base_uri": "https://localhost:8080/"
        },
        "id": "KOpou32HeK5m",
        "outputId": "a7559ffd-6d9f-46f3-a5eb-4165b17285dc"
      },
      "outputs": [
        {
          "output_type": "stream",
          "name": "stdout",
          "text": [
            "              precision    recall  f1-score   support\n",
            "\n",
            "           0       1.00      0.99      0.99     32798\n",
            "           1       0.92      0.99      0.95      4369\n",
            "\n",
            "    accuracy                           0.99     37167\n",
            "   macro avg       0.96      0.99      0.97     37167\n",
            "weighted avg       0.99      0.99      0.99     37167\n",
            "\n",
            "\n",
            "==================Evaluation Score==================\n",
            "test_Accuracy: \n",
            "0.9882422579169694\n",
            "test_F1: \n",
            "0.9518881426841354\n",
            "test_Recall: \n",
            "0.9894712748912795\n",
            "test_Precision: \n",
            "0.9170555791260077\n",
            "===================================================\n"
          ]
        }
      ],
      "source": [
        "##Evaluate Model\n",
        "\n",
        "# Prediction using Estimator that was chosen by the GridSearch for testing dataset\n",
        "model_lg = lg_grid.best_estimator_\n",
        "\n",
        "lg_test_pre = model_lg.predict(X_test)\n",
        "\n",
        "lg_pre_accuracy = accuracy_score(y_test, lg_test_pre)\n",
        "lg_pre_f1 = f1_score(y_test, lg_test_pre)\n",
        "lg_recall= recall_score(y_test, lg_test_pre)\n",
        "lg_precision = precision_score(y_test, lg_test_pre)\n",
        "\n",
        "print(classification_report(y_test, lg_test_pre))\n",
        "print()\n",
        "print(\"==================Evaluation Score==================\")\n",
        "print(f\"test_Accuracy: \\n{lg_pre_accuracy}\")\n",
        "print(f\"test_F1: \\n{lg_pre_f1}\")\n",
        "print(f\"test_Recall: \\n{lg_recall}\")\n",
        "print(f\"test_Precision: \\n{lg_precision}\")\n",
        "print(\"===================================================\")"
      ]
    },
    {
      "cell_type": "code",
      "execution_count": 77,
      "metadata": {
        "colab": {
          "base_uri": "https://localhost:8080/"
        },
        "id": "CZlI-hwoM4sg",
        "outputId": "ff0aa689-d223-4fc3-de45-af02c53fc7e0"
      },
      "outputs": [
        {
          "output_type": "execute_result",
          "data": {
            "text/plain": [
              "['/content/drive/MyDrive/adversarial trained models/ad_logisticregression.pkl']"
            ]
          },
          "metadata": {},
          "execution_count": 77
        }
      ],
      "source": [
        "#Saving model\n",
        "joblib.dump(model_lg, \"/content/drive/MyDrive/adversarial trained models/ad_logisticregression.pkl\")"
      ]
    },
    {
      "cell_type": "code",
      "source": [],
      "metadata": {
        "id": "Bg7R99N5hFJg"
      },
      "execution_count": null,
      "outputs": []
    }
  ]
}